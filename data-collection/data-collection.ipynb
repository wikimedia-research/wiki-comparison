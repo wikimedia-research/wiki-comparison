{
 "cells": [
  {
   "cell_type": "code",
   "execution_count": 107,
   "metadata": {},
   "outputs": [],
   "source": [
    "import datetime as dt\n",
    "import json\n",
    "import re\n",
    "\n",
    "import numpy as np\n",
    "import pandas as pd\n",
    "import requests\n",
    "import xlsxwriter\n",
    "\n",
    "import wmfdata as wmf\n",
    "from wmfdata.utils import get_dblist"
   ]
  },
  {
   "cell_type": "markdown",
   "metadata": {},
   "source": [
    "# Parameters"
   ]
  },
  {
   "cell_type": "code",
   "execution_count": 2,
   "metadata": {},
   "outputs": [],
   "source": [
    "# Data will be generated for the 12 months beginning with START\n",
    "START = \"2021-01\"\n",
    "\n",
    "# An ordered list of wikis for which to output each metric after it is generated. \n",
    "# This is useful for spot checking the values generated against the previous snapshot.\n",
    "WIKIS_TO_CHECK = [\n",
    "    \"enwiki\",\n",
    "    \"eswiki\",\n",
    "    \"dewiki\",\n",
    "    \"jawiki\",\n",
    "    \"frwiki\",\n",
    "    \"commonswiki\"\n",
    "]"
   ]
  },
  {
   "cell_type": "markdown",
   "metadata": {},
   "source": [
    "# Date manipulation"
   ]
  },
  {
   "cell_type": "code",
   "execution_count": 3,
   "metadata": {},
   "outputs": [],
   "source": [
    "start = dt.datetime.strptime(START, \"%Y-%m\")\n",
    "end = start.replace(year=start.year + 1)\n",
    "last_month = dt.date.today().replace(day=1) - dt.timedelta(days=1)\n",
    "# Used to name the output files\n",
    "file_stem = (end - dt.timedelta(days=1)).strftime(\"%b %Y\")\n",
    "\n",
    "# Queries run for time >= start and time < end \n",
    "query_vars = dict(\n",
    "    snapshot = last_month.strftime(\"%Y-%m\"),\n",
    "    start = start.strftime('%Y-%m-%d'), \n",
    "    end = end.strftime('%Y-%m-%d'),\n",
    "    ym_start = start.strftime(\"%Y-%m\"),\n",
    "    ym_end = end.strftime(\"%Y-%m\"),\n",
    "    pv_start = start.strftime(\"%Y%m\"),\n",
    "    pv_end = end.strftime(\"%Y%m\")\n",
    ")"
   ]
  },
  {
   "cell_type": "markdown",
   "metadata": {},
   "source": [
    "# List of wikis"
   ]
  },
  {
   "cell_type": "code",
   "execution_count": 4,
   "metadata": {},
   "outputs": [
    {
     "name": "stderr",
     "output_type": "stream",
     "text": [
      "PySpark executors will use /usr/lib/anaconda-wmf/bin/python3.\n"
     ]
    },
    {
     "name": "stdout",
     "output_type": "stream",
     "text": [
      "PYSPARK_PYTHON=/usr/lib/anaconda-wmf/bin/python3\n"
     ]
    },
    {
     "name": "stderr",
     "output_type": "stream",
     "text": [
      "SLF4J: Class path contains multiple SLF4J bindings.\n",
      "SLF4J: Found binding in [jar:file:/usr/lib/spark2/jars/slf4j-log4j12-1.7.16.jar!/org/slf4j/impl/StaticLoggerBinder.class]\n",
      "SLF4J: Found binding in [jar:file:/usr/lib/hadoop/lib/slf4j-log4j12-1.7.25.jar!/org/slf4j/impl/StaticLoggerBinder.class]\n",
      "SLF4J: See http://www.slf4j.org/codes.html#multiple_bindings for an explanation.\n",
      "SLF4J: Actual binding is of type [org.slf4j.impl.Log4jLoggerFactory]\n",
      "Setting default log level to \"WARN\".\n",
      "To adjust logging level use sc.setLogLevel(newLevel). For SparkR, use setLogLevel(newLevel).\n",
      "22/01/15 01:12:29 WARN SparkConf: Note that spark.local.dir will be overridden by the value set by the cluster manager (via SPARK_LOCAL_DIRS in mesos/standalone/kubernetes and LOCAL_DIRS in YARN).\n",
      "22/01/15 01:12:30 WARN Utils: Service 'sparkDriver' could not bind on port 12000. Attempting port 12001.\n",
      "22/01/15 01:12:30 WARN Utils: Service 'sparkDriver' could not bind on port 12001. Attempting port 12002.\n",
      "22/01/15 01:12:30 WARN Utils: Service 'sparkDriver' could not bind on port 12002. Attempting port 12003.\n",
      "22/01/15 01:12:30 WARN Utils: Service 'sparkDriver' could not bind on port 12003. Attempting port 12004.\n",
      "22/01/15 01:12:30 WARN Utils: Service 'SparkUI' could not bind on port 4040. Attempting port 4041.\n",
      "22/01/15 01:12:30 WARN Utils: Service 'SparkUI' could not bind on port 4041. Attempting port 4042.\n",
      "22/01/15 01:12:30 WARN Utils: Service 'SparkUI' could not bind on port 4042. Attempting port 4043.\n",
      "22/01/15 01:12:30 WARN Utils: Service 'SparkUI' could not bind on port 4043. Attempting port 4044.\n",
      "22/01/15 01:12:39 WARN Utils: Service 'org.apache.spark.network.netty.NettyBlockTransferService' could not bind on port 13000. Attempting port 13001.\n",
      "22/01/15 01:12:39 WARN Utils: Service 'org.apache.spark.network.netty.NettyBlockTransferService' could not bind on port 13001. Attempting port 13002.\n",
      "22/01/15 01:12:39 WARN Utils: Service 'org.apache.spark.network.netty.NettyBlockTransferService' could not bind on port 13002. Attempting port 13003.\n",
      "22/01/15 01:12:39 WARN Utils: Service 'org.apache.spark.network.netty.NettyBlockTransferService' could not bind on port 13003. Attempting port 13004.\n",
      "                                                                                \r"
     ]
    }
   ],
   "source": [
    "# Gather all content wikis\n",
    "wikis = wmf.spark.run(\"\"\"\n",
    "SELECT\n",
    "  database_code,\n",
    "  database_group AS project_code,\n",
    "  language_code,\n",
    "  domain_name,\n",
    "  language_name,\n",
    "  english_name as wiki_name\n",
    "FROM canonical_data.wikis\n",
    "WHERE\n",
    "  database_group IN (\n",
    "    \"commons\", \"incubator\", \"foundation\", \"mediawiki\", \"meta\", \"sources\",\n",
    "    \"species\",\"wikibooks\", \"wikidata\", \"wikinews\", \"wikipedia\", \"wikiquote\",\n",
    "    \"wikisource\", \"wikiversity\", \"wikivoyage\", \"wiktionary\"\n",
    "  )\n",
    "  AND status = \"open\"\n",
    "  AND visibility = \"public\"\n",
    "  AND editability = \"public\"\n",
    "\"\"\", session_type=\"yarn-large\")"
   ]
  },
  {
   "cell_type": "markdown",
   "metadata": {},
   "source": [
    "# Data"
   ]
  },
  {
   "cell_type": "code",
   "execution_count": 5,
   "metadata": {},
   "outputs": [],
   "source": [
    "def merge_in(df, on=\"database_code\"):\n",
    "    global wikis\n",
    "    wikis = pd.merge(wikis, df, how=\"left\", on=on).fillna(0)\n",
    "\n",
    "wikis_to_check = (\n",
    "    pd.DataFrame({\"database_code\": WIKIS_TO_CHECK})\n",
    "    .merge(wikis, how=\"left\", on=\"database_code\")\n",
    ")\n",
    "\n",
    "def check(df, index_col=\"database_code\"):\n",
    "    indexes = wikis_to_check[index_col].to_frame()\n",
    "    return indexes.merge(df, how=\"left\", on=index_col)"
   ]
  },
  {
   "cell_type": "markdown",
   "metadata": {},
   "source": [
    "## Monthly active editors"
   ]
  },
  {
   "cell_type": "code",
   "execution_count": 6,
   "metadata": {},
   "outputs": [
    {
     "name": "stderr",
     "output_type": "stream",
     "text": [
      "PySpark executors will use /usr/lib/anaconda-wmf/bin/python3.\n",
      "22/01/15 01:14:43 WARN SharedInMemoryCache: Evicting cached table partition metadata from memory due to size constraints (spark.sql.hive.filesourcePartitionFileCacheSize = 262144000 bytes). This may impact query planning performance.\n",
      "                                                                                \r"
     ]
    }
   ],
   "source": [
    "mae = wmf.spark.run(\"\"\"\n",
    "SELECT\n",
    "    wiki AS database_code,\n",
    "    COUNT(*) / 12 AS monthly_active_editors,\n",
    "    SUM(\n",
    "        CAST(TRUNC(user_registration, 'MM') = TRUNC(month, 'MM') AS INT)\n",
    "    )/ 12 AS monthly_new_active_editors\n",
    "FROM neilpquinn.editor_month\n",
    "WHERE\n",
    "    content_edits >= 5 \n",
    "    AND month >= \"{start}\" \n",
    "    AND month < \"{end}\" \n",
    "    AND user_id != 0 \n",
    "    AND bot_by_group = FALSE \n",
    "    AND (\n",
    "        user_name NOT REGEXP \"bot\\\\b\"\n",
    "        OR user_name IN (\"Paucabot\", \"Niabot\", \"Marbot\")    \n",
    "    )    \n",
    "GROUP BY wiki\n",
    "\"\"\".format(**query_vars))"
   ]
  },
  {
   "cell_type": "code",
   "execution_count": 7,
   "metadata": {},
   "outputs": [
    {
     "data": {
      "text/html": [
       "<div>\n",
       "<style scoped>\n",
       "    .dataframe tbody tr th:only-of-type {\n",
       "        vertical-align: middle;\n",
       "    }\n",
       "\n",
       "    .dataframe tbody tr th {\n",
       "        vertical-align: top;\n",
       "    }\n",
       "\n",
       "    .dataframe thead th {\n",
       "        text-align: right;\n",
       "    }\n",
       "</style>\n",
       "<table border=\"1\" class=\"dataframe\">\n",
       "  <thead>\n",
       "    <tr style=\"text-align: right;\">\n",
       "      <th></th>\n",
       "      <th>database_code</th>\n",
       "      <th>monthly_active_editors</th>\n",
       "      <th>monthly_new_active_editors</th>\n",
       "    </tr>\n",
       "  </thead>\n",
       "  <tbody>\n",
       "    <tr>\n",
       "      <th>0</th>\n",
       "      <td>enwiki</td>\n",
       "      <td>32804.583333</td>\n",
       "      <td>4946.416667</td>\n",
       "    </tr>\n",
       "    <tr>\n",
       "      <th>1</th>\n",
       "      <td>eswiki</td>\n",
       "      <td>4644.333333</td>\n",
       "      <td>1036.583333</td>\n",
       "    </tr>\n",
       "    <tr>\n",
       "      <th>2</th>\n",
       "      <td>dewiki</td>\n",
       "      <td>5523.833333</td>\n",
       "      <td>434.000000</td>\n",
       "    </tr>\n",
       "    <tr>\n",
       "      <th>3</th>\n",
       "      <td>jawiki</td>\n",
       "      <td>5389.333333</td>\n",
       "      <td>876.500000</td>\n",
       "    </tr>\n",
       "    <tr>\n",
       "      <th>4</th>\n",
       "      <td>frwiki</td>\n",
       "      <td>5199.333333</td>\n",
       "      <td>782.000000</td>\n",
       "    </tr>\n",
       "    <tr>\n",
       "      <th>5</th>\n",
       "      <td>commonswiki</td>\n",
       "      <td>14311.000000</td>\n",
       "      <td>3653.916667</td>\n",
       "    </tr>\n",
       "  </tbody>\n",
       "</table>\n",
       "</div>"
      ],
      "text/plain": [
       "  database_code  monthly_active_editors  monthly_new_active_editors\n",
       "0        enwiki            32804.583333                 4946.416667\n",
       "1        eswiki             4644.333333                 1036.583333\n",
       "2        dewiki             5523.833333                  434.000000\n",
       "3        jawiki             5389.333333                  876.500000\n",
       "4        frwiki             5199.333333                  782.000000\n",
       "5   commonswiki            14311.000000                 3653.916667"
      ]
     },
     "execution_count": 7,
     "metadata": {},
     "output_type": "execute_result"
    }
   ],
   "source": [
    "check(mae)"
   ]
  },
  {
   "cell_type": "code",
   "execution_count": 8,
   "metadata": {},
   "outputs": [],
   "source": [
    "merge_in(mae)"
   ]
  },
  {
   "cell_type": "markdown",
   "metadata": {},
   "source": [
    "## Unique devices"
   ]
  },
  {
   "cell_type": "code",
   "execution_count": 9,
   "metadata": {},
   "outputs": [
    {
     "name": "stderr",
     "output_type": "stream",
     "text": [
      "PySpark executors will use /usr/lib/anaconda-wmf/bin/python3.\n",
      "                                                                                \r"
     ]
    }
   ],
   "source": [
    "ud = wmf.spark.run(\"\"\"\n",
    "SELECT\n",
    "    -- Strip mobile subdomains so mobile and desktop sites are combined. \n",
    "    REGEXP_REPLACE(\n",
    "        REGEXP_REPLACE(\n",
    "            -- The canonical domains for Wikidata and MediaWiki.org start with `www`, which \n",
    "            -- gets _replaced_ by the mobile subdomain. Combine the two possibilites for each site.\n",
    "            REGEXP_REPLACE(\n",
    "                REGEXP_REPLACE(domain, \"^m\\\\\\\\.wikidata\", \"www.wikidata\"),\n",
    "            \"^m\\\\\\\\.mediawiki\", \"www.mediawiki\"),\n",
    "        \"^m\\\\\\\\.\", \"\"),\n",
    "    \"\\\\\\\\.m\\\\\\\\.\", \".\") AS domain_name,\n",
    "    SUM(uniques_estimate) / 12 AS monthly_unique_devices,\n",
    "    SUM(IF(\n",
    "        (domain REGEXP \"^m\\\\\\\\.\" OR  domain REGEXP \"\\\\\\\\.m\\\\\\\\.\"),\n",
    "        uniques_estimate,\n",
    "        0\n",
    "    )) / SUM(uniques_estimate) AS mobile_unique_devices\n",
    "FROM wmf.unique_devices_per_domain_monthly\n",
    "WHERE \n",
    "    CONCAT(year, LPAD(month, 2, \"0\")) >= \"{pv_start}\" \n",
    "    AND CONCAT(year, LPAD(month, 2, \"0\")) < \"{pv_end}\"  \n",
    "GROUP BY    \n",
    "    REGEXP_REPLACE(\n",
    "        REGEXP_REPLACE(\n",
    "            -- The canonical domains for Wikidata and MediaWiki.org start with `www`, which \n",
    "            -- gets _replaced_ by the mobile subdomain. Combine the two possibilites for each site.\n",
    "            REGEXP_REPLACE(\n",
    "                REGEXP_REPLACE(domain, \"^m\\\\\\\\.wikidata\", \"www.wikidata\"),\n",
    "            \"^m\\\\\\\\.mediawiki\", \"www.mediawiki\"),\n",
    "        \"^m\\\\\\\\.\", \"\"),\n",
    "    \"\\\\\\\\.m\\\\\\\\.\", \".\")\n",
    "\"\"\".format(**query_vars))"
   ]
  },
  {
   "cell_type": "code",
   "execution_count": 10,
   "metadata": {},
   "outputs": [
    {
     "data": {
      "text/html": [
       "<div>\n",
       "<style scoped>\n",
       "    .dataframe tbody tr th:only-of-type {\n",
       "        vertical-align: middle;\n",
       "    }\n",
       "\n",
       "    .dataframe tbody tr th {\n",
       "        vertical-align: top;\n",
       "    }\n",
       "\n",
       "    .dataframe thead th {\n",
       "        text-align: right;\n",
       "    }\n",
       "</style>\n",
       "<table border=\"1\" class=\"dataframe\">\n",
       "  <thead>\n",
       "    <tr style=\"text-align: right;\">\n",
       "      <th></th>\n",
       "      <th>domain_name</th>\n",
       "      <th>monthly_unique_devices</th>\n",
       "      <th>mobile_unique_devices</th>\n",
       "    </tr>\n",
       "  </thead>\n",
       "  <tbody>\n",
       "    <tr>\n",
       "      <th>0</th>\n",
       "      <td>en.wikipedia.org</td>\n",
       "      <td>8.093526e+08</td>\n",
       "      <td>0.696283</td>\n",
       "    </tr>\n",
       "    <tr>\n",
       "      <th>1</th>\n",
       "      <td>es.wikipedia.org</td>\n",
       "      <td>1.573251e+08</td>\n",
       "      <td>0.708869</td>\n",
       "    </tr>\n",
       "    <tr>\n",
       "      <th>2</th>\n",
       "      <td>de.wikipedia.org</td>\n",
       "      <td>1.047216e+08</td>\n",
       "      <td>0.605649</td>\n",
       "    </tr>\n",
       "    <tr>\n",
       "      <th>3</th>\n",
       "      <td>ja.wikipedia.org</td>\n",
       "      <td>1.075370e+08</td>\n",
       "      <td>0.734168</td>\n",
       "    </tr>\n",
       "    <tr>\n",
       "      <th>4</th>\n",
       "      <td>fr.wikipedia.org</td>\n",
       "      <td>9.424073e+07</td>\n",
       "      <td>0.653896</td>\n",
       "    </tr>\n",
       "    <tr>\n",
       "      <th>5</th>\n",
       "      <td>commons.wikimedia.org</td>\n",
       "      <td>2.214765e+07</td>\n",
       "      <td>0.509546</td>\n",
       "    </tr>\n",
       "  </tbody>\n",
       "</table>\n",
       "</div>"
      ],
      "text/plain": [
       "             domain_name  monthly_unique_devices  mobile_unique_devices\n",
       "0       en.wikipedia.org            8.093526e+08               0.696283\n",
       "1       es.wikipedia.org            1.573251e+08               0.708869\n",
       "2       de.wikipedia.org            1.047216e+08               0.605649\n",
       "3       ja.wikipedia.org            1.075370e+08               0.734168\n",
       "4       fr.wikipedia.org            9.424073e+07               0.653896\n",
       "5  commons.wikimedia.org            2.214765e+07               0.509546"
      ]
     },
     "execution_count": 10,
     "metadata": {},
     "output_type": "execute_result"
    }
   ],
   "source": [
    "check(ud, index_col=\"domain_name\")"
   ]
  },
  {
   "cell_type": "code",
   "execution_count": 11,
   "metadata": {},
   "outputs": [],
   "source": [
    "merge_in(ud, on=\"domain_name\")"
   ]
  },
  {
   "cell_type": "markdown",
   "metadata": {},
   "source": [
    "## Overall size rank"
   ]
  },
  {
   "cell_type": "code",
   "execution_count": 12,
   "metadata": {},
   "outputs": [],
   "source": [
    "size = np.sqrt(wikis[\"monthly_unique_devices\"] * wikis[\"monthly_active_editors\"])\n",
    "rank = size.rank(method=\"min\", na_option=\"bottom\", ascending=False)\n",
    "wikis[\"overall_size_rank\"] = rank"
   ]
  },
  {
   "cell_type": "markdown",
   "metadata": {},
   "source": [
    "## New editor retention"
   ]
  },
  {
   "cell_type": "code",
   "execution_count": 13,
   "metadata": {},
   "outputs": [
    {
     "name": "stderr",
     "output_type": "stream",
     "text": [
      "PySpark executors will use /usr/lib/anaconda-wmf/bin/python3.\n",
      "                                                                                \r"
     ]
    }
   ],
   "source": [
    "with open(\"queries/new_editor_retention.hql\") as f:\n",
    "    q = f.read()\n",
    "\n",
    "ner = wmf.spark.run(\n",
    "    q.format(**query_vars)\n",
    ")"
   ]
  },
  {
   "cell_type": "code",
   "execution_count": 14,
   "metadata": {},
   "outputs": [
    {
     "data": {
      "text/html": [
       "<div>\n",
       "<style scoped>\n",
       "    .dataframe tbody tr th:only-of-type {\n",
       "        vertical-align: middle;\n",
       "    }\n",
       "\n",
       "    .dataframe tbody tr th {\n",
       "        vertical-align: top;\n",
       "    }\n",
       "\n",
       "    .dataframe thead th {\n",
       "        text-align: right;\n",
       "    }\n",
       "</style>\n",
       "<table border=\"1\" class=\"dataframe\">\n",
       "  <thead>\n",
       "    <tr style=\"text-align: right;\">\n",
       "      <th></th>\n",
       "      <th>database_code</th>\n",
       "      <th>second_month_new_editor_retention</th>\n",
       "    </tr>\n",
       "  </thead>\n",
       "  <tbody>\n",
       "    <tr>\n",
       "      <th>0</th>\n",
       "      <td>enwiki</td>\n",
       "      <td>0.074592</td>\n",
       "    </tr>\n",
       "    <tr>\n",
       "      <th>1</th>\n",
       "      <td>eswiki</td>\n",
       "      <td>0.051678</td>\n",
       "    </tr>\n",
       "    <tr>\n",
       "      <th>2</th>\n",
       "      <td>dewiki</td>\n",
       "      <td>0.072817</td>\n",
       "    </tr>\n",
       "    <tr>\n",
       "      <th>3</th>\n",
       "      <td>jawiki</td>\n",
       "      <td>0.108500</td>\n",
       "    </tr>\n",
       "    <tr>\n",
       "      <th>4</th>\n",
       "      <td>frwiki</td>\n",
       "      <td>0.057455</td>\n",
       "    </tr>\n",
       "    <tr>\n",
       "      <th>5</th>\n",
       "      <td>commonswiki</td>\n",
       "      <td>0.033101</td>\n",
       "    </tr>\n",
       "  </tbody>\n",
       "</table>\n",
       "</div>"
      ],
      "text/plain": [
       "  database_code  second_month_new_editor_retention\n",
       "0        enwiki                           0.074592\n",
       "1        eswiki                           0.051678\n",
       "2        dewiki                           0.072817\n",
       "3        jawiki                           0.108500\n",
       "4        frwiki                           0.057455\n",
       "5   commonswiki                           0.033101"
      ]
     },
     "execution_count": 14,
     "metadata": {},
     "output_type": "execute_result"
    }
   ],
   "source": [
    "check(ner, \"database_code\")"
   ]
  },
  {
   "cell_type": "code",
   "execution_count": 15,
   "metadata": {},
   "outputs": [],
   "source": [
    "merge_in(ner)"
   ]
  },
  {
   "cell_type": "markdown",
   "metadata": {},
   "source": [
    "## Mobile editing proportion"
   ]
  },
  {
   "cell_type": "code",
   "execution_count": 16,
   "metadata": {},
   "outputs": [
    {
     "name": "stderr",
     "output_type": "stream",
     "text": [
      "PySpark executors will use /usr/lib/anaconda-wmf/bin/python3.\n",
      "                                                                                \r"
     ]
    }
   ],
   "source": [
    "mep = wmf.spark.run(\n",
    "\"\"\"\n",
    "SELECT\n",
    "    CONCAT(project, \".org\") AS domain_name,\n",
    "    SUM(CASE WHEN ARRAY_CONTAINS(revision_tags, \"mobile edit\") THEN edit_count END)\n",
    "        / SUM(edit_count) AS mobile_edits\n",
    "FROM wmf.edit_hourly\n",
    "WHERE\n",
    "    ts >= \"{start}\" \n",
    "    AND ts < \"{end}\"\n",
    "    AND snapshot = \"{snapshot}\"\n",
    "    AND NOT user_is_bot\n",
    "GROUP BY CONCAT(project, \".org\")\n",
    "\"\"\".format(**query_vars))"
   ]
  },
  {
   "cell_type": "code",
   "execution_count": 17,
   "metadata": {},
   "outputs": [
    {
     "data": {
      "text/html": [
       "<div>\n",
       "<style scoped>\n",
       "    .dataframe tbody tr th:only-of-type {\n",
       "        vertical-align: middle;\n",
       "    }\n",
       "\n",
       "    .dataframe tbody tr th {\n",
       "        vertical-align: top;\n",
       "    }\n",
       "\n",
       "    .dataframe thead th {\n",
       "        text-align: right;\n",
       "    }\n",
       "</style>\n",
       "<table border=\"1\" class=\"dataframe\">\n",
       "  <thead>\n",
       "    <tr style=\"text-align: right;\">\n",
       "      <th></th>\n",
       "      <th>domain_name</th>\n",
       "      <th>mobile_edits</th>\n",
       "    </tr>\n",
       "  </thead>\n",
       "  <tbody>\n",
       "    <tr>\n",
       "      <th>0</th>\n",
       "      <td>en.wikipedia.org</td>\n",
       "      <td>0.144092</td>\n",
       "    </tr>\n",
       "    <tr>\n",
       "      <th>1</th>\n",
       "      <td>es.wikipedia.org</td>\n",
       "      <td>0.239887</td>\n",
       "    </tr>\n",
       "    <tr>\n",
       "      <th>2</th>\n",
       "      <td>de.wikipedia.org</td>\n",
       "      <td>0.050405</td>\n",
       "    </tr>\n",
       "    <tr>\n",
       "      <th>3</th>\n",
       "      <td>ja.wikipedia.org</td>\n",
       "      <td>0.232572</td>\n",
       "    </tr>\n",
       "    <tr>\n",
       "      <th>4</th>\n",
       "      <td>fr.wikipedia.org</td>\n",
       "      <td>0.098942</td>\n",
       "    </tr>\n",
       "    <tr>\n",
       "      <th>5</th>\n",
       "      <td>commons.wikimedia.org</td>\n",
       "      <td>0.020507</td>\n",
       "    </tr>\n",
       "  </tbody>\n",
       "</table>\n",
       "</div>"
      ],
      "text/plain": [
       "             domain_name  mobile_edits\n",
       "0       en.wikipedia.org      0.144092\n",
       "1       es.wikipedia.org      0.239887\n",
       "2       de.wikipedia.org      0.050405\n",
       "3       ja.wikipedia.org      0.232572\n",
       "4       fr.wikipedia.org      0.098942\n",
       "5  commons.wikimedia.org      0.020507"
      ]
     },
     "execution_count": 17,
     "metadata": {},
     "output_type": "execute_result"
    }
   ],
   "source": [
    "check(mep, index_col=\"domain_name\")"
   ]
  },
  {
   "cell_type": "code",
   "execution_count": 18,
   "metadata": {},
   "outputs": [],
   "source": [
    "merge_in(mep, on=\"domain_name\")"
   ]
  },
  {
   "cell_type": "markdown",
   "metadata": {},
   "source": [
    "## Bot editing proportion"
   ]
  },
  {
   "cell_type": "code",
   "execution_count": 19,
   "metadata": {},
   "outputs": [
    {
     "name": "stderr",
     "output_type": "stream",
     "text": [
      "PySpark executors will use /usr/lib/anaconda-wmf/bin/python3.\n",
      "                                                                                \r"
     ]
    }
   ],
   "source": [
    "bep = wmf.spark.run(\"\"\"\n",
    "SELECT\n",
    "   CONCAT(project, \".org\") AS domain_name,\n",
    "   SUM(CASE WHEN user_is_bot THEN edit_count END)\n",
    "        / SUM(edit_count) AS bot_edits\n",
    "FROM wmf.edit_hourly\n",
    "WHERE\n",
    "    ts  >= \"{start}\" \n",
    "    AND ts  < \"{end}\"\n",
    "    AND snapshot = \"{snapshot}\"\n",
    "GROUP BY CONCAT(project, \".org\")\n",
    "\"\"\".format(**query_vars))"
   ]
  },
  {
   "cell_type": "code",
   "execution_count": 20,
   "metadata": {},
   "outputs": [
    {
     "data": {
      "text/html": [
       "<div>\n",
       "<style scoped>\n",
       "    .dataframe tbody tr th:only-of-type {\n",
       "        vertical-align: middle;\n",
       "    }\n",
       "\n",
       "    .dataframe tbody tr th {\n",
       "        vertical-align: top;\n",
       "    }\n",
       "\n",
       "    .dataframe thead th {\n",
       "        text-align: right;\n",
       "    }\n",
       "</style>\n",
       "<table border=\"1\" class=\"dataframe\">\n",
       "  <thead>\n",
       "    <tr style=\"text-align: right;\">\n",
       "      <th></th>\n",
       "      <th>domain_name</th>\n",
       "      <th>bot_edits</th>\n",
       "    </tr>\n",
       "  </thead>\n",
       "  <tbody>\n",
       "    <tr>\n",
       "      <th>0</th>\n",
       "      <td>en.wikipedia.org</td>\n",
       "      <td>0.175525</td>\n",
       "    </tr>\n",
       "    <tr>\n",
       "      <th>1</th>\n",
       "      <td>es.wikipedia.org</td>\n",
       "      <td>0.103631</td>\n",
       "    </tr>\n",
       "    <tr>\n",
       "      <th>2</th>\n",
       "      <td>de.wikipedia.org</td>\n",
       "      <td>0.121770</td>\n",
       "    </tr>\n",
       "    <tr>\n",
       "      <th>3</th>\n",
       "      <td>ja.wikipedia.org</td>\n",
       "      <td>0.115351</td>\n",
       "    </tr>\n",
       "    <tr>\n",
       "      <th>4</th>\n",
       "      <td>fr.wikipedia.org</td>\n",
       "      <td>0.206058</td>\n",
       "    </tr>\n",
       "    <tr>\n",
       "      <th>5</th>\n",
       "      <td>commons.wikimedia.org</td>\n",
       "      <td>0.462031</td>\n",
       "    </tr>\n",
       "  </tbody>\n",
       "</table>\n",
       "</div>"
      ],
      "text/plain": [
       "             domain_name  bot_edits\n",
       "0       en.wikipedia.org   0.175525\n",
       "1       es.wikipedia.org   0.103631\n",
       "2       de.wikipedia.org   0.121770\n",
       "3       ja.wikipedia.org   0.115351\n",
       "4       fr.wikipedia.org   0.206058\n",
       "5  commons.wikimedia.org   0.462031"
      ]
     },
     "execution_count": 20,
     "metadata": {},
     "output_type": "execute_result"
    }
   ],
   "source": [
    "check(bep, index_col=\"domain_name\")"
   ]
  },
  {
   "cell_type": "code",
   "execution_count": 21,
   "metadata": {},
   "outputs": [],
   "source": [
    "merge_in(bep, on=\"domain_name\")"
   ]
  },
  {
   "cell_type": "markdown",
   "metadata": {},
   "source": [
    "## Anonymous editing proportion"
   ]
  },
  {
   "cell_type": "code",
   "execution_count": 22,
   "metadata": {
    "tags": []
   },
   "outputs": [
    {
     "name": "stderr",
     "output_type": "stream",
     "text": [
      "PySpark executors will use /usr/lib/anaconda-wmf/bin/python3.\n",
      "                                                                                \r"
     ]
    }
   ],
   "source": [
    "aep = wmf.spark.run(\"\"\"\n",
    "SELECT\n",
    "   CONCAT(project, \".org\") AS domain_name,\n",
    "   SUM(CASE WHEN user_is_anonymous THEN edit_count END) / SUM(edit_count) AS anonymous_edits\n",
    "FROM wmf.edit_hourly\n",
    "WHERE\n",
    "    ts >= \"{start}\" \n",
    "    AND ts < \"{end}\"\n",
    "    AND snapshot = \"{snapshot}\"\n",
    "    AND NOT user_is_bot\n",
    "GROUP BY CONCAT(project, \".org\")\n",
    "\"\"\".format(**query_vars))"
   ]
  },
  {
   "cell_type": "code",
   "execution_count": 23,
   "metadata": {},
   "outputs": [
    {
     "data": {
      "text/html": [
       "<div>\n",
       "<style scoped>\n",
       "    .dataframe tbody tr th:only-of-type {\n",
       "        vertical-align: middle;\n",
       "    }\n",
       "\n",
       "    .dataframe tbody tr th {\n",
       "        vertical-align: top;\n",
       "    }\n",
       "\n",
       "    .dataframe thead th {\n",
       "        text-align: right;\n",
       "    }\n",
       "</style>\n",
       "<table border=\"1\" class=\"dataframe\">\n",
       "  <thead>\n",
       "    <tr style=\"text-align: right;\">\n",
       "      <th></th>\n",
       "      <th>domain_name</th>\n",
       "      <th>anonymous_edits</th>\n",
       "    </tr>\n",
       "  </thead>\n",
       "  <tbody>\n",
       "    <tr>\n",
       "      <th>0</th>\n",
       "      <td>en.wikipedia.org</td>\n",
       "      <td>0.170487</td>\n",
       "    </tr>\n",
       "    <tr>\n",
       "      <th>1</th>\n",
       "      <td>es.wikipedia.org</td>\n",
       "      <td>0.270625</td>\n",
       "    </tr>\n",
       "    <tr>\n",
       "      <th>2</th>\n",
       "      <td>de.wikipedia.org</td>\n",
       "      <td>0.089402</td>\n",
       "    </tr>\n",
       "    <tr>\n",
       "      <th>3</th>\n",
       "      <td>ja.wikipedia.org</td>\n",
       "      <td>0.241580</td>\n",
       "    </tr>\n",
       "    <tr>\n",
       "      <th>4</th>\n",
       "      <td>fr.wikipedia.org</td>\n",
       "      <td>0.125333</td>\n",
       "    </tr>\n",
       "    <tr>\n",
       "      <th>5</th>\n",
       "      <td>commons.wikimedia.org</td>\n",
       "      <td>0.012536</td>\n",
       "    </tr>\n",
       "  </tbody>\n",
       "</table>\n",
       "</div>"
      ],
      "text/plain": [
       "             domain_name  anonymous_edits\n",
       "0       en.wikipedia.org         0.170487\n",
       "1       es.wikipedia.org         0.270625\n",
       "2       de.wikipedia.org         0.089402\n",
       "3       ja.wikipedia.org         0.241580\n",
       "4       fr.wikipedia.org         0.125333\n",
       "5  commons.wikimedia.org         0.012536"
      ]
     },
     "execution_count": 23,
     "metadata": {},
     "output_type": "execute_result"
    }
   ],
   "source": [
    "check(aep, index_col=\"domain_name\")"
   ]
  },
  {
   "cell_type": "code",
   "execution_count": 24,
   "metadata": {},
   "outputs": [],
   "source": [
    "merge_in(aep, on=\"domain_name\")"
   ]
  },
  {
   "cell_type": "markdown",
   "metadata": {},
   "source": [
    "## Majority-mobile editors proportion"
   ]
  },
  {
   "cell_type": "code",
   "execution_count": 25,
   "metadata": {},
   "outputs": [
    {
     "name": "stderr",
     "output_type": "stream",
     "text": [
      "PySpark executors will use /usr/lib/anaconda-wmf/bin/python3.\n",
      "22/01/15 01:16:44 WARN Utils: Truncated the string representation of a plan since it was too large. This behavior can be adjusted by setting 'spark.debug.maxToStringFields' in SparkEnv.conf.\n",
      "                                                                                \r"
     ]
    }
   ],
   "source": [
    "mmep = wmf.spark.run(\"\"\"\n",
    "WITH user AS (\n",
    "    SELECT \n",
    "        wiki_db AS database_code,\n",
    "        SUM(CAST(ARRAY_CONTAINS(revision_tags, \"mobile edit\") AS INT))\n",
    "            / COUNT(*) AS mobile_editing_proportion\n",
    "    FROM wmf.mediawiki_history\n",
    "    WHERE\n",
    "        event_entity = \"revision\" \n",
    "        AND event_type = \"create\" \n",
    "        AND snapshot = \"{snapshot}\" \n",
    "        AND event_timestamp >= \"{start}\" \n",
    "        AND event_timestamp < \"{end}\"\n",
    "        AND NOT event_user_is_anonymous\n",
    "        AND SIZE(event_user_is_bot_by_historical) = 0\n",
    "    GROUP BY\n",
    "        wiki_db,\n",
    "        event_user_text\n",
    ")\n",
    "SELECT\n",
    "   database_code,\n",
    "   SUM(CAST(mobile_editing_proportion > 0.5 AS INT))\n",
    "       / COUNT(*) AS majority_mobile_editors\n",
    "FROM user\n",
    "GROUP BY database_code\n",
    "\"\"\".format(**query_vars))"
   ]
  },
  {
   "cell_type": "code",
   "execution_count": 26,
   "metadata": {},
   "outputs": [
    {
     "data": {
      "text/html": [
       "<div>\n",
       "<style scoped>\n",
       "    .dataframe tbody tr th:only-of-type {\n",
       "        vertical-align: middle;\n",
       "    }\n",
       "\n",
       "    .dataframe tbody tr th {\n",
       "        vertical-align: top;\n",
       "    }\n",
       "\n",
       "    .dataframe thead th {\n",
       "        text-align: right;\n",
       "    }\n",
       "</style>\n",
       "<table border=\"1\" class=\"dataframe\">\n",
       "  <thead>\n",
       "    <tr style=\"text-align: right;\">\n",
       "      <th></th>\n",
       "      <th>database_code</th>\n",
       "      <th>majority_mobile_editors</th>\n",
       "    </tr>\n",
       "  </thead>\n",
       "  <tbody>\n",
       "    <tr>\n",
       "      <th>0</th>\n",
       "      <td>enwiki</td>\n",
       "      <td>0.261189</td>\n",
       "    </tr>\n",
       "    <tr>\n",
       "      <th>1</th>\n",
       "      <td>eswiki</td>\n",
       "      <td>0.300681</td>\n",
       "    </tr>\n",
       "    <tr>\n",
       "      <th>2</th>\n",
       "      <td>dewiki</td>\n",
       "      <td>0.147814</td>\n",
       "    </tr>\n",
       "    <tr>\n",
       "      <th>3</th>\n",
       "      <td>jawiki</td>\n",
       "      <td>0.296639</td>\n",
       "    </tr>\n",
       "    <tr>\n",
       "      <th>4</th>\n",
       "      <td>frwiki</td>\n",
       "      <td>0.179282</td>\n",
       "    </tr>\n",
       "    <tr>\n",
       "      <th>5</th>\n",
       "      <td>commonswiki</td>\n",
       "      <td>0.159998</td>\n",
       "    </tr>\n",
       "  </tbody>\n",
       "</table>\n",
       "</div>"
      ],
      "text/plain": [
       "  database_code  majority_mobile_editors\n",
       "0        enwiki                 0.261189\n",
       "1        eswiki                 0.300681\n",
       "2        dewiki                 0.147814\n",
       "3        jawiki                 0.296639\n",
       "4        frwiki                 0.179282\n",
       "5   commonswiki                 0.159998"
      ]
     },
     "execution_count": 26,
     "metadata": {},
     "output_type": "execute_result"
    }
   ],
   "source": [
    "check(mmep)"
   ]
  },
  {
   "cell_type": "code",
   "execution_count": 27,
   "metadata": {},
   "outputs": [],
   "source": [
    "merge_in(mmep)"
   ]
  },
  {
   "cell_type": "markdown",
   "metadata": {},
   "source": [
    "## Revert rate"
   ]
  },
  {
   "cell_type": "code",
   "execution_count": 28,
   "metadata": {},
   "outputs": [
    {
     "name": "stderr",
     "output_type": "stream",
     "text": [
      "PySpark executors will use /usr/lib/anaconda-wmf/bin/python3.\n",
      "                                                                                \r"
     ]
    }
   ],
   "source": [
    "rr = wmf.spark.run(\"\"\"\n",
    "    SELECT\n",
    "        wiki_db AS database_code,\n",
    "        SUM(CAST(revision_is_identity_reverted AS INT)) / COUNT(*) AS revert_rate\n",
    "    FROM\n",
    "        wmf.mediawiki_history\n",
    "    WHERE\n",
    "        event_entity = \"revision\" \n",
    "        AND event_type = \"create\" \n",
    "        AND snapshot = \"{snapshot}\" \n",
    "        AND event_timestamp >= \"{start}\" \n",
    "        AND event_timestamp < \"{end}\" \n",
    "        AND SIZE(event_user_is_bot_by_historical) = 0 \n",
    "    GROUP BY wiki_db\n",
    "\"\"\".format(**query_vars))"
   ]
  },
  {
   "cell_type": "code",
   "execution_count": 29,
   "metadata": {},
   "outputs": [
    {
     "data": {
      "text/html": [
       "<div>\n",
       "<style scoped>\n",
       "    .dataframe tbody tr th:only-of-type {\n",
       "        vertical-align: middle;\n",
       "    }\n",
       "\n",
       "    .dataframe tbody tr th {\n",
       "        vertical-align: top;\n",
       "    }\n",
       "\n",
       "    .dataframe thead th {\n",
       "        text-align: right;\n",
       "    }\n",
       "</style>\n",
       "<table border=\"1\" class=\"dataframe\">\n",
       "  <thead>\n",
       "    <tr style=\"text-align: right;\">\n",
       "      <th></th>\n",
       "      <th>database_code</th>\n",
       "      <th>revert_rate</th>\n",
       "    </tr>\n",
       "  </thead>\n",
       "  <tbody>\n",
       "    <tr>\n",
       "      <th>0</th>\n",
       "      <td>enwiki</td>\n",
       "      <td>0.110091</td>\n",
       "    </tr>\n",
       "    <tr>\n",
       "      <th>1</th>\n",
       "      <td>eswiki</td>\n",
       "      <td>0.186721</td>\n",
       "    </tr>\n",
       "    <tr>\n",
       "      <th>2</th>\n",
       "      <td>dewiki</td>\n",
       "      <td>0.075174</td>\n",
       "    </tr>\n",
       "    <tr>\n",
       "      <th>3</th>\n",
       "      <td>jawiki</td>\n",
       "      <td>0.068036</td>\n",
       "    </tr>\n",
       "    <tr>\n",
       "      <th>4</th>\n",
       "      <td>frwiki</td>\n",
       "      <td>0.070056</td>\n",
       "    </tr>\n",
       "    <tr>\n",
       "      <th>5</th>\n",
       "      <td>commonswiki</td>\n",
       "      <td>0.013713</td>\n",
       "    </tr>\n",
       "  </tbody>\n",
       "</table>\n",
       "</div>"
      ],
      "text/plain": [
       "  database_code  revert_rate\n",
       "0        enwiki     0.110091\n",
       "1        eswiki     0.186721\n",
       "2        dewiki     0.075174\n",
       "3        jawiki     0.068036\n",
       "4        frwiki     0.070056\n",
       "5   commonswiki     0.013713"
      ]
     },
     "execution_count": 29,
     "metadata": {},
     "output_type": "execute_result"
    }
   ],
   "source": [
    "check(rr)"
   ]
  },
  {
   "cell_type": "code",
   "execution_count": 30,
   "metadata": {},
   "outputs": [],
   "source": [
    "merge_in(rr)"
   ]
  },
  {
   "cell_type": "markdown",
   "metadata": {},
   "source": [
    "## Pageviews"
   ]
  },
  {
   "cell_type": "code",
   "execution_count": 138,
   "metadata": {},
   "outputs": [
    {
     "name": "stderr",
     "output_type": "stream",
     "text": [
      "PySpark executors will use /usr/lib/anaconda-wmf/bin/python3.\n",
      "                                                                                \r"
     ]
    }
   ],
   "source": [
    "pv = wmf.spark.run(\"\"\"\n",
    "SELECT\n",
    "    IF(\n",
    "        project IN (\"mediawiki\", \"wikidata\"),\n",
    "        CONCAT(\"www.\", project, \".org\"),\n",
    "        CONCAT(project, \".org\")\n",
    "    ) AS domain_name, \n",
    "    SUM(view_count) / 12 AS monthly_pageviews,\n",
    "    SUM(CASE WHEN access_method = \"mobile web\" THEN view_count END)\n",
    "        / SUM(view_count) AS mobile_web_pageviews,\n",
    "    SUM(CASE WHEN access_method = \"mobile app\" THEN view_count END)\n",
    "        / SUM(view_COUNT) AS mobile_app_pageviews\n",
    "FROM wmf.projectview_hourly\n",
    "WHERE\n",
    "    agent_type = \"user\" \n",
    "    AND CONCAT(year, LPAD(month, 2, \"0\")) >= \"{pv_start}\" \n",
    "    AND CONCAT(year, LPAD(month, 2, \"0\")) < \"{pv_end}\"\n",
    "GROUP BY\n",
    "    IF(\n",
    "        project IN (\"mediawiki\", \"wikidata\"),\n",
    "        CONCAT(\"www.\", project, \".org\"),\n",
    "        CONCAT(project, \".org\")\n",
    "    )\n",
    "\"\"\".format(**query_vars))"
   ]
  },
  {
   "cell_type": "code",
   "execution_count": 139,
   "metadata": {},
   "outputs": [
    {
     "data": {
      "text/html": [
       "<div>\n",
       "<style scoped>\n",
       "    .dataframe tbody tr th:only-of-type {\n",
       "        vertical-align: middle;\n",
       "    }\n",
       "\n",
       "    .dataframe tbody tr th {\n",
       "        vertical-align: top;\n",
       "    }\n",
       "\n",
       "    .dataframe thead th {\n",
       "        text-align: right;\n",
       "    }\n",
       "</style>\n",
       "<table border=\"1\" class=\"dataframe\">\n",
       "  <thead>\n",
       "    <tr style=\"text-align: right;\">\n",
       "      <th></th>\n",
       "      <th>domain_name</th>\n",
       "      <th>monthly_pageviews</th>\n",
       "      <th>mobile_web_pageviews</th>\n",
       "      <th>mobile_app_pageviews</th>\n",
       "    </tr>\n",
       "  </thead>\n",
       "  <tbody>\n",
       "    <tr>\n",
       "      <th>0</th>\n",
       "      <td>en.wikipedia.org</td>\n",
       "      <td>7.413413e+09</td>\n",
       "      <td>0.605818</td>\n",
       "      <td>2.147223e-02</td>\n",
       "    </tr>\n",
       "    <tr>\n",
       "      <th>1</th>\n",
       "      <td>es.wikipedia.org</td>\n",
       "      <td>9.539750e+08</td>\n",
       "      <td>0.650961</td>\n",
       "      <td>6.659381e-03</td>\n",
       "    </tr>\n",
       "    <tr>\n",
       "      <th>2</th>\n",
       "      <td>de.wikipedia.org</td>\n",
       "      <td>9.245809e+08</td>\n",
       "      <td>0.528485</td>\n",
       "      <td>4.493527e-02</td>\n",
       "    </tr>\n",
       "    <tr>\n",
       "      <th>3</th>\n",
       "      <td>ja.wikipedia.org</td>\n",
       "      <td>1.103630e+09</td>\n",
       "      <td>0.653886</td>\n",
       "      <td>9.408045e-03</td>\n",
       "    </tr>\n",
       "    <tr>\n",
       "      <th>4</th>\n",
       "      <td>fr.wikipedia.org</td>\n",
       "      <td>7.168126e+08</td>\n",
       "      <td>0.603533</td>\n",
       "      <td>1.651341e-02</td>\n",
       "    </tr>\n",
       "    <tr>\n",
       "      <th>5</th>\n",
       "      <td>commons.wikimedia.org</td>\n",
       "      <td>9.807158e+07</td>\n",
       "      <td>0.333340</td>\n",
       "      <td>9.278937e-07</td>\n",
       "    </tr>\n",
       "  </tbody>\n",
       "</table>\n",
       "</div>"
      ],
      "text/plain": [
       "             domain_name  monthly_pageviews  mobile_web_pageviews  \\\n",
       "0       en.wikipedia.org       7.413413e+09              0.605818   \n",
       "1       es.wikipedia.org       9.539750e+08              0.650961   \n",
       "2       de.wikipedia.org       9.245809e+08              0.528485   \n",
       "3       ja.wikipedia.org       1.103630e+09              0.653886   \n",
       "4       fr.wikipedia.org       7.168126e+08              0.603533   \n",
       "5  commons.wikimedia.org       9.807158e+07              0.333340   \n",
       "\n",
       "   mobile_app_pageviews  \n",
       "0          2.147223e-02  \n",
       "1          6.659381e-03  \n",
       "2          4.493527e-02  \n",
       "3          9.408045e-03  \n",
       "4          1.651341e-02  \n",
       "5          9.278937e-07  "
      ]
     },
     "execution_count": 139,
     "metadata": {},
     "output_type": "execute_result"
    }
   ],
   "source": [
    "check(pv, index_col=\"domain_name\")"
   ]
  },
  {
   "cell_type": "code",
   "execution_count": 144,
   "metadata": {},
   "outputs": [],
   "source": [
    "merge_in(pv, on=\"domain_name\")"
   ]
  },
  {
   "cell_type": "markdown",
   "metadata": {},
   "source": [
    "## Monthly active administrators"
   ]
  },
  {
   "cell_type": "code",
   "execution_count": 35,
   "metadata": {},
   "outputs": [
    {
     "name": "stderr",
     "output_type": "stream",
     "text": [
      "PySpark executors will use /usr/lib/anaconda-wmf/bin/python3.\n",
      "                                                                                \r"
     ]
    }
   ],
   "source": [
    "maa = wmf.spark.run(\"\"\"\n",
    "SELECT\n",
    "    wiki AS database_code,\n",
    "    SUM(monthly_active_administrators) / 12 AS monthly_active_administrators\n",
    "FROM (\n",
    "    SELECT\n",
    "        wiki_db AS wiki,\n",
    "        SUBSTR(log_timestamp, 1, 6) AS month,\n",
    "        COUNT(DISTINCT log_actor) AS monthly_active_administrators\n",
    "    FROM wmf_raw.mediawiki_logging\n",
    "    WHERE\n",
    "        log_type IN (\"block\", \"delete\", \"protect\", \"rights\")\n",
    "        -- Omit the \"delete_redir\", \"move_prot\", and \"autopromote\" actions, which can be done by regular users\n",
    "        AND log_action NOT IN (\"autopromote\", \"delete_redir\", \"move_prot\")\n",
    "        AND log_timestamp >= \"{pv_start}\" \n",
    "        AND log_timestamp < \"{pv_end}\" \n",
    "        AND snapshot = \"{snapshot}\"\n",
    "    GROUP BY wiki_db, SUBSTR(log_timestamp, 1, 6)\n",
    ") mae\n",
    "GROUP BY wiki\n",
    "\"\"\".format(**query_vars))"
   ]
  },
  {
   "cell_type": "code",
   "execution_count": 36,
   "metadata": {},
   "outputs": [
    {
     "data": {
      "text/html": [
       "<div>\n",
       "<style scoped>\n",
       "    .dataframe tbody tr th:only-of-type {\n",
       "        vertical-align: middle;\n",
       "    }\n",
       "\n",
       "    .dataframe tbody tr th {\n",
       "        vertical-align: top;\n",
       "    }\n",
       "\n",
       "    .dataframe thead th {\n",
       "        text-align: right;\n",
       "    }\n",
       "</style>\n",
       "<table border=\"1\" class=\"dataframe\">\n",
       "  <thead>\n",
       "    <tr style=\"text-align: right;\">\n",
       "      <th></th>\n",
       "      <th>database_code</th>\n",
       "      <th>monthly_active_administrators</th>\n",
       "    </tr>\n",
       "  </thead>\n",
       "  <tbody>\n",
       "    <tr>\n",
       "      <th>0</th>\n",
       "      <td>enwiki</td>\n",
       "      <td>423.583333</td>\n",
       "    </tr>\n",
       "    <tr>\n",
       "      <th>1</th>\n",
       "      <td>eswiki</td>\n",
       "      <td>50.166667</td>\n",
       "    </tr>\n",
       "    <tr>\n",
       "      <th>2</th>\n",
       "      <td>dewiki</td>\n",
       "      <td>129.500000</td>\n",
       "    </tr>\n",
       "    <tr>\n",
       "      <th>3</th>\n",
       "      <td>jawiki</td>\n",
       "      <td>34.000000</td>\n",
       "    </tr>\n",
       "    <tr>\n",
       "      <th>4</th>\n",
       "      <td>frwiki</td>\n",
       "      <td>98.416667</td>\n",
       "    </tr>\n",
       "    <tr>\n",
       "      <th>5</th>\n",
       "      <td>commonswiki</td>\n",
       "      <td>152.916667</td>\n",
       "    </tr>\n",
       "  </tbody>\n",
       "</table>\n",
       "</div>"
      ],
      "text/plain": [
       "  database_code  monthly_active_administrators\n",
       "0        enwiki                     423.583333\n",
       "1        eswiki                      50.166667\n",
       "2        dewiki                     129.500000\n",
       "3        jawiki                      34.000000\n",
       "4        frwiki                      98.416667\n",
       "5   commonswiki                     152.916667"
      ]
     },
     "execution_count": 36,
     "metadata": {},
     "output_type": "execute_result"
    }
   ],
   "source": [
    "check(maa)"
   ]
  },
  {
   "cell_type": "code",
   "execution_count": 37,
   "metadata": {},
   "outputs": [],
   "source": [
    "merge_in(maa)"
   ]
  },
  {
   "cell_type": "markdown",
   "metadata": {},
   "source": [
    "## Monthly non-bot edits"
   ]
  },
  {
   "cell_type": "code",
   "execution_count": 38,
   "metadata": {},
   "outputs": [
    {
     "name": "stderr",
     "output_type": "stream",
     "text": [
      "PySpark executors will use /usr/lib/anaconda-wmf/bin/python3.\n",
      "                                                                                \r"
     ]
    }
   ],
   "source": [
    "mnbe = wmf.spark.run(\"\"\"\n",
    "SELECT\n",
    "   CONCAT(project, \".org\") AS domain_name,\n",
    "   SUM(edit_count) / 12 AS monthly_nonbot_edits\n",
    "FROM wmf.edit_hourly\n",
    "WHERE\n",
    "    ts >= \"{start}\"\n",
    "    AND ts < \"{end}\"\n",
    "    AND NOT user_is_bot\n",
    "    AND snapshot = \"{snapshot}\"\n",
    "GROUP BY CONCAT(project, \".org\")\n",
    "\"\"\".format(**query_vars))"
   ]
  },
  {
   "cell_type": "code",
   "execution_count": 39,
   "metadata": {},
   "outputs": [
    {
     "data": {
      "text/html": [
       "<div>\n",
       "<style scoped>\n",
       "    .dataframe tbody tr th:only-of-type {\n",
       "        vertical-align: middle;\n",
       "    }\n",
       "\n",
       "    .dataframe tbody tr th {\n",
       "        vertical-align: top;\n",
       "    }\n",
       "\n",
       "    .dataframe thead th {\n",
       "        text-align: right;\n",
       "    }\n",
       "</style>\n",
       "<table border=\"1\" class=\"dataframe\">\n",
       "  <thead>\n",
       "    <tr style=\"text-align: right;\">\n",
       "      <th></th>\n",
       "      <th>domain_name</th>\n",
       "      <th>monthly_nonbot_edits</th>\n",
       "    </tr>\n",
       "  </thead>\n",
       "  <tbody>\n",
       "    <tr>\n",
       "      <th>0</th>\n",
       "      <td>en.wikipedia.org</td>\n",
       "      <td>4.500923e+06</td>\n",
       "    </tr>\n",
       "    <tr>\n",
       "      <th>1</th>\n",
       "      <td>es.wikipedia.org</td>\n",
       "      <td>6.405978e+05</td>\n",
       "    </tr>\n",
       "    <tr>\n",
       "      <th>2</th>\n",
       "      <td>de.wikipedia.org</td>\n",
       "      <td>7.821591e+05</td>\n",
       "    </tr>\n",
       "    <tr>\n",
       "      <th>3</th>\n",
       "      <td>ja.wikipedia.org</td>\n",
       "      <td>4.546352e+05</td>\n",
       "    </tr>\n",
       "    <tr>\n",
       "      <th>4</th>\n",
       "      <td>fr.wikipedia.org</td>\n",
       "      <td>7.381616e+05</td>\n",
       "    </tr>\n",
       "    <tr>\n",
       "      <th>5</th>\n",
       "      <td>commons.wikimedia.org</td>\n",
       "      <td>4.256383e+06</td>\n",
       "    </tr>\n",
       "  </tbody>\n",
       "</table>\n",
       "</div>"
      ],
      "text/plain": [
       "             domain_name  monthly_nonbot_edits\n",
       "0       en.wikipedia.org          4.500923e+06\n",
       "1       es.wikipedia.org          6.405978e+05\n",
       "2       de.wikipedia.org          7.821591e+05\n",
       "3       ja.wikipedia.org          4.546352e+05\n",
       "4       fr.wikipedia.org          7.381616e+05\n",
       "5  commons.wikimedia.org          4.256383e+06"
      ]
     },
     "execution_count": 39,
     "metadata": {},
     "output_type": "execute_result"
    }
   ],
   "source": [
    "check(mnbe, index_col=\"domain_name\")"
   ]
  },
  {
   "cell_type": "code",
   "execution_count": 40,
   "metadata": {},
   "outputs": [],
   "source": [
    "merge_in(mnbe, on=\"domain_name\")"
   ]
  },
  {
   "cell_type": "markdown",
   "metadata": {},
   "source": [
    "## Edits Gini coefficient"
   ]
  },
  {
   "cell_type": "code",
   "execution_count": 41,
   "metadata": {},
   "outputs": [
    {
     "name": "stderr",
     "output_type": "stream",
     "text": [
      "PySpark executors will use /usr/lib/anaconda-wmf/bin/python3.\n",
      "                                                                                \r"
     ]
    }
   ],
   "source": [
    "user_edits = wmf.spark.run(\"\"\"\n",
    "SELECT\n",
    "    wiki_db AS wiki,\n",
    "    COUNT(*) AS user_edits\n",
    "FROM\n",
    "    wmf.mediawiki_history\n",
    "WHERE\n",
    "    event_entity = \"revision\" \n",
    "    AND event_type = \"create\" \n",
    "    AND snapshot = \"{snapshot}\" \n",
    "    AND event_timestamp >= \"{start}\" \n",
    "    AND event_timestamp < \"{end}\" \n",
    "    AND SIZE(event_user_is_bot_by_historical) = 0\n",
    "GROUP BY\n",
    "    wiki_db,\n",
    "    event_user_id\n",
    "\"\"\".format(**query_vars))"
   ]
  },
  {
   "cell_type": "code",
   "execution_count": 42,
   "metadata": {},
   "outputs": [],
   "source": [
    "# FROM https://github.com/oliviaguest/gini\n",
    "def gini(array):\n",
    "    \"\"\"Calculate the Gini coefficient of a numpy array.\"\"\"\n",
    "    # based on bottom eq:\n",
    "    # http://www.statsdirect.com/help/generatedimages/equations/equation154.svg\n",
    "    # FROM:\n",
    "    # http://www.statsdirect.com/help/default.htm#nonparametric_methods/gini.htm\n",
    "    # All values are treated equally, arrays must be 1d:\n",
    "    array = array.flatten()\n",
    "    if np.amin(array) < 0:\n",
    "        # Values cannot be negative:\n",
    "        array -= np.amin(array)\n",
    "    # Values cannot be 0:\n",
    "    array = array + 0.0000001\n",
    "    # Values must be sorted:\n",
    "    array = np.sort(array)\n",
    "    # Index per array element:\n",
    "    index = np.arange(1,array.shape[0]+1)\n",
    "    # Number of array elements:\n",
    "    n = array.shape[0]\n",
    "    # Gini coefficient:\n",
    "    return ((np.sum((2 * index - n - 1) * array)) / (n * np.sum(array)))\n",
    "\n",
    "egc = (\n",
    "    user_edits\n",
    "    .groupby(\"wiki\")\n",
    "    .apply(lambda g: gini(g[\"user_edits\"].values))\n",
    "    .reset_index()\n",
    ")\n",
    "\n",
    "egc.columns = [\"database_code\", \"edits_Gini_coefficient\"]"
   ]
  },
  {
   "cell_type": "code",
   "execution_count": 43,
   "metadata": {},
   "outputs": [
    {
     "data": {
      "text/html": [
       "<div>\n",
       "<style scoped>\n",
       "    .dataframe tbody tr th:only-of-type {\n",
       "        vertical-align: middle;\n",
       "    }\n",
       "\n",
       "    .dataframe tbody tr th {\n",
       "        vertical-align: top;\n",
       "    }\n",
       "\n",
       "    .dataframe thead th {\n",
       "        text-align: right;\n",
       "    }\n",
       "</style>\n",
       "<table border=\"1\" class=\"dataframe\">\n",
       "  <thead>\n",
       "    <tr style=\"text-align: right;\">\n",
       "      <th></th>\n",
       "      <th>database_code</th>\n",
       "      <th>edits_Gini_coefficient</th>\n",
       "    </tr>\n",
       "  </thead>\n",
       "  <tbody>\n",
       "    <tr>\n",
       "      <th>0</th>\n",
       "      <td>enwiki</td>\n",
       "      <td>0.954271</td>\n",
       "    </tr>\n",
       "    <tr>\n",
       "      <th>1</th>\n",
       "      <td>eswiki</td>\n",
       "      <td>0.958810</td>\n",
       "    </tr>\n",
       "    <tr>\n",
       "      <th>2</th>\n",
       "      <td>dewiki</td>\n",
       "      <td>0.959961</td>\n",
       "    </tr>\n",
       "    <tr>\n",
       "      <th>3</th>\n",
       "      <td>jawiki</td>\n",
       "      <td>0.938387</td>\n",
       "    </tr>\n",
       "    <tr>\n",
       "      <th>4</th>\n",
       "      <td>frwiki</td>\n",
       "      <td>0.959200</td>\n",
       "    </tr>\n",
       "    <tr>\n",
       "      <th>5</th>\n",
       "      <td>commonswiki</td>\n",
       "      <td>0.979744</td>\n",
       "    </tr>\n",
       "  </tbody>\n",
       "</table>\n",
       "</div>"
      ],
      "text/plain": [
       "  database_code  edits_Gini_coefficient\n",
       "0        enwiki                0.954271\n",
       "1        eswiki                0.958810\n",
       "2        dewiki                0.959961\n",
       "3        jawiki                0.938387\n",
       "4        frwiki                0.959200\n",
       "5   commonswiki                0.979744"
      ]
     },
     "execution_count": 43,
     "metadata": {},
     "output_type": "execute_result"
    }
   ],
   "source": [
    "check(egc)"
   ]
  },
  {
   "cell_type": "code",
   "execution_count": 44,
   "metadata": {},
   "outputs": [],
   "source": [
    "merge_in(egc)"
   ]
  },
  {
   "cell_type": "markdown",
   "metadata": {},
   "source": [
    "## Monthly editors"
   ]
  },
  {
   "cell_type": "code",
   "execution_count": 45,
   "metadata": {},
   "outputs": [
    {
     "name": "stderr",
     "output_type": "stream",
     "text": [
      "PySpark executors will use /usr/lib/anaconda-wmf/bin/python3.\n",
      "                                                                                \r"
     ]
    }
   ],
   "source": [
    "me = wmf.spark.run(\"\"\"\n",
    "SELECT\n",
    "    wiki AS database_code,\n",
    "    COUNT(*) / 12 AS monthly_editors\n",
    "FROM neilpquinn.editor_month\n",
    "WHERE\n",
    "    month >= \"{start}\" \n",
    "    AND month < \"{end}\" \n",
    "    AND user_id != 0 \n",
    "    AND NOT bot_by_group\n",
    "    AND (\n",
    "        user_name NOT REGEXP \"bot\\\\b\"\n",
    "        OR user_name IN (\"Paucabot\", \"Niabot\", \"Marbot\")\n",
    "    )\n",
    "GROUP BY wiki\n",
    "\"\"\".format(**query_vars))"
   ]
  },
  {
   "cell_type": "code",
   "execution_count": 46,
   "metadata": {},
   "outputs": [
    {
     "data": {
      "text/html": [
       "<div>\n",
       "<style scoped>\n",
       "    .dataframe tbody tr th:only-of-type {\n",
       "        vertical-align: middle;\n",
       "    }\n",
       "\n",
       "    .dataframe tbody tr th {\n",
       "        vertical-align: top;\n",
       "    }\n",
       "\n",
       "    .dataframe thead th {\n",
       "        text-align: right;\n",
       "    }\n",
       "</style>\n",
       "<table border=\"1\" class=\"dataframe\">\n",
       "  <thead>\n",
       "    <tr style=\"text-align: right;\">\n",
       "      <th></th>\n",
       "      <th>database_code</th>\n",
       "      <th>monthly_editors</th>\n",
       "    </tr>\n",
       "  </thead>\n",
       "  <tbody>\n",
       "    <tr>\n",
       "      <th>0</th>\n",
       "      <td>enwiki</td>\n",
       "      <td>135505.666667</td>\n",
       "    </tr>\n",
       "    <tr>\n",
       "      <th>1</th>\n",
       "      <td>eswiki</td>\n",
       "      <td>17713.916667</td>\n",
       "    </tr>\n",
       "    <tr>\n",
       "      <th>2</th>\n",
       "      <td>dewiki</td>\n",
       "      <td>19901.333333</td>\n",
       "    </tr>\n",
       "    <tr>\n",
       "      <th>3</th>\n",
       "      <td>jawiki</td>\n",
       "      <td>15551.416667</td>\n",
       "    </tr>\n",
       "    <tr>\n",
       "      <th>4</th>\n",
       "      <td>frwiki</td>\n",
       "      <td>20209.416667</td>\n",
       "    </tr>\n",
       "    <tr>\n",
       "      <th>5</th>\n",
       "      <td>commonswiki</td>\n",
       "      <td>40649.833333</td>\n",
       "    </tr>\n",
       "  </tbody>\n",
       "</table>\n",
       "</div>"
      ],
      "text/plain": [
       "  database_code  monthly_editors\n",
       "0        enwiki    135505.666667\n",
       "1        eswiki     17713.916667\n",
       "2        dewiki     19901.333333\n",
       "3        jawiki     15551.416667\n",
       "4        frwiki     20209.416667\n",
       "5   commonswiki     40649.833333"
      ]
     },
     "execution_count": 46,
     "metadata": {},
     "output_type": "execute_result"
    }
   ],
   "source": [
    "check(me)"
   ]
  },
  {
   "cell_type": "code",
   "execution_count": 47,
   "metadata": {},
   "outputs": [],
   "source": [
    "merge_in(me)"
   ]
  },
  {
   "cell_type": "markdown",
   "metadata": {},
   "source": [
    "## Unique devices per editor"
   ]
  },
  {
   "cell_type": "code",
   "execution_count": 48,
   "metadata": {},
   "outputs": [],
   "source": [
    "wikis[\"unique_devices_per_editor\"] = wikis[\"monthly_unique_devices\"] / wikis[\"monthly_editors\"]"
   ]
  },
  {
   "cell_type": "code",
   "execution_count": 49,
   "metadata": {},
   "outputs": [],
   "source": [
    "wikis = wikis.replace([np.inf], 0)"
   ]
  },
  {
   "cell_type": "markdown",
   "metadata": {},
   "source": [
    "## Content pages"
   ]
  },
  {
   "cell_type": "code",
   "execution_count": 50,
   "metadata": {},
   "outputs": [],
   "source": [
    "wikis_list = wikis[\"database_code\"].tolist()"
   ]
  },
  {
   "cell_type": "code",
   "execution_count": 51,
   "metadata": {},
   "outputs": [],
   "source": [
    "ac = wmf.mariadb.run(\"\"\"\n",
    "SELECT\n",
    "    database() AS database_code,\n",
    "    ss_good_articles AS content_pages\n",
    "FROM site_stats\n",
    "\"\"\", wikis_list)"
   ]
  },
  {
   "cell_type": "code",
   "execution_count": 52,
   "metadata": {},
   "outputs": [
    {
     "data": {
      "text/html": [
       "<div>\n",
       "<style scoped>\n",
       "    .dataframe tbody tr th:only-of-type {\n",
       "        vertical-align: middle;\n",
       "    }\n",
       "\n",
       "    .dataframe tbody tr th {\n",
       "        vertical-align: top;\n",
       "    }\n",
       "\n",
       "    .dataframe thead th {\n",
       "        text-align: right;\n",
       "    }\n",
       "</style>\n",
       "<table border=\"1\" class=\"dataframe\">\n",
       "  <thead>\n",
       "    <tr style=\"text-align: right;\">\n",
       "      <th></th>\n",
       "      <th>database_code</th>\n",
       "      <th>content_pages</th>\n",
       "    </tr>\n",
       "  </thead>\n",
       "  <tbody>\n",
       "    <tr>\n",
       "      <th>0</th>\n",
       "      <td>enwiki</td>\n",
       "      <td>6438874</td>\n",
       "    </tr>\n",
       "    <tr>\n",
       "      <th>1</th>\n",
       "      <td>eswiki</td>\n",
       "      <td>1745095</td>\n",
       "    </tr>\n",
       "    <tr>\n",
       "      <th>2</th>\n",
       "      <td>dewiki</td>\n",
       "      <td>2653479</td>\n",
       "    </tr>\n",
       "    <tr>\n",
       "      <th>3</th>\n",
       "      <td>jawiki</td>\n",
       "      <td>1309198</td>\n",
       "    </tr>\n",
       "    <tr>\n",
       "      <th>4</th>\n",
       "      <td>frwiki</td>\n",
       "      <td>2389363</td>\n",
       "    </tr>\n",
       "    <tr>\n",
       "      <th>5</th>\n",
       "      <td>commonswiki</td>\n",
       "      <td>77861123</td>\n",
       "    </tr>\n",
       "  </tbody>\n",
       "</table>\n",
       "</div>"
      ],
      "text/plain": [
       "  database_code  content_pages\n",
       "0        enwiki        6438874\n",
       "1        eswiki        1745095\n",
       "2        dewiki        2653479\n",
       "3        jawiki        1309198\n",
       "4        frwiki        2389363\n",
       "5   commonswiki       77861123"
      ]
     },
     "execution_count": 52,
     "metadata": {},
     "output_type": "execute_result"
    }
   ],
   "source": [
    "check(ac)"
   ]
  },
  {
   "cell_type": "code",
   "execution_count": 53,
   "metadata": {},
   "outputs": [],
   "source": [
    "merge_in(ac)"
   ]
  },
  {
   "cell_type": "markdown",
   "metadata": {},
   "source": [
    "## Cumulative content edits"
   ]
  },
  {
   "cell_type": "code",
   "execution_count": 54,
   "metadata": {},
   "outputs": [
    {
     "name": "stderr",
     "output_type": "stream",
     "text": [
      "PySpark executors will use /usr/lib/anaconda-wmf/bin/python3.\n",
      "                                                                                \r"
     ]
    }
   ],
   "source": [
    "cce = wmf.spark.run(\"\"\"\n",
    "SELECT\n",
    "    wiki_db AS database_code,\n",
    "    COUNT(*) AS cumulative_content_edits\n",
    "FROM\n",
    "    wmf.mediawiki_history\n",
    "WHERE\n",
    "    event_entity = \"revision\" \n",
    "    AND event_type = \"create\" \n",
    "    AND snapshot = \"{snapshot}\" \n",
    "    AND page_namespace_is_content\n",
    "    AND SIZE(event_user_is_bot_by_historical) = 0 \n",
    "GROUP BY wiki_db\n",
    "\"\"\".format(**query_vars))"
   ]
  },
  {
   "cell_type": "code",
   "execution_count": 55,
   "metadata": {},
   "outputs": [
    {
     "data": {
      "text/html": [
       "<div>\n",
       "<style scoped>\n",
       "    .dataframe tbody tr th:only-of-type {\n",
       "        vertical-align: middle;\n",
       "    }\n",
       "\n",
       "    .dataframe tbody tr th {\n",
       "        vertical-align: top;\n",
       "    }\n",
       "\n",
       "    .dataframe thead th {\n",
       "        text-align: right;\n",
       "    }\n",
       "</style>\n",
       "<table border=\"1\" class=\"dataframe\">\n",
       "  <thead>\n",
       "    <tr style=\"text-align: right;\">\n",
       "      <th></th>\n",
       "      <th>database_code</th>\n",
       "      <th>cumulative_content_edits</th>\n",
       "    </tr>\n",
       "  </thead>\n",
       "  <tbody>\n",
       "    <tr>\n",
       "      <th>0</th>\n",
       "      <td>enwiki</td>\n",
       "      <td>655224211</td>\n",
       "    </tr>\n",
       "    <tr>\n",
       "      <th>1</th>\n",
       "      <td>eswiki</td>\n",
       "      <td>94772615</td>\n",
       "    </tr>\n",
       "    <tr>\n",
       "      <th>2</th>\n",
       "      <td>dewiki</td>\n",
       "      <td>134182420</td>\n",
       "    </tr>\n",
       "    <tr>\n",
       "      <th>3</th>\n",
       "      <td>jawiki</td>\n",
       "      <td>66956406</td>\n",
       "    </tr>\n",
       "    <tr>\n",
       "      <th>4</th>\n",
       "      <td>frwiki</td>\n",
       "      <td>110040129</td>\n",
       "    </tr>\n",
       "    <tr>\n",
       "      <th>5</th>\n",
       "      <td>commonswiki</td>\n",
       "      <td>284536774</td>\n",
       "    </tr>\n",
       "  </tbody>\n",
       "</table>\n",
       "</div>"
      ],
      "text/plain": [
       "  database_code  cumulative_content_edits\n",
       "0        enwiki                 655224211\n",
       "1        eswiki                  94772615\n",
       "2        dewiki                 134182420\n",
       "3        jawiki                  66956406\n",
       "4        frwiki                 110040129\n",
       "5   commonswiki                 284536774"
      ]
     },
     "execution_count": 55,
     "metadata": {},
     "output_type": "execute_result"
    }
   ],
   "source": [
    "check(cce)"
   ]
  },
  {
   "cell_type": "code",
   "execution_count": 56,
   "metadata": {},
   "outputs": [],
   "source": [
    "merge_in(cce)"
   ]
  },
  {
   "cell_type": "markdown",
   "metadata": {},
   "source": [
    "## Edits per content page"
   ]
  },
  {
   "cell_type": "code",
   "execution_count": 57,
   "metadata": {},
   "outputs": [],
   "source": [
    "wikis[\"edits_per_content_page\"] = wikis[\"cumulative_content_edits\"] / wikis[\"content_pages\"]"
   ]
  },
  {
   "cell_type": "markdown",
   "metadata": {},
   "source": [
    "## Script direction"
   ]
  },
  {
   "cell_type": "code",
   "execution_count": 58,
   "metadata": {},
   "outputs": [],
   "source": [
    "rtl_wikis = get_dblist(\"rtl\")\n",
    "rtl = pd.DataFrame({\"database_code\": rtl_wikis, \"script_direction\": \"right-to-left\"})\n",
    "merge_in(rtl)\n",
    "wikis[\"script_direction\"] = wikis[\"script_direction\"].replace({0: \"left-to-right\"})"
   ]
  },
  {
   "cell_type": "markdown",
   "metadata": {},
   "source": [
    "## Monthly structured discussions messages"
   ]
  },
  {
   "cell_type": "code",
   "execution_count": 59,
   "metadata": {},
   "outputs": [],
   "source": [
    "msdm = wmf.mariadb.run(\n",
    "\"\"\"\n",
    "SELECT\n",
    "    rev_user_wiki AS database_code,\n",
    "    COUNT(*) / 12 AS monthly_structured_discussions_messages\n",
    "FROM flowdb.flow_revision\n",
    "WHERE\n",
    "    rev_change_type IN (\"new-post\", \"reply\") \n",
    "    AND date_format(FROM_UNIXTIME(\n",
    "        (CONV(SUBSTRING(HEX(rev_id), 1, 12), 16, 10) >> 2) / 1000),\n",
    "        \"%Y-%m-%d %H:%i:%S\") >= \"{start}\" \n",
    "    AND date_format(FROM_UNIXTIME(\n",
    "        (CONV(SUBSTRING(HEX(rev_id), 1, 12), 16, 10) >> 2) / 1000),\n",
    "        \"%Y-%m-%d %H:%i:%S\") < \"{end}\"\n",
    "GROUP BY rev_user_wiki\n",
    "\"\"\".format(**query_vars), \"wikishared\")"
   ]
  },
  {
   "cell_type": "code",
   "execution_count": 60,
   "metadata": {},
   "outputs": [
    {
     "data": {
      "text/html": [
       "<div>\n",
       "<style scoped>\n",
       "    .dataframe tbody tr th:only-of-type {\n",
       "        vertical-align: middle;\n",
       "    }\n",
       "\n",
       "    .dataframe tbody tr th {\n",
       "        vertical-align: top;\n",
       "    }\n",
       "\n",
       "    .dataframe thead th {\n",
       "        text-align: right;\n",
       "    }\n",
       "</style>\n",
       "<table border=\"1\" class=\"dataframe\">\n",
       "  <thead>\n",
       "    <tr style=\"text-align: right;\">\n",
       "      <th></th>\n",
       "      <th>database_code</th>\n",
       "      <th>monthly_structured_discussions_messages</th>\n",
       "    </tr>\n",
       "  </thead>\n",
       "  <tbody>\n",
       "    <tr>\n",
       "      <th>0</th>\n",
       "      <td>enwiki</td>\n",
       "      <td>NaN</td>\n",
       "    </tr>\n",
       "    <tr>\n",
       "      <th>1</th>\n",
       "      <td>eswiki</td>\n",
       "      <td>NaN</td>\n",
       "    </tr>\n",
       "    <tr>\n",
       "      <th>2</th>\n",
       "      <td>dewiki</td>\n",
       "      <td>NaN</td>\n",
       "    </tr>\n",
       "    <tr>\n",
       "      <th>3</th>\n",
       "      <td>jawiki</td>\n",
       "      <td>NaN</td>\n",
       "    </tr>\n",
       "    <tr>\n",
       "      <th>4</th>\n",
       "      <td>frwiki</td>\n",
       "      <td>4110.9167</td>\n",
       "    </tr>\n",
       "    <tr>\n",
       "      <th>5</th>\n",
       "      <td>commonswiki</td>\n",
       "      <td>NaN</td>\n",
       "    </tr>\n",
       "  </tbody>\n",
       "</table>\n",
       "</div>"
      ],
      "text/plain": [
       "  database_code  monthly_structured_discussions_messages\n",
       "0        enwiki                                      NaN\n",
       "1        eswiki                                      NaN\n",
       "2        dewiki                                      NaN\n",
       "3        jawiki                                      NaN\n",
       "4        frwiki                                4110.9167\n",
       "5   commonswiki                                      NaN"
      ]
     },
     "execution_count": 60,
     "metadata": {},
     "output_type": "execute_result"
    }
   ],
   "source": [
    "check(msdm)"
   ]
  },
  {
   "cell_type": "code",
   "execution_count": 61,
   "metadata": {},
   "outputs": [],
   "source": [
    "merge_in(msdm)"
   ]
  },
  {
   "cell_type": "markdown",
   "metadata": {},
   "source": [
    "## Visual edits"
   ]
  },
  {
   "cell_type": "code",
   "execution_count": 62,
   "metadata": {},
   "outputs": [
    {
     "name": "stderr",
     "output_type": "stream",
     "text": [
      "PySpark executors will use /usr/lib/anaconda-wmf/bin/python3.\n",
      "                                                                                \r"
     ]
    }
   ],
   "source": [
    "ve = wmf.spark.run(\n",
    "\"\"\"\n",
    "SELECT\n",
    "    CONCAT(project, \".org\") AS domain_name,\n",
    "    SUM(CASE WHEN ARRAY_CONTAINS(revision_tags, \"visualeditor\") THEN edit_count END)\n",
    "        / SUM(edit_count) AS visual_edits\n",
    "FROM wmf.edit_hourly\n",
    "WHERE\n",
    "    ts >= \"{start}\" \n",
    "    AND ts < \"{end}\"\n",
    "    AND snapshot = \"{snapshot}\"\n",
    "    AND NOT user_is_bot\n",
    "GROUP BY CONCAT(project, \".org\")\n",
    "\"\"\".format(**query_vars))"
   ]
  },
  {
   "cell_type": "code",
   "execution_count": 63,
   "metadata": {},
   "outputs": [
    {
     "data": {
      "text/html": [
       "<div>\n",
       "<style scoped>\n",
       "    .dataframe tbody tr th:only-of-type {\n",
       "        vertical-align: middle;\n",
       "    }\n",
       "\n",
       "    .dataframe tbody tr th {\n",
       "        vertical-align: top;\n",
       "    }\n",
       "\n",
       "    .dataframe thead th {\n",
       "        text-align: right;\n",
       "    }\n",
       "</style>\n",
       "<table border=\"1\" class=\"dataframe\">\n",
       "  <thead>\n",
       "    <tr style=\"text-align: right;\">\n",
       "      <th></th>\n",
       "      <th>domain_name</th>\n",
       "      <th>visual_edits</th>\n",
       "    </tr>\n",
       "  </thead>\n",
       "  <tbody>\n",
       "    <tr>\n",
       "      <th>0</th>\n",
       "      <td>en.wikipedia.org</td>\n",
       "      <td>0.083029</td>\n",
       "    </tr>\n",
       "    <tr>\n",
       "      <th>1</th>\n",
       "      <td>es.wikipedia.org</td>\n",
       "      <td>0.145526</td>\n",
       "    </tr>\n",
       "    <tr>\n",
       "      <th>2</th>\n",
       "      <td>de.wikipedia.org</td>\n",
       "      <td>0.098849</td>\n",
       "    </tr>\n",
       "    <tr>\n",
       "      <th>3</th>\n",
       "      <td>ja.wikipedia.org</td>\n",
       "      <td>0.134256</td>\n",
       "    </tr>\n",
       "    <tr>\n",
       "      <th>4</th>\n",
       "      <td>fr.wikipedia.org</td>\n",
       "      <td>0.157610</td>\n",
       "    </tr>\n",
       "    <tr>\n",
       "      <th>5</th>\n",
       "      <td>commons.wikimedia.org</td>\n",
       "      <td>0.000622</td>\n",
       "    </tr>\n",
       "  </tbody>\n",
       "</table>\n",
       "</div>"
      ],
      "text/plain": [
       "             domain_name  visual_edits\n",
       "0       en.wikipedia.org      0.083029\n",
       "1       es.wikipedia.org      0.145526\n",
       "2       de.wikipedia.org      0.098849\n",
       "3       ja.wikipedia.org      0.134256\n",
       "4       fr.wikipedia.org      0.157610\n",
       "5  commons.wikimedia.org      0.000622"
      ]
     },
     "execution_count": 63,
     "metadata": {},
     "output_type": "execute_result"
    }
   ],
   "source": [
    "check(ve, index_col=\"domain_name\")"
   ]
  },
  {
   "cell_type": "code",
   "execution_count": 64,
   "metadata": {},
   "outputs": [],
   "source": [
    "merge_in(ve, on=\"domain_name\")"
   ]
  },
  {
   "cell_type": "markdown",
   "metadata": {},
   "source": [
    "# Readying for output"
   ]
  },
  {
   "cell_type": "code",
   "execution_count": 145,
   "metadata": {},
   "outputs": [],
   "source": [
    "wikis_formatted = (\n",
    "    wikis[[\n",
    "        \"overall_size_rank\",\n",
    "        \"monthly_unique_devices\",\n",
    "        \"mobile_unique_devices\",\n",
    "        \"monthly_pageviews\",\n",
    "        \"mobile_web_pageviews\",\n",
    "        \"mobile_app_pageviews\",\n",
    "        \"unique_devices_per_editor\",\n",
    "        \"monthly_editors\",\n",
    "        \"monthly_active_editors\",\n",
    "        \"monthly_active_administrators\",\n",
    "        \"majority_mobile_editors\",\n",
    "        \"monthly_new_active_editors\",\n",
    "        \"second_month_new_editor_retention\",\n",
    "        \"monthly_nonbot_edits\",\n",
    "        \"bot_edits\",\n",
    "        \"mobile_edits\",\n",
    "        \"visual_edits\",\n",
    "        \"anonymous_edits\",\n",
    "        \"revert_rate\",\n",
    "        \"edits_Gini_coefficient\",\n",
    "        \"monthly_structured_discussions_messages\",\n",
    "        \"content_pages\",\n",
    "        \"cumulative_content_edits\",\n",
    "        \"edits_per_content_page\",\n",
    "        \"script_direction\",\n",
    "        \"database_code\",\n",
    "        \"project_code\",\n",
    "        \"language_code\",\n",
    "        \"language_name\",\n",
    "        \"domain_name\",\n",
    "        \"wiki_name\"\n",
    "    ]].astype({\n",
    "        # These columns are not monthly averages and will never have a fractional component\n",
    "        \"overall_size_rank\": int,\n",
    "        \"content_pages\": int,\n",
    "        \"cumulative_content_edits\": int\n",
    "    })\n",
    "    .sort_values(\"overall_size_rank\")\n",
    ")\n",
    "\n",
    "# Convert underscores to spaces in column names in the final step, to avoid having to\n",
    "# work with spaces beforehand\n",
    "wikis_formatted = wikis_formatted.rename(columns=lambda c: c.replace(\"_\", \" \"))"
   ]
  },
  {
   "cell_type": "markdown",
   "metadata": {},
   "source": [
    "## Output CSV"
   ]
  },
  {
   "cell_type": "code",
   "execution_count": 146,
   "metadata": {},
   "outputs": [],
   "source": [
    "wikis_formatted.to_csv(\n",
    "    f\"snapshots/{file_stem}.csv\",\n",
    "    float_format=\"%0.4f\",\n",
    "    index=False\n",
    ")"
   ]
  },
  {
   "cell_type": "markdown",
   "metadata": {},
   "source": [
    "## Output XLSX spreadsheet"
   ]
  },
  {
   "cell_type": "code",
   "execution_count": 136,
   "metadata": {},
   "outputs": [],
   "source": [
    "# This produces some but not all of our desired formatting. Things still needed:\n",
    "# * Make the number formats actually work\n",
    "# * Automatically set appropriate column widths\n",
    "# * Style hyperlinks blue\n",
    "# * Set alternating row colors\n",
    "# * Add a filter\n",
    "# \n",
    "# Continuing to try to make xlsxwriter work does not seem like a good idea. \n",
    "# Google Sheets seems to have a more comprehensive and better maintained API, and it\n",
    "# allows us to go directly to our desired destination. \n",
    "\n",
    "xslx_data = wikis_formatted.copy()\n",
    "\n",
    "count_columns = [\n",
    "    \"overall_size_rank\",\n",
    "    \"monthly_unique_devices\",\n",
    "    \"monthly_pageviews\",\n",
    "    \"unique_devices_per_editor\",\n",
    "    \"monthly_editors\",\n",
    "    \"monthly_active_editors\",\n",
    "    \"monthly_active_administrators\",\n",
    "    \"monthly_new_active_editors\",\n",
    "    \"monthly_nonbot_edits\",\n",
    "    \"monthly_structured_discussions_messages\",\n",
    "    \"content_pages\",\n",
    "    \"cumulative_content_edits\",\n",
    "    \"edits_per_content_page\",\n",
    "]\n",
    "\n",
    "proportion_columns = [\n",
    "    \"mobile_unique_devices\",\n",
    "    \"mobile_web_pageviews\",\n",
    "    \"mobile_app_pageviews\",\n",
    "    \"majority_mobile_editors\",\n",
    "    \"second_month_new_editor_retention\",\n",
    "    \"bot_edits\",\n",
    "    \"mobile_edits\",\n",
    "    \"visual_edits\",\n",
    "    \"anonymous_edits\",\n",
    "    \"revert_rate\",\n",
    "    \"edits_Gini_coefficient\",\n",
    "]\n",
    "\n",
    "def get_column_positions(column_names):\n",
    "    return xslx_data.columns.get_indexer_for(column_names)\n",
    "\n",
    "count_column_positions = get_column_positions(count_columns)\n",
    "proportion_column_positions = get_column_positions(proportion_columns)\n",
    "\n",
    "# Helpful documentation:\n",
    "# https://xlsxwriter.readthedocs.io/working_with_pandas.html\n",
    "# https://xlsxwriter.readthedocs.io/example_pandas_column_formats.html\n",
    "with xlsxwriter.Workbook(f'{file_stem}.xlsx') as workbook:\n",
    "    worksheet = workbook.add_worksheet(file_stem)\n",
    "    \n",
    "    basic_settings = {\n",
    "        \"font_name\": \"Arial\",\n",
    "        \"font_size\": 10,\n",
    "        \"align\": \"left\"\n",
    "    }\n",
    "    basic_format = workbook.add_format(basic_settings)\n",
    "\n",
    "    def add_derived_format(extra_settings):\n",
    "        settings = basic_settings.copy()\n",
    "        settings.update(extra_settings)\n",
    "        return workbook.add_format(settings)\n",
    "    \n",
    "    header_format = add_derived_format({\n",
    "        \"bold\": True,\n",
    "        \"text_wrap\": True   \n",
    "    })\n",
    "    \n",
    "    count_format = add_derived_format({\n",
    "        \"align\": \"right\",\n",
    "        \"num_format\": \"#,##0\"\n",
    "    })\n",
    "    \n",
    "    percent_format = add_derived_format({\n",
    "        \"align\": \"right\",\n",
    "        \"num_format\": \"0.0%\"\n",
    "    })\n",
    "\n",
    "    # Turn the wiki name column into a link formula\n",
    "    wiki_name = (\n",
    "        '=HYPERLINK(\"https://'\n",
    "        + wikis_formatted[\"domain name\"]\n",
    "        + '\", \"'\n",
    "        + wikis_formatted[\"wiki name\"]\n",
    "        + '\")'\n",
    "    )\n",
    "\n",
    "    xlsx_data = wikis_formatted.drop(columns=[\"wiki name\"])\n",
    "    xlsx_data.insert(0, \"wiki name\", wiki_name)\n",
    "    \n",
    "    for position, name in enumerate(xlsx_data.columns.values):\n",
    "        worksheet.write(0, position, name, header_format)\n",
    "        \n",
    "        if position in count_column_positions:\n",
    "            column_format = count_format\n",
    "        elif position in proportion_column_positions:\n",
    "            column_format = percent_format\n",
    "        else: \n",
    "            column_format = basic_format\n",
    "\n",
    "        worksheet.write_column(1, position, xlsx_data[name], column_format)\n",
    "    \n",
    "    worksheet.freeze_panes(1, 1)\n",
    "    worksheet.autofilter(0, 0, len(xlsx_data.index), len(xlsx_data.columns) - 1)"
   ]
  }
 ],
 "metadata": {
  "kernelspec": {
   "display_name": "Python 3 (ipykernel)",
   "language": "python",
   "name": "python3"
  },
  "language_info": {
   "codemirror_mode": {
    "name": "ipython",
    "version": 3
   },
   "file_extension": ".py",
   "mimetype": "text/x-python",
   "name": "python",
   "nbconvert_exporter": "python",
   "pygments_lexer": "ipython3",
   "version": "3.7.11"
  }
 },
 "nbformat": 4,
 "nbformat_minor": 4
}
