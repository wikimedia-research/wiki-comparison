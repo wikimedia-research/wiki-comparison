{
 "cells": [
  {
   "cell_type": "code",
   "execution_count": 1,
   "metadata": {},
   "outputs": [],
   "source": [
    "import numpy as np\n",
    "import pandas as pd\n",
    "\n",
    "import wmfdata as wmf\n",
    "from wmfdata.utils import get_dblist"
   ]
  },
  {
   "cell_type": "markdown",
   "metadata": {},
   "source": [
    "# Parameters"
   ]
  },
  {
   "cell_type": "code",
   "execution_count": 2,
   "metadata": {},
   "outputs": [],
   "source": [
    "# Data will be generated for the 12 months ending with and including SNAPSHOT\n",
    "# This is also the mediawiki_history snapshot necessary for the calculations.\n",
    "SNAPSHOT = \"2023-01\"\n",
    "\n",
    "# An ordered list of wikis for which to output each metric after it is generated. \n",
    "# This is useful for spot checking the values generated against the previous snapshot.\n",
    "WIKIS_TO_CHECK = [\n",
    "    \"enwiki\",\n",
    "    \"eswiki\",\n",
    "    \"jawiki\",\n",
    "    \"dewiki\",\n",
    "    \"frwiki\",\n",
    "    \"ruwiki\"\n",
    "]"
   ]
  },
  {
   "cell_type": "code",
   "execution_count": 3,
   "metadata": {},
   "outputs": [],
   "source": [
    "snapshot = pd.Period(SNAPSHOT)\n",
    "start = (snapshot - 11).start_time\n",
    "end = (snapshot + 1).start_time\n",
    "# Used to name the output files\n",
    "file_stem = snapshot.strftime(\"%b %Y\")\n",
    "\n",
    "# Start included, end excluded\n",
    "query_vars = dict(\n",
    "    snapshot=snapshot.strftime(\"%Y-%m\"),\n",
    "    start=start.strftime('%Y-%m-%d'), \n",
    "    end=end.strftime('%Y-%m-%d'),\n",
    "    ym_start=start.strftime(\"%Y-%m\"),\n",
    "    ym_end=end.strftime(\"%Y-%m\"),\n",
    "    pv_start=start.strftime(\"%Y%m\"),\n",
    "    pv_end=end.strftime(\"%Y%m\"),\n",
    "    # New editor retention needs different time boundaries, since we define retention\n",
    "    # in a given month as the status of the new users who registered two months prior\n",
    "    ner_cohort_start=(snapshot - 14).strftime(\"%Y-%m\"),\n",
    "    ner_cohort_end=(snapshot - 1).strftime(\"%Y-%m\")\n",
    ")"
   ]
  },
  {
   "cell_type": "markdown",
   "metadata": {},
   "source": [
    "# Spark setup"
   ]
  },
  {
   "cell_type": "code",
   "execution_count": 6,
   "metadata": {},
   "outputs": [
    {
     "name": "stdout",
     "output_type": "stream",
     "text": [
      "SPARK_HOME: /usr/lib/spark3\n",
      "Using Hadoop client lib jars at 3.2.0, provided by Spark.\n",
      "PYSPARK_PYTHON=/opt/conda-analytics/bin/python3\n"
     ]
    },
    {
     "name": "stderr",
     "output_type": "stream",
     "text": [
      "Setting default log level to \"WARN\".\n",
      "To adjust logging level use sc.setLogLevel(newLevel). For SparkR, use setLogLevel(newLevel).\n",
      "23/02/07 02:04:40 WARN SparkConf: Note that spark.local.dir will be overridden by the value set by the cluster manager (via SPARK_LOCAL_DIRS in mesos/standalone/kubernetes and LOCAL_DIRS in YARN).\n",
      "23/02/07 02:04:41 WARN Utils: Service 'sparkDriver' could not bind on port 12000. Attempting port 12001.\n",
      "23/02/07 02:04:41 WARN Utils: Service 'SparkUI' could not bind on port 4040. Attempting port 4041.\n",
      "23/02/07 02:04:51 WARN Utils: Service 'org.apache.spark.network.netty.NettyBlockTransferService' could not bind on port 13000. Attempting port 13001.\n",
      "23/02/07 02:04:51 WARN YarnSchedulerBackend$YarnSchedulerEndpoint: Attempted to request executors before the AM has registered!\n"
     ]
    },
    {
     "data": {
      "text/html": [
       "\n",
       "            <div>\n",
       "                <p><b>SparkSession - hive</b></p>\n",
       "                \n",
       "        <div>\n",
       "            <p><b>SparkContext</b></p>\n",
       "\n",
       "            <p><a href=\"http://stat1005.eqiad.wmnet:4041\">Spark UI</a></p>\n",
       "\n",
       "            <dl>\n",
       "              <dt>Version</dt>\n",
       "                <dd><code>v3.1.2</code></dd>\n",
       "              <dt>Master</dt>\n",
       "                <dd><code>yarn</code></dd>\n",
       "              <dt>AppName</dt>\n",
       "                <dd><code>wmfdata-yarn-large</code></dd>\n",
       "            </dl>\n",
       "        </div>\n",
       "        \n",
       "            </div>\n",
       "        "
      ],
      "text/plain": [
       "<pyspark.sql.session.SparkSession at 0x7fbaaa8adc30>"
      ]
     },
     "execution_count": 6,
     "metadata": {},
     "output_type": "execute_result"
    }
   ],
   "source": [
    "wmf.spark.create_session(type=\"yarn-large\")"
   ]
  },
  {
   "cell_type": "markdown",
   "metadata": {},
   "source": [
    "# List of wikis"
   ]
  },
  {
   "cell_type": "code",
   "execution_count": 7,
   "metadata": {},
   "outputs": [
    {
     "name": "stderr",
     "output_type": "stream",
     "text": [
      "                                                                                \r"
     ]
    }
   ],
   "source": [
    "# The canonical_data.wikis table is not automatically updated,\n",
    "# so you should first update it manually by running the notebook:\n",
    "# https://github.com/wikimedia-research/canonical-data/blob/master/generation/wikis.ipynb\n",
    "#\n",
    "# This is important since new wikis are regularly opened and old ones are sometimes closed.\n",
    "wikis = wmf.spark.run(\"\"\"\n",
    "SELECT\n",
    "  database_code,\n",
    "  database_group AS project_code,\n",
    "  language_code,\n",
    "  domain_name,\n",
    "  language_name,\n",
    "  english_name as wiki_name\n",
    "FROM canonical_data.wikis\n",
    "WHERE\n",
    "  database_group IN (\n",
    "    \"commons\", \"incubator\", \"foundation\", \"mediawiki\", \"meta\", \"sources\",\n",
    "    \"species\",\"wikibooks\", \"wikidata\", \"wikinews\", \"wikipedia\", \"wikiquote\",\n",
    "    \"wikisource\", \"wikiversity\", \"wikivoyage\", \"wiktionary\"\n",
    "  )\n",
    "  AND status = \"open\"\n",
    "  AND visibility = \"public\"\n",
    "  AND editability = \"public\"\n",
    "\"\"\")"
   ]
  },
  {
   "cell_type": "markdown",
   "metadata": {},
   "source": [
    "# Check for missing wikis in mediawiki_history"
   ]
  },
  {
   "cell_type": "markdown",
   "metadata": {},
   "source": [
    "Sometimes, wikis are not added to mediawiki_history after they're created (e.g. [T299548](https://phabricator.wikimedia.org/T299548), [T220456](https://phabricator.wikimedia.org/T220456)). Let's check for that."
   ]
  },
  {
   "cell_type": "code",
   "execution_count": 8,
   "metadata": {
    "scrolled": true,
    "tags": []
   },
   "outputs": [
    {
     "name": "stderr",
     "output_type": "stream",
     "text": [
      "23/02/07 02:05:44 WARN SessionState: METASTORE_FILTER_HOOK will be ignored, since hive.security.authorization.manager is set to instance of HiveAuthorizerFactory.\n",
      "23/02/07 02:06:08 WARN SharedInMemoryCache: Evicting cached table partition metadata from memory due to size constraints (spark.sql.hive.filesourcePartitionFileCacheSize = 262144000 bytes). This may impact query planning performance.\n",
      "                                                                                \r"
     ]
    }
   ],
   "source": [
    "mwh_wikis = wmf.spark.run(\"\"\"\n",
    "SELECT DISTINCT wiki_db AS database_code\n",
    "FROM wmf.mediawiki_history\n",
    "\"\"\".format(**query_vars))"
   ]
  },
  {
   "cell_type": "code",
   "execution_count": 9,
   "metadata": {},
   "outputs": [
    {
     "data": {
      "text/plain": [
       "{'aswikiquote',\n",
       " 'bclwikiquote',\n",
       " 'bjnwiktionary',\n",
       " 'blkwiki',\n",
       " 'bnwikiquote',\n",
       " 'gorwiktionary',\n",
       " 'guwwikiquote',\n",
       " 'guwwiktionary',\n",
       " 'igwikiquote',\n",
       " 'igwiktionary',\n",
       " 'pcmwiki',\n",
       " 'shnwikibooks',\n",
       " 'tlwikiquote'}"
      ]
     },
     "execution_count": 9,
     "metadata": {},
     "output_type": "execute_result"
    }
   ],
   "source": [
    "mwh_missing_wikis = set(wikis[\"database_code\"]) - set(mwh_wikis[\"database_code\"])\n",
    "mwh_missing_wikis"
   ]
  },
  {
   "cell_type": "markdown",
   "metadata": {},
   "source": [
    "If there are missing wikis, they should be reported to Data Engineering. In the meantime, let's continue generating the data for the remaining wikis."
   ]
  },
  {
   "cell_type": "code",
   "execution_count": 10,
   "metadata": {},
   "outputs": [],
   "source": [
    "wikis = wikis.drop(\n",
    "    index=wikis.query(\"database_code in @mwh_missing_wikis\").index\n",
    ")"
   ]
  },
  {
   "cell_type": "markdown",
   "metadata": {},
   "source": [
    "# Data collection"
   ]
  },
  {
   "cell_type": "code",
   "execution_count": 11,
   "metadata": {},
   "outputs": [],
   "source": [
    "def merge_in(df, on=\"database_code\"):\n",
    "    global wikis\n",
    "    wikis = pd.merge(wikis, df, how=\"left\", on=on).fillna(0)\n",
    "\n",
    "wikis_to_check = (\n",
    "    pd.DataFrame({\"database_code\": WIKIS_TO_CHECK})\n",
    "    .merge(wikis, how=\"left\", on=\"database_code\")\n",
    ")\n",
    "\n",
    "def check(df, index_col=\"database_code\"):\n",
    "    indexes = wikis_to_check[index_col].to_frame()\n",
    "    return indexes.merge(df, how=\"left\", on=index_col)"
   ]
  },
  {
   "cell_type": "markdown",
   "metadata": {},
   "source": [
    "## Unique devices"
   ]
  },
  {
   "cell_type": "code",
   "execution_count": 12,
   "metadata": {},
   "outputs": [
    {
     "name": "stderr",
     "output_type": "stream",
     "text": [
      "                                                                                \r"
     ]
    }
   ],
   "source": [
    "ud = wmf.spark.run(\"\"\"\n",
    "SELECT\n",
    "    -- Strip mobile subdomains so mobile and desktop sites are combined. \n",
    "    REGEXP_REPLACE(\n",
    "        REGEXP_REPLACE(\n",
    "            -- The canonical domains for Wikidata and MediaWiki.org start with `www`, which \n",
    "            -- gets _replaced_ by the mobile subdomain. Combine the two possibilites for each site.\n",
    "            REGEXP_REPLACE(\n",
    "                REGEXP_REPLACE(domain, \"^m\\\\\\\\.wikidata\", \"www.wikidata\"),\n",
    "            \"^m\\\\\\\\.mediawiki\", \"www.mediawiki\"),\n",
    "        \"^m\\\\\\\\.\", \"\"),\n",
    "    \"\\\\\\\\.m\\\\\\\\.\", \".\") AS domain_name,\n",
    "    SUM(uniques_estimate) / 12 AS monthly_unique_devices,\n",
    "    SUM(IF(\n",
    "        (domain REGEXP \"^m\\\\\\\\.\" OR  domain REGEXP \"\\\\\\\\.m\\\\\\\\.\"),\n",
    "        uniques_estimate,\n",
    "        0\n",
    "    )) / SUM(uniques_estimate) AS mobile_unique_devices\n",
    "FROM wmf.unique_devices_per_domain_monthly\n",
    "WHERE \n",
    "    CONCAT(year, LPAD(month, 2, \"0\")) >= \"{pv_start}\" \n",
    "    AND CONCAT(year, LPAD(month, 2, \"0\")) < \"{pv_end}\"  \n",
    "GROUP BY    \n",
    "    REGEXP_REPLACE(\n",
    "        REGEXP_REPLACE(\n",
    "            -- The canonical domains for Wikidata and MediaWiki.org start with `www`, which \n",
    "            -- gets _replaced_ by the mobile subdomain. Combine the two possibilites for each site.\n",
    "            REGEXP_REPLACE(\n",
    "                REGEXP_REPLACE(domain, \"^m\\\\\\\\.wikidata\", \"www.wikidata\"),\n",
    "            \"^m\\\\\\\\.mediawiki\", \"www.mediawiki\"),\n",
    "        \"^m\\\\\\\\.\", \"\"),\n",
    "    \"\\\\\\\\.m\\\\\\\\.\", \".\")\n",
    "\"\"\".format(**query_vars))"
   ]
  },
  {
   "cell_type": "code",
   "execution_count": 13,
   "metadata": {},
   "outputs": [
    {
     "data": {
      "text/html": [
       "<div>\n",
       "<style scoped>\n",
       "    .dataframe tbody tr th:only-of-type {\n",
       "        vertical-align: middle;\n",
       "    }\n",
       "\n",
       "    .dataframe tbody tr th {\n",
       "        vertical-align: top;\n",
       "    }\n",
       "\n",
       "    .dataframe thead th {\n",
       "        text-align: right;\n",
       "    }\n",
       "</style>\n",
       "<table border=\"1\" class=\"dataframe\">\n",
       "  <thead>\n",
       "    <tr style=\"text-align: right;\">\n",
       "      <th></th>\n",
       "      <th>domain_name</th>\n",
       "      <th>monthly_unique_devices</th>\n",
       "      <th>mobile_unique_devices</th>\n",
       "    </tr>\n",
       "  </thead>\n",
       "  <tbody>\n",
       "    <tr>\n",
       "      <th>0</th>\n",
       "      <td>en.wikipedia.org</td>\n",
       "      <td>8.069060e+08</td>\n",
       "      <td>0.701502</td>\n",
       "    </tr>\n",
       "    <tr>\n",
       "      <th>1</th>\n",
       "      <td>es.wikipedia.org</td>\n",
       "      <td>1.454586e+08</td>\n",
       "      <td>0.736539</td>\n",
       "    </tr>\n",
       "    <tr>\n",
       "      <th>2</th>\n",
       "      <td>ja.wikipedia.org</td>\n",
       "      <td>1.023815e+08</td>\n",
       "      <td>0.744152</td>\n",
       "    </tr>\n",
       "    <tr>\n",
       "      <th>3</th>\n",
       "      <td>de.wikipedia.org</td>\n",
       "      <td>9.708916e+07</td>\n",
       "      <td>0.626650</td>\n",
       "    </tr>\n",
       "    <tr>\n",
       "      <th>4</th>\n",
       "      <td>fr.wikipedia.org</td>\n",
       "      <td>9.349382e+07</td>\n",
       "      <td>0.678406</td>\n",
       "    </tr>\n",
       "    <tr>\n",
       "      <th>5</th>\n",
       "      <td>ru.wikipedia.org</td>\n",
       "      <td>1.072902e+08</td>\n",
       "      <td>0.716601</td>\n",
       "    </tr>\n",
       "  </tbody>\n",
       "</table>\n",
       "</div>"
      ],
      "text/plain": [
       "        domain_name  monthly_unique_devices  mobile_unique_devices\n",
       "0  en.wikipedia.org            8.069060e+08               0.701502\n",
       "1  es.wikipedia.org            1.454586e+08               0.736539\n",
       "2  ja.wikipedia.org            1.023815e+08               0.744152\n",
       "3  de.wikipedia.org            9.708916e+07               0.626650\n",
       "4  fr.wikipedia.org            9.349382e+07               0.678406\n",
       "5  ru.wikipedia.org            1.072902e+08               0.716601"
      ]
     },
     "execution_count": 13,
     "metadata": {},
     "output_type": "execute_result"
    }
   ],
   "source": [
    "check(ud, index_col=\"domain_name\")"
   ]
  },
  {
   "cell_type": "code",
   "execution_count": 14,
   "metadata": {},
   "outputs": [],
   "source": [
    "merge_in(ud, on=\"domain_name\")"
   ]
  },
  {
   "cell_type": "markdown",
   "metadata": {},
   "source": [
    "## Pageviews"
   ]
  },
  {
   "cell_type": "code",
   "execution_count": 15,
   "metadata": {},
   "outputs": [
    {
     "name": "stderr",
     "output_type": "stream",
     "text": [
      "                                                                                \r"
     ]
    }
   ],
   "source": [
    "pv = wmf.spark.run(\"\"\"\n",
    "SELECT\n",
    "    IF(\n",
    "        project IN (\"mediawiki\", \"wikidata\"),\n",
    "        CONCAT(\"www.\", project, \".org\"),\n",
    "        CONCAT(project, \".org\")\n",
    "    ) AS domain_name, \n",
    "    SUM(view_count) / 12 AS monthly_pageviews,\n",
    "    SUM(CASE WHEN access_method = \"mobile web\" THEN view_count END)\n",
    "        / SUM(view_count) AS mobile_web_pageviews,\n",
    "    SUM(CASE WHEN access_method = \"mobile app\" THEN view_count END)\n",
    "        / SUM(view_COUNT) AS mobile_app_pageviews\n",
    "FROM wmf.projectview_hourly\n",
    "WHERE\n",
    "    agent_type = \"user\" \n",
    "    AND CONCAT(year, LPAD(month, 2, \"0\")) >= \"{pv_start}\" \n",
    "    AND CONCAT(year, LPAD(month, 2, \"0\")) < \"{pv_end}\"\n",
    "GROUP BY\n",
    "    IF(\n",
    "        project IN (\"mediawiki\", \"wikidata\"),\n",
    "        CONCAT(\"www.\", project, \".org\"),\n",
    "        CONCAT(project, \".org\")\n",
    "    )\n",
    "\"\"\".format(**query_vars))"
   ]
  },
  {
   "cell_type": "code",
   "execution_count": 16,
   "metadata": {},
   "outputs": [
    {
     "data": {
      "text/html": [
       "<div>\n",
       "<style scoped>\n",
       "    .dataframe tbody tr th:only-of-type {\n",
       "        vertical-align: middle;\n",
       "    }\n",
       "\n",
       "    .dataframe tbody tr th {\n",
       "        vertical-align: top;\n",
       "    }\n",
       "\n",
       "    .dataframe thead th {\n",
       "        text-align: right;\n",
       "    }\n",
       "</style>\n",
       "<table border=\"1\" class=\"dataframe\">\n",
       "  <thead>\n",
       "    <tr style=\"text-align: right;\">\n",
       "      <th></th>\n",
       "      <th>domain_name</th>\n",
       "      <th>monthly_pageviews</th>\n",
       "      <th>mobile_web_pageviews</th>\n",
       "      <th>mobile_app_pageviews</th>\n",
       "    </tr>\n",
       "  </thead>\n",
       "  <tbody>\n",
       "    <tr>\n",
       "      <th>0</th>\n",
       "      <td>en.wikipedia.org</td>\n",
       "      <td>7.244414e+09</td>\n",
       "      <td>0.614975</td>\n",
       "      <td>0.023044</td>\n",
       "    </tr>\n",
       "    <tr>\n",
       "      <th>1</th>\n",
       "      <td>es.wikipedia.org</td>\n",
       "      <td>8.425080e+08</td>\n",
       "      <td>0.689464</td>\n",
       "      <td>0.007440</td>\n",
       "    </tr>\n",
       "    <tr>\n",
       "      <th>2</th>\n",
       "      <td>ja.wikipedia.org</td>\n",
       "      <td>9.944083e+08</td>\n",
       "      <td>0.662674</td>\n",
       "      <td>0.010100</td>\n",
       "    </tr>\n",
       "    <tr>\n",
       "      <th>3</th>\n",
       "      <td>de.wikipedia.org</td>\n",
       "      <td>8.161037e+08</td>\n",
       "      <td>0.549553</td>\n",
       "      <td>0.049144</td>\n",
       "    </tr>\n",
       "    <tr>\n",
       "      <th>4</th>\n",
       "      <td>fr.wikipedia.org</td>\n",
       "      <td>7.546241e+08</td>\n",
       "      <td>0.536628</td>\n",
       "      <td>0.015572</td>\n",
       "    </tr>\n",
       "    <tr>\n",
       "      <th>5</th>\n",
       "      <td>ru.wikipedia.org</td>\n",
       "      <td>9.096303e+08</td>\n",
       "      <td>0.641799</td>\n",
       "      <td>0.014268</td>\n",
       "    </tr>\n",
       "  </tbody>\n",
       "</table>\n",
       "</div>"
      ],
      "text/plain": [
       "        domain_name  monthly_pageviews  mobile_web_pageviews  \\\n",
       "0  en.wikipedia.org       7.244414e+09              0.614975   \n",
       "1  es.wikipedia.org       8.425080e+08              0.689464   \n",
       "2  ja.wikipedia.org       9.944083e+08              0.662674   \n",
       "3  de.wikipedia.org       8.161037e+08              0.549553   \n",
       "4  fr.wikipedia.org       7.546241e+08              0.536628   \n",
       "5  ru.wikipedia.org       9.096303e+08              0.641799   \n",
       "\n",
       "   mobile_app_pageviews  \n",
       "0              0.023044  \n",
       "1              0.007440  \n",
       "2              0.010100  \n",
       "3              0.049144  \n",
       "4              0.015572  \n",
       "5              0.014268  "
      ]
     },
     "execution_count": 16,
     "metadata": {},
     "output_type": "execute_result"
    }
   ],
   "source": [
    "check(pv, index_col=\"domain_name\")"
   ]
  },
  {
   "cell_type": "code",
   "execution_count": 17,
   "metadata": {},
   "outputs": [],
   "source": [
    "merge_in(pv, on=\"domain_name\")"
   ]
  },
  {
   "cell_type": "markdown",
   "metadata": {},
   "source": [
    "## Monthly editors"
   ]
  },
  {
   "cell_type": "code",
   "execution_count": 18,
   "metadata": {},
   "outputs": [
    {
     "name": "stderr",
     "output_type": "stream",
     "text": [
      "                                                                                \r"
     ]
    }
   ],
   "source": [
    "me = wmf.spark.run(\"\"\"\n",
    "SELECT\n",
    "    wiki AS database_code,\n",
    "    COUNT(*) / 12 AS monthly_editors,\n",
    "    SUM(CAST(content_edits >= 5 AS INT)) / 12 AS monthly_active_editors,\n",
    "    SUM(CAST(\n",
    "        content_edits >= 5\n",
    "        AND TRUNC(user_registration, 'MM') = TRUNC(month, 'MM') \n",
    "    AS INT)) / 12 AS monthly_new_active_editors\n",
    "FROM wmf_product.editor_month\n",
    "WHERE\n",
    "    month >= \"{start}\" \n",
    "    AND month < \"{end}\" \n",
    "    AND user_id != 0\n",
    "    -- Despite the name, this field identifies bots using both the name and group strategies\n",
    "    AND NOT bot_by_group\n",
    "GROUP BY wiki\n",
    "\"\"\".format(**query_vars))"
   ]
  },
  {
   "cell_type": "code",
   "execution_count": 19,
   "metadata": {},
   "outputs": [
    {
     "data": {
      "text/html": [
       "<div>\n",
       "<style scoped>\n",
       "    .dataframe tbody tr th:only-of-type {\n",
       "        vertical-align: middle;\n",
       "    }\n",
       "\n",
       "    .dataframe tbody tr th {\n",
       "        vertical-align: top;\n",
       "    }\n",
       "\n",
       "    .dataframe thead th {\n",
       "        text-align: right;\n",
       "    }\n",
       "</style>\n",
       "<table border=\"1\" class=\"dataframe\">\n",
       "  <thead>\n",
       "    <tr style=\"text-align: right;\">\n",
       "      <th></th>\n",
       "      <th>database_code</th>\n",
       "      <th>monthly_editors</th>\n",
       "      <th>monthly_active_editors</th>\n",
       "      <th>monthly_new_active_editors</th>\n",
       "    </tr>\n",
       "  </thead>\n",
       "  <tbody>\n",
       "    <tr>\n",
       "      <th>0</th>\n",
       "      <td>enwiki</td>\n",
       "      <td>126515.750000</td>\n",
       "      <td>31491.750000</td>\n",
       "      <td>4522.916667</td>\n",
       "    </tr>\n",
       "    <tr>\n",
       "      <th>1</th>\n",
       "      <td>eswiki</td>\n",
       "      <td>15689.916667</td>\n",
       "      <td>4319.166667</td>\n",
       "      <td>916.250000</td>\n",
       "    </tr>\n",
       "    <tr>\n",
       "      <th>2</th>\n",
       "      <td>jawiki</td>\n",
       "      <td>15324.500000</td>\n",
       "      <td>5330.250000</td>\n",
       "      <td>857.833333</td>\n",
       "    </tr>\n",
       "    <tr>\n",
       "      <th>3</th>\n",
       "      <td>dewiki</td>\n",
       "      <td>18414.166667</td>\n",
       "      <td>5134.916667</td>\n",
       "      <td>355.416667</td>\n",
       "    </tr>\n",
       "    <tr>\n",
       "      <th>4</th>\n",
       "      <td>frwiki</td>\n",
       "      <td>18530.250000</td>\n",
       "      <td>4933.500000</td>\n",
       "      <td>670.750000</td>\n",
       "    </tr>\n",
       "    <tr>\n",
       "      <th>5</th>\n",
       "      <td>ruwiki</td>\n",
       "      <td>11823.583333</td>\n",
       "      <td>3462.166667</td>\n",
       "      <td>552.666667</td>\n",
       "    </tr>\n",
       "  </tbody>\n",
       "</table>\n",
       "</div>"
      ],
      "text/plain": [
       "  database_code  monthly_editors  monthly_active_editors  \\\n",
       "0        enwiki    126515.750000            31491.750000   \n",
       "1        eswiki     15689.916667             4319.166667   \n",
       "2        jawiki     15324.500000             5330.250000   \n",
       "3        dewiki     18414.166667             5134.916667   \n",
       "4        frwiki     18530.250000             4933.500000   \n",
       "5        ruwiki     11823.583333             3462.166667   \n",
       "\n",
       "   monthly_new_active_editors  \n",
       "0                 4522.916667  \n",
       "1                  916.250000  \n",
       "2                  857.833333  \n",
       "3                  355.416667  \n",
       "4                  670.750000  \n",
       "5                  552.666667  "
      ]
     },
     "execution_count": 19,
     "metadata": {},
     "output_type": "execute_result"
    }
   ],
   "source": [
    "check(me)"
   ]
  },
  {
   "cell_type": "code",
   "execution_count": 20,
   "metadata": {},
   "outputs": [],
   "source": [
    "merge_in(me)"
   ]
  },
  {
   "cell_type": "markdown",
   "metadata": {},
   "source": [
    "## Monthly active administrators"
   ]
  },
  {
   "cell_type": "code",
   "execution_count": 21,
   "metadata": {},
   "outputs": [
    {
     "name": "stderr",
     "output_type": "stream",
     "text": [
      "23/02/07 21:47:44 WARN package: Truncated the string representation of a plan since it was too large. This behavior can be adjusted by setting 'spark.sql.debug.maxToStringFields'.\n",
      "23/02/07 21:48:05 WARN DAGScheduler: Broadcasting large task binary with size 1069.7 KiB\n",
      "                                                                                \r"
     ]
    }
   ],
   "source": [
    "maa = wmf.spark.run(\"\"\"\n",
    "SELECT\n",
    "    wiki AS database_code,\n",
    "    SUM(monthly_active_administrators) / 12 AS monthly_active_administrators\n",
    "FROM (\n",
    "    SELECT\n",
    "        wiki_db AS wiki,\n",
    "        SUBSTR(log_timestamp, 1, 6) AS month,\n",
    "        COUNT(DISTINCT log_actor) AS monthly_active_administrators\n",
    "    FROM wmf_raw.mediawiki_logging\n",
    "    WHERE\n",
    "        log_type IN (\"block\", \"delete\", \"protect\", \"rights\")\n",
    "        -- Omit the \"delete_redir\", \"move_prot\", and \"autopromote\" actions, which can be done by regular users\n",
    "        AND log_action NOT IN (\"autopromote\", \"delete_redir\", \"move_prot\")\n",
    "        AND log_timestamp >= \"{pv_start}\" \n",
    "        AND log_timestamp < \"{pv_end}\" \n",
    "        AND snapshot = \"{snapshot}\"\n",
    "    GROUP BY wiki_db, SUBSTR(log_timestamp, 1, 6)\n",
    ") mae\n",
    "GROUP BY wiki\n",
    "\"\"\".format(**query_vars))"
   ]
  },
  {
   "cell_type": "code",
   "execution_count": 22,
   "metadata": {},
   "outputs": [
    {
     "data": {
      "text/html": [
       "<div>\n",
       "<style scoped>\n",
       "    .dataframe tbody tr th:only-of-type {\n",
       "        vertical-align: middle;\n",
       "    }\n",
       "\n",
       "    .dataframe tbody tr th {\n",
       "        vertical-align: top;\n",
       "    }\n",
       "\n",
       "    .dataframe thead th {\n",
       "        text-align: right;\n",
       "    }\n",
       "</style>\n",
       "<table border=\"1\" class=\"dataframe\">\n",
       "  <thead>\n",
       "    <tr style=\"text-align: right;\">\n",
       "      <th></th>\n",
       "      <th>database_code</th>\n",
       "      <th>monthly_active_administrators</th>\n",
       "    </tr>\n",
       "  </thead>\n",
       "  <tbody>\n",
       "    <tr>\n",
       "      <th>0</th>\n",
       "      <td>enwiki</td>\n",
       "      <td>408.166667</td>\n",
       "    </tr>\n",
       "    <tr>\n",
       "      <th>1</th>\n",
       "      <td>eswiki</td>\n",
       "      <td>46.416667</td>\n",
       "    </tr>\n",
       "    <tr>\n",
       "      <th>2</th>\n",
       "      <td>jawiki</td>\n",
       "      <td>32.583333</td>\n",
       "    </tr>\n",
       "    <tr>\n",
       "      <th>3</th>\n",
       "      <td>dewiki</td>\n",
       "      <td>130.750000</td>\n",
       "    </tr>\n",
       "    <tr>\n",
       "      <th>4</th>\n",
       "      <td>frwiki</td>\n",
       "      <td>94.166667</td>\n",
       "    </tr>\n",
       "    <tr>\n",
       "      <th>5</th>\n",
       "      <td>ruwiki</td>\n",
       "      <td>89.916667</td>\n",
       "    </tr>\n",
       "  </tbody>\n",
       "</table>\n",
       "</div>"
      ],
      "text/plain": [
       "  database_code  monthly_active_administrators\n",
       "0        enwiki                     408.166667\n",
       "1        eswiki                      46.416667\n",
       "2        jawiki                      32.583333\n",
       "3        dewiki                     130.750000\n",
       "4        frwiki                      94.166667\n",
       "5        ruwiki                      89.916667"
      ]
     },
     "execution_count": 22,
     "metadata": {},
     "output_type": "execute_result"
    }
   ],
   "source": [
    "check(maa)"
   ]
  },
  {
   "cell_type": "code",
   "execution_count": 23,
   "metadata": {},
   "outputs": [],
   "source": [
    "merge_in(maa)"
   ]
  },
  {
   "cell_type": "markdown",
   "metadata": {},
   "source": [
    "## Majority-mobile editors proportion"
   ]
  },
  {
   "cell_type": "code",
   "execution_count": 24,
   "metadata": {},
   "outputs": [
    {
     "name": "stderr",
     "output_type": "stream",
     "text": [
      "                                                                                \r"
     ]
    }
   ],
   "source": [
    "mmep = wmf.spark.run(\"\"\"\n",
    "WITH user AS (\n",
    "    SELECT \n",
    "        wiki_db AS database_code,\n",
    "        SUM(CAST(ARRAY_CONTAINS(revision_tags, \"mobile edit\") AS INT))\n",
    "            / COUNT(*) AS mobile_editing_proportion\n",
    "    FROM wmf.mediawiki_history\n",
    "    WHERE\n",
    "        event_entity = \"revision\" \n",
    "        AND event_type = \"create\" \n",
    "        AND snapshot = \"{snapshot}\" \n",
    "        AND event_timestamp >= \"{start}\" \n",
    "        AND event_timestamp < \"{end}\"\n",
    "        AND NOT event_user_is_anonymous\n",
    "        AND SIZE(event_user_is_bot_by_historical) = 0\n",
    "    GROUP BY\n",
    "        wiki_db,\n",
    "        event_user_text\n",
    ")\n",
    "SELECT\n",
    "   database_code,\n",
    "   SUM(CAST(mobile_editing_proportion > 0.5 AS INT))\n",
    "       / COUNT(*) AS majority_mobile_editors\n",
    "FROM user\n",
    "GROUP BY database_code\n",
    "\"\"\".format(**query_vars))"
   ]
  },
  {
   "cell_type": "code",
   "execution_count": 25,
   "metadata": {},
   "outputs": [
    {
     "data": {
      "text/html": [
       "<div>\n",
       "<style scoped>\n",
       "    .dataframe tbody tr th:only-of-type {\n",
       "        vertical-align: middle;\n",
       "    }\n",
       "\n",
       "    .dataframe tbody tr th {\n",
       "        vertical-align: top;\n",
       "    }\n",
       "\n",
       "    .dataframe thead th {\n",
       "        text-align: right;\n",
       "    }\n",
       "</style>\n",
       "<table border=\"1\" class=\"dataframe\">\n",
       "  <thead>\n",
       "    <tr style=\"text-align: right;\">\n",
       "      <th></th>\n",
       "      <th>database_code</th>\n",
       "      <th>majority_mobile_editors</th>\n",
       "    </tr>\n",
       "  </thead>\n",
       "  <tbody>\n",
       "    <tr>\n",
       "      <th>0</th>\n",
       "      <td>enwiki</td>\n",
       "      <td>0.266922</td>\n",
       "    </tr>\n",
       "    <tr>\n",
       "      <th>1</th>\n",
       "      <td>eswiki</td>\n",
       "      <td>0.323329</td>\n",
       "    </tr>\n",
       "    <tr>\n",
       "      <th>2</th>\n",
       "      <td>jawiki</td>\n",
       "      <td>0.300403</td>\n",
       "    </tr>\n",
       "    <tr>\n",
       "      <th>3</th>\n",
       "      <td>dewiki</td>\n",
       "      <td>0.161901</td>\n",
       "    </tr>\n",
       "    <tr>\n",
       "      <th>4</th>\n",
       "      <td>frwiki</td>\n",
       "      <td>0.202347</td>\n",
       "    </tr>\n",
       "    <tr>\n",
       "      <th>5</th>\n",
       "      <td>ruwiki</td>\n",
       "      <td>0.369455</td>\n",
       "    </tr>\n",
       "  </tbody>\n",
       "</table>\n",
       "</div>"
      ],
      "text/plain": [
       "  database_code  majority_mobile_editors\n",
       "0        enwiki                 0.266922\n",
       "1        eswiki                 0.323329\n",
       "2        jawiki                 0.300403\n",
       "3        dewiki                 0.161901\n",
       "4        frwiki                 0.202347\n",
       "5        ruwiki                 0.369455"
      ]
     },
     "execution_count": 25,
     "metadata": {},
     "output_type": "execute_result"
    }
   ],
   "source": [
    "check(mmep)"
   ]
  },
  {
   "cell_type": "code",
   "execution_count": 26,
   "metadata": {},
   "outputs": [],
   "source": [
    "merge_in(mmep)"
   ]
  },
  {
   "cell_type": "markdown",
   "metadata": {},
   "source": [
    "## New editor retention"
   ]
  },
  {
   "cell_type": "code",
   "execution_count": 27,
   "metadata": {},
   "outputs": [
    {
     "name": "stderr",
     "output_type": "stream",
     "text": [
      "                                                                                \r"
     ]
    }
   ],
   "source": [
    "ner = wmf.spark.run(\n",
    "\"\"\"\n",
    "SELECT\n",
    "    wiki AS database_code,\n",
    "    SUM(CAST(2nd_month_edits >= 1 AS INT))\n",
    "        / SUM(CAST(1st_month_edits >= 1 AS INT)) AS second_month_new_editor_retention\n",
    "FROM wmf_product.new_editors\n",
    "WHERE \n",
    "    cohort >= \"{ner_cohort_start}\" and\n",
    "    cohort < \"{ner_cohort_end}\"\n",
    "GROUP BY wiki\n",
    "\"\"\".format(**query_vars))"
   ]
  },
  {
   "cell_type": "code",
   "execution_count": 28,
   "metadata": {},
   "outputs": [
    {
     "data": {
      "text/html": [
       "<div>\n",
       "<style scoped>\n",
       "    .dataframe tbody tr th:only-of-type {\n",
       "        vertical-align: middle;\n",
       "    }\n",
       "\n",
       "    .dataframe tbody tr th {\n",
       "        vertical-align: top;\n",
       "    }\n",
       "\n",
       "    .dataframe thead th {\n",
       "        text-align: right;\n",
       "    }\n",
       "</style>\n",
       "<table border=\"1\" class=\"dataframe\">\n",
       "  <thead>\n",
       "    <tr style=\"text-align: right;\">\n",
       "      <th></th>\n",
       "      <th>database_code</th>\n",
       "      <th>second_month_new_editor_retention</th>\n",
       "    </tr>\n",
       "  </thead>\n",
       "  <tbody>\n",
       "    <tr>\n",
       "      <th>0</th>\n",
       "      <td>enwiki</td>\n",
       "      <td>0.077388</td>\n",
       "    </tr>\n",
       "    <tr>\n",
       "      <th>1</th>\n",
       "      <td>eswiki</td>\n",
       "      <td>0.049207</td>\n",
       "    </tr>\n",
       "    <tr>\n",
       "      <th>2</th>\n",
       "      <td>jawiki</td>\n",
       "      <td>0.106374</td>\n",
       "    </tr>\n",
       "    <tr>\n",
       "      <th>3</th>\n",
       "      <td>dewiki</td>\n",
       "      <td>0.075687</td>\n",
       "    </tr>\n",
       "    <tr>\n",
       "      <th>4</th>\n",
       "      <td>frwiki</td>\n",
       "      <td>0.061977</td>\n",
       "    </tr>\n",
       "    <tr>\n",
       "      <th>5</th>\n",
       "      <td>ruwiki</td>\n",
       "      <td>0.060960</td>\n",
       "    </tr>\n",
       "  </tbody>\n",
       "</table>\n",
       "</div>"
      ],
      "text/plain": [
       "  database_code  second_month_new_editor_retention\n",
       "0        enwiki                           0.077388\n",
       "1        eswiki                           0.049207\n",
       "2        jawiki                           0.106374\n",
       "3        dewiki                           0.075687\n",
       "4        frwiki                           0.061977\n",
       "5        ruwiki                           0.060960"
      ]
     },
     "execution_count": 28,
     "metadata": {},
     "output_type": "execute_result"
    }
   ],
   "source": [
    "check(ner, \"database_code\")"
   ]
  },
  {
   "cell_type": "code",
   "execution_count": 29,
   "metadata": {},
   "outputs": [],
   "source": [
    "merge_in(ner)"
   ]
  },
  {
   "cell_type": "markdown",
   "metadata": {},
   "source": [
    "## Monthly non-bot edits"
   ]
  },
  {
   "cell_type": "code",
   "execution_count": 30,
   "metadata": {},
   "outputs": [
    {
     "name": "stderr",
     "output_type": "stream",
     "text": [
      "                                                                                \r"
     ]
    }
   ],
   "source": [
    "mnbe = wmf.spark.run(\"\"\"\n",
    "SELECT\n",
    "    CONCAT(project, \".org\") AS domain_name,\n",
    "    SUM(edit_count) / 12 AS monthly_nonbot_edits,\n",
    "    SUM(CASE WHEN ARRAY_CONTAINS(revision_tags, \"mobile edit\") THEN edit_count END)\n",
    "        / SUM(edit_count) AS mobile_edits,\n",
    "    SUM(CASE WHEN ARRAY_CONTAINS(revision_tags, \"visualeditor\") THEN edit_count END)\n",
    "        / SUM(edit_count) AS visual_edits,\n",
    "    SUM(CASE WHEN user_is_anonymous THEN edit_count END) / SUM(edit_count) AS anonymous_edits\n",
    "FROM wmf.edit_hourly\n",
    "WHERE\n",
    "    ts >= \"{start}\"\n",
    "    AND ts < \"{end}\"\n",
    "    AND NOT user_is_bot\n",
    "    AND snapshot = \"{snapshot}\"\n",
    "GROUP BY CONCAT(project, \".org\")\n",
    "\"\"\".format(**query_vars))"
   ]
  },
  {
   "cell_type": "code",
   "execution_count": 31,
   "metadata": {},
   "outputs": [
    {
     "data": {
      "text/html": [
       "<div>\n",
       "<style scoped>\n",
       "    .dataframe tbody tr th:only-of-type {\n",
       "        vertical-align: middle;\n",
       "    }\n",
       "\n",
       "    .dataframe tbody tr th {\n",
       "        vertical-align: top;\n",
       "    }\n",
       "\n",
       "    .dataframe thead th {\n",
       "        text-align: right;\n",
       "    }\n",
       "</style>\n",
       "<table border=\"1\" class=\"dataframe\">\n",
       "  <thead>\n",
       "    <tr style=\"text-align: right;\">\n",
       "      <th></th>\n",
       "      <th>domain_name</th>\n",
       "      <th>monthly_nonbot_edits</th>\n",
       "      <th>mobile_edits</th>\n",
       "      <th>visual_edits</th>\n",
       "      <th>anonymous_edits</th>\n",
       "    </tr>\n",
       "  </thead>\n",
       "  <tbody>\n",
       "    <tr>\n",
       "      <th>0</th>\n",
       "      <td>en.wikipedia.org</td>\n",
       "      <td>4.246871e+06</td>\n",
       "      <td>0.151764</td>\n",
       "      <td>0.092390</td>\n",
       "      <td>0.162143</td>\n",
       "    </tr>\n",
       "    <tr>\n",
       "      <th>1</th>\n",
       "      <td>es.wikipedia.org</td>\n",
       "      <td>5.635089e+05</td>\n",
       "      <td>0.261083</td>\n",
       "      <td>0.164849</td>\n",
       "      <td>0.265549</td>\n",
       "    </tr>\n",
       "    <tr>\n",
       "      <th>2</th>\n",
       "      <td>ja.wikipedia.org</td>\n",
       "      <td>4.424139e+05</td>\n",
       "      <td>0.262757</td>\n",
       "      <td>0.151111</td>\n",
       "      <td>0.238740</td>\n",
       "    </tr>\n",
       "    <tr>\n",
       "      <th>3</th>\n",
       "      <td>de.wikipedia.org</td>\n",
       "      <td>6.990834e+05</td>\n",
       "      <td>0.055543</td>\n",
       "      <td>0.110093</td>\n",
       "      <td>0.089826</td>\n",
       "    </tr>\n",
       "    <tr>\n",
       "      <th>4</th>\n",
       "      <td>fr.wikipedia.org</td>\n",
       "      <td>7.071892e+05</td>\n",
       "      <td>0.110177</td>\n",
       "      <td>0.172266</td>\n",
       "      <td>0.119487</td>\n",
       "    </tr>\n",
       "    <tr>\n",
       "      <th>5</th>\n",
       "      <td>ru.wikipedia.org</td>\n",
       "      <td>5.007370e+05</td>\n",
       "      <td>0.142449</td>\n",
       "      <td>0.157279</td>\n",
       "      <td>0.181969</td>\n",
       "    </tr>\n",
       "  </tbody>\n",
       "</table>\n",
       "</div>"
      ],
      "text/plain": [
       "        domain_name  monthly_nonbot_edits  mobile_edits  visual_edits  \\\n",
       "0  en.wikipedia.org          4.246871e+06      0.151764      0.092390   \n",
       "1  es.wikipedia.org          5.635089e+05      0.261083      0.164849   \n",
       "2  ja.wikipedia.org          4.424139e+05      0.262757      0.151111   \n",
       "3  de.wikipedia.org          6.990834e+05      0.055543      0.110093   \n",
       "4  fr.wikipedia.org          7.071892e+05      0.110177      0.172266   \n",
       "5  ru.wikipedia.org          5.007370e+05      0.142449      0.157279   \n",
       "\n",
       "   anonymous_edits  \n",
       "0         0.162143  \n",
       "1         0.265549  \n",
       "2         0.238740  \n",
       "3         0.089826  \n",
       "4         0.119487  \n",
       "5         0.181969  "
      ]
     },
     "execution_count": 31,
     "metadata": {},
     "output_type": "execute_result"
    }
   ],
   "source": [
    "check(mnbe, index_col=\"domain_name\")"
   ]
  },
  {
   "cell_type": "code",
   "execution_count": 32,
   "metadata": {},
   "outputs": [],
   "source": [
    "merge_in(mnbe, on=\"domain_name\")"
   ]
  },
  {
   "cell_type": "markdown",
   "metadata": {},
   "source": [
    "## Bot editing proportion"
   ]
  },
  {
   "cell_type": "code",
   "execution_count": 33,
   "metadata": {},
   "outputs": [
    {
     "name": "stderr",
     "output_type": "stream",
     "text": [
      "                                                                                \r"
     ]
    }
   ],
   "source": [
    "bep = wmf.spark.run(\"\"\"\n",
    "SELECT\n",
    "   CONCAT(project, \".org\") AS domain_name,\n",
    "   SUM(CASE WHEN user_is_bot THEN edit_count END)\n",
    "        / SUM(edit_count) AS bot_edits\n",
    "FROM wmf.edit_hourly\n",
    "WHERE\n",
    "    ts  >= \"{start}\" \n",
    "    AND ts  < \"{end}\"\n",
    "    AND snapshot = \"{snapshot}\"\n",
    "GROUP BY CONCAT(project, \".org\")\n",
    "\"\"\".format(**query_vars))"
   ]
  },
  {
   "cell_type": "code",
   "execution_count": 34,
   "metadata": {},
   "outputs": [
    {
     "data": {
      "text/html": [
       "<div>\n",
       "<style scoped>\n",
       "    .dataframe tbody tr th:only-of-type {\n",
       "        vertical-align: middle;\n",
       "    }\n",
       "\n",
       "    .dataframe tbody tr th {\n",
       "        vertical-align: top;\n",
       "    }\n",
       "\n",
       "    .dataframe thead th {\n",
       "        text-align: right;\n",
       "    }\n",
       "</style>\n",
       "<table border=\"1\" class=\"dataframe\">\n",
       "  <thead>\n",
       "    <tr style=\"text-align: right;\">\n",
       "      <th></th>\n",
       "      <th>domain_name</th>\n",
       "      <th>bot_edits</th>\n",
       "    </tr>\n",
       "  </thead>\n",
       "  <tbody>\n",
       "    <tr>\n",
       "      <th>0</th>\n",
       "      <td>en.wikipedia.org</td>\n",
       "      <td>0.245877</td>\n",
       "    </tr>\n",
       "    <tr>\n",
       "      <th>1</th>\n",
       "      <td>es.wikipedia.org</td>\n",
       "      <td>0.111687</td>\n",
       "    </tr>\n",
       "    <tr>\n",
       "      <th>2</th>\n",
       "      <td>ja.wikipedia.org</td>\n",
       "      <td>0.091670</td>\n",
       "    </tr>\n",
       "    <tr>\n",
       "      <th>3</th>\n",
       "      <td>de.wikipedia.org</td>\n",
       "      <td>0.149992</td>\n",
       "    </tr>\n",
       "    <tr>\n",
       "      <th>4</th>\n",
       "      <td>fr.wikipedia.org</td>\n",
       "      <td>0.195407</td>\n",
       "    </tr>\n",
       "    <tr>\n",
       "      <th>5</th>\n",
       "      <td>ru.wikipedia.org</td>\n",
       "      <td>0.292654</td>\n",
       "    </tr>\n",
       "  </tbody>\n",
       "</table>\n",
       "</div>"
      ],
      "text/plain": [
       "        domain_name  bot_edits\n",
       "0  en.wikipedia.org   0.245877\n",
       "1  es.wikipedia.org   0.111687\n",
       "2  ja.wikipedia.org   0.091670\n",
       "3  de.wikipedia.org   0.149992\n",
       "4  fr.wikipedia.org   0.195407\n",
       "5  ru.wikipedia.org   0.292654"
      ]
     },
     "execution_count": 34,
     "metadata": {},
     "output_type": "execute_result"
    }
   ],
   "source": [
    "check(bep, index_col=\"domain_name\")"
   ]
  },
  {
   "cell_type": "code",
   "execution_count": 35,
   "metadata": {},
   "outputs": [],
   "source": [
    "merge_in(bep, on=\"domain_name\")"
   ]
  },
  {
   "cell_type": "markdown",
   "metadata": {},
   "source": [
    "## Revert rate"
   ]
  },
  {
   "cell_type": "code",
   "execution_count": 36,
   "metadata": {},
   "outputs": [
    {
     "name": "stderr",
     "output_type": "stream",
     "text": [
      "                                                                                \r"
     ]
    }
   ],
   "source": [
    "rr = wmf.spark.run(\"\"\"\n",
    "    SELECT\n",
    "        wiki_db AS database_code,\n",
    "        SUM(CAST(revision_is_identity_reverted AS INT)) / COUNT(*) AS revert_rate\n",
    "    FROM\n",
    "        wmf.mediawiki_history\n",
    "    WHERE\n",
    "        event_entity = \"revision\" \n",
    "        AND event_type = \"create\" \n",
    "        AND snapshot = \"{snapshot}\" \n",
    "        AND event_timestamp >= \"{start}\" \n",
    "        AND event_timestamp < \"{end}\" \n",
    "        AND SIZE(event_user_is_bot_by_historical) = 0 \n",
    "    GROUP BY wiki_db\n",
    "\"\"\".format(**query_vars))"
   ]
  },
  {
   "cell_type": "code",
   "execution_count": 37,
   "metadata": {},
   "outputs": [
    {
     "data": {
      "text/html": [
       "<div>\n",
       "<style scoped>\n",
       "    .dataframe tbody tr th:only-of-type {\n",
       "        vertical-align: middle;\n",
       "    }\n",
       "\n",
       "    .dataframe tbody tr th {\n",
       "        vertical-align: top;\n",
       "    }\n",
       "\n",
       "    .dataframe thead th {\n",
       "        text-align: right;\n",
       "    }\n",
       "</style>\n",
       "<table border=\"1\" class=\"dataframe\">\n",
       "  <thead>\n",
       "    <tr style=\"text-align: right;\">\n",
       "      <th></th>\n",
       "      <th>database_code</th>\n",
       "      <th>revert_rate</th>\n",
       "    </tr>\n",
       "  </thead>\n",
       "  <tbody>\n",
       "    <tr>\n",
       "      <th>0</th>\n",
       "      <td>enwiki</td>\n",
       "      <td>0.104520</td>\n",
       "    </tr>\n",
       "    <tr>\n",
       "      <th>1</th>\n",
       "      <td>eswiki</td>\n",
       "      <td>0.166822</td>\n",
       "    </tr>\n",
       "    <tr>\n",
       "      <th>2</th>\n",
       "      <td>jawiki</td>\n",
       "      <td>0.069074</td>\n",
       "    </tr>\n",
       "    <tr>\n",
       "      <th>3</th>\n",
       "      <td>dewiki</td>\n",
       "      <td>0.072570</td>\n",
       "    </tr>\n",
       "    <tr>\n",
       "      <th>4</th>\n",
       "      <td>frwiki</td>\n",
       "      <td>0.061446</td>\n",
       "    </tr>\n",
       "    <tr>\n",
       "      <th>5</th>\n",
       "      <td>ruwiki</td>\n",
       "      <td>0.121988</td>\n",
       "    </tr>\n",
       "  </tbody>\n",
       "</table>\n",
       "</div>"
      ],
      "text/plain": [
       "  database_code  revert_rate\n",
       "0        enwiki     0.104520\n",
       "1        eswiki     0.166822\n",
       "2        jawiki     0.069074\n",
       "3        dewiki     0.072570\n",
       "4        frwiki     0.061446\n",
       "5        ruwiki     0.121988"
      ]
     },
     "execution_count": 37,
     "metadata": {},
     "output_type": "execute_result"
    }
   ],
   "source": [
    "check(rr)"
   ]
  },
  {
   "cell_type": "code",
   "execution_count": 38,
   "metadata": {},
   "outputs": [],
   "source": [
    "merge_in(rr)"
   ]
  },
  {
   "cell_type": "markdown",
   "metadata": {},
   "source": [
    "## Edits Gini coefficient"
   ]
  },
  {
   "cell_type": "code",
   "execution_count": 39,
   "metadata": {},
   "outputs": [
    {
     "name": "stderr",
     "output_type": "stream",
     "text": [
      "                                                                                \r"
     ]
    }
   ],
   "source": [
    "user_edits = wmf.spark.run(\"\"\"\n",
    "SELECT\n",
    "    wiki_db AS wiki,\n",
    "    COUNT(*) AS user_edits\n",
    "FROM\n",
    "    wmf.mediawiki_history\n",
    "WHERE\n",
    "    event_entity = \"revision\" \n",
    "    AND event_type = \"create\" \n",
    "    AND snapshot = \"{snapshot}\" \n",
    "    AND event_timestamp >= \"{start}\" \n",
    "    AND event_timestamp < \"{end}\" \n",
    "    AND SIZE(event_user_is_bot_by_historical) = 0\n",
    "GROUP BY\n",
    "    wiki_db,\n",
    "    event_user_id\n",
    "\"\"\".format(**query_vars))"
   ]
  },
  {
   "cell_type": "code",
   "execution_count": 40,
   "metadata": {},
   "outputs": [],
   "source": [
    "# from https://github.com/oliviaguest/gini\n",
    "# licensed under CC0 (public domain)\n",
    "def gini(array):\n",
    "    \"\"\"Calculate the Gini coefficient of a numpy array.\"\"\"\n",
    "    # based on bottom eq:\n",
    "    # http://www.statsdirect.com/help/generatedimages/equations/equation154.svg\n",
    "    # FROM:\n",
    "    # http://www.statsdirect.com/help/default.htm#nonparametric_methods/gini.htm\n",
    "    # All values are treated equally, arrays must be 1d:\n",
    "    array = array.flatten()\n",
    "    if np.amin(array) < 0:\n",
    "        # Values cannot be negative:\n",
    "        array -= np.amin(array)\n",
    "    # Values cannot be 0:\n",
    "    array = array + 0.0000001\n",
    "    # Values must be sorted:\n",
    "    array = np.sort(array)\n",
    "    # Index per array element:\n",
    "    index = np.arange(1, array.shape[0] + 1)\n",
    "    # Number of array elements:\n",
    "    n = array.shape[0]\n",
    "    # Gini coefficient:\n",
    "    return ((np.sum((2 * index - n - 1) * array)) / (n * np.sum(array)))\n",
    "\n",
    "egc = (\n",
    "    user_edits\n",
    "    .groupby(\"wiki\")\n",
    "    .apply(lambda g: gini(g[\"user_edits\"].values))\n",
    "    .reset_index()\n",
    ")\n",
    "\n",
    "egc.columns = [\"database_code\", \"edits_Gini_coefficient\"]"
   ]
  },
  {
   "cell_type": "code",
   "execution_count": 42,
   "metadata": {},
   "outputs": [
    {
     "data": {
      "text/html": [
       "<div>\n",
       "<style scoped>\n",
       "    .dataframe tbody tr th:only-of-type {\n",
       "        vertical-align: middle;\n",
       "    }\n",
       "\n",
       "    .dataframe tbody tr th {\n",
       "        vertical-align: top;\n",
       "    }\n",
       "\n",
       "    .dataframe thead th {\n",
       "        text-align: right;\n",
       "    }\n",
       "</style>\n",
       "<table border=\"1\" class=\"dataframe\">\n",
       "  <thead>\n",
       "    <tr style=\"text-align: right;\">\n",
       "      <th></th>\n",
       "      <th>database_code</th>\n",
       "      <th>edits_Gini_coefficient</th>\n",
       "    </tr>\n",
       "  </thead>\n",
       "  <tbody>\n",
       "    <tr>\n",
       "      <th>0</th>\n",
       "      <td>enwiki</td>\n",
       "      <td>0.953873</td>\n",
       "    </tr>\n",
       "    <tr>\n",
       "      <th>1</th>\n",
       "      <td>eswiki</td>\n",
       "      <td>0.957572</td>\n",
       "    </tr>\n",
       "    <tr>\n",
       "      <th>2</th>\n",
       "      <td>jawiki</td>\n",
       "      <td>0.936955</td>\n",
       "    </tr>\n",
       "    <tr>\n",
       "      <th>3</th>\n",
       "      <td>dewiki</td>\n",
       "      <td>0.959207</td>\n",
       "    </tr>\n",
       "    <tr>\n",
       "      <th>4</th>\n",
       "      <td>frwiki</td>\n",
       "      <td>0.960226</td>\n",
       "    </tr>\n",
       "    <tr>\n",
       "      <th>5</th>\n",
       "      <td>ruwiki</td>\n",
       "      <td>0.961327</td>\n",
       "    </tr>\n",
       "  </tbody>\n",
       "</table>\n",
       "</div>"
      ],
      "text/plain": [
       "  database_code  edits_Gini_coefficient\n",
       "0        enwiki                0.953873\n",
       "1        eswiki                0.957572\n",
       "2        jawiki                0.936955\n",
       "3        dewiki                0.959207\n",
       "4        frwiki                0.960226\n",
       "5        ruwiki                0.961327"
      ]
     },
     "execution_count": 42,
     "metadata": {},
     "output_type": "execute_result"
    }
   ],
   "source": [
    "check(egc)"
   ]
  },
  {
   "cell_type": "code",
   "execution_count": 43,
   "metadata": {},
   "outputs": [],
   "source": [
    "merge_in(egc)"
   ]
  },
  {
   "cell_type": "markdown",
   "metadata": {},
   "source": [
    "## Content pages"
   ]
  },
  {
   "cell_type": "markdown",
   "metadata": {},
   "source": [
    "Note that this query gives the number of content pages _at query time_, not at the end of the snapshot period. Unless the gap between those times is many months, the difference should be pretty small.\n",
    "\n",
    "Ideally, we would query `mediawiki_history` or the AQS API instead for the count as of the end of the snapshot period. However, this would introduce a new problem: the official [content pages definition](https://www.mediawiki.org/wiki/Manual:Article_count) specifies that pages (in addition to being in a content namespace, not being deleted, and not being a redirect) must also contain one internal link. This information isn't available in `mediawiki_history`, and the article count available through the AQS API probably doesn't take it into account either.\n"
   ]
  },
  {
   "cell_type": "code",
   "execution_count": null,
   "metadata": {
    "scrolled": true,
    "tags": []
   },
   "outputs": [],
   "source": [
    "wikis_list = wikis[\"database_code\"].tolist()\n",
    "\n",
    "ac = wmf.mariadb.run(\"\"\"\n",
    "SELECT\n",
    "    DATABASE() AS database_code,\n",
    "    ss_good_articles AS content_pages\n",
    "FROM site_stats\n",
    "\"\"\", wikis_list)\n",
    "\n",
    "# Some wikis have sharded site_stats tables, which means the output will have multiple rows\n",
    "# for that wiki that need to be summed up.\n",
    "# Documented on https://www.mediawiki.org/wiki/Manual:Site_stats_table\n",
    "ac = ac.groupby(\"database_code\").sum().reset_index()"
   ]
  },
  {
   "cell_type": "code",
   "execution_count": 53,
   "metadata": {},
   "outputs": [
    {
     "data": {
      "text/html": [
       "<div>\n",
       "<style scoped>\n",
       "    .dataframe tbody tr th:only-of-type {\n",
       "        vertical-align: middle;\n",
       "    }\n",
       "\n",
       "    .dataframe tbody tr th {\n",
       "        vertical-align: top;\n",
       "    }\n",
       "\n",
       "    .dataframe thead th {\n",
       "        text-align: right;\n",
       "    }\n",
       "</style>\n",
       "<table border=\"1\" class=\"dataframe\">\n",
       "  <thead>\n",
       "    <tr style=\"text-align: right;\">\n",
       "      <th></th>\n",
       "      <th>database_code</th>\n",
       "      <th>content_pages</th>\n",
       "    </tr>\n",
       "  </thead>\n",
       "  <tbody>\n",
       "    <tr>\n",
       "      <th>0</th>\n",
       "      <td>enwiki</td>\n",
       "      <td>6614510</td>\n",
       "    </tr>\n",
       "    <tr>\n",
       "      <th>1</th>\n",
       "      <td>eswiki</td>\n",
       "      <td>1837386</td>\n",
       "    </tr>\n",
       "    <tr>\n",
       "      <th>2</th>\n",
       "      <td>jawiki</td>\n",
       "      <td>1361481</td>\n",
       "    </tr>\n",
       "    <tr>\n",
       "      <th>3</th>\n",
       "      <td>dewiki</td>\n",
       "      <td>2769985</td>\n",
       "    </tr>\n",
       "    <tr>\n",
       "      <th>4</th>\n",
       "      <td>frwiki</td>\n",
       "      <td>2492047</td>\n",
       "    </tr>\n",
       "    <tr>\n",
       "      <th>5</th>\n",
       "      <td>ruwiki</td>\n",
       "      <td>1892103</td>\n",
       "    </tr>\n",
       "  </tbody>\n",
       "</table>\n",
       "</div>"
      ],
      "text/plain": [
       "  database_code  content_pages\n",
       "0        enwiki        6614510\n",
       "1        eswiki        1837386\n",
       "2        jawiki        1361481\n",
       "3        dewiki        2769985\n",
       "4        frwiki        2492047\n",
       "5        ruwiki        1892103"
      ]
     },
     "execution_count": 53,
     "metadata": {},
     "output_type": "execute_result"
    }
   ],
   "source": [
    "check(ac)"
   ]
  },
  {
   "cell_type": "code",
   "execution_count": 54,
   "metadata": {},
   "outputs": [],
   "source": [
    "merge_in(ac)"
   ]
  },
  {
   "cell_type": "markdown",
   "metadata": {},
   "source": [
    "## All-time content edits"
   ]
  },
  {
   "cell_type": "code",
   "execution_count": 57,
   "metadata": {},
   "outputs": [
    {
     "name": "stderr",
     "output_type": "stream",
     "text": [
      "                                                                                \r"
     ]
    }
   ],
   "source": [
    "atce = wmf.spark.run(\"\"\"\n",
    "SELECT\n",
    "    wiki_db AS database_code,\n",
    "    COUNT(*) AS all_time_content_edits\n",
    "FROM\n",
    "    wmf.mediawiki_history\n",
    "WHERE\n",
    "    event_entity = \"revision\" \n",
    "    AND event_type = \"create\" \n",
    "    AND snapshot = \"{snapshot}\" \n",
    "    AND page_namespace_is_content\n",
    "    AND SIZE(event_user_is_bot_by_historical) = 0 \n",
    "GROUP BY wiki_db\n",
    "\"\"\".format(**query_vars))"
   ]
  },
  {
   "cell_type": "code",
   "execution_count": 58,
   "metadata": {},
   "outputs": [
    {
     "data": {
      "text/html": [
       "<div>\n",
       "<style scoped>\n",
       "    .dataframe tbody tr th:only-of-type {\n",
       "        vertical-align: middle;\n",
       "    }\n",
       "\n",
       "    .dataframe tbody tr th {\n",
       "        vertical-align: top;\n",
       "    }\n",
       "\n",
       "    .dataframe thead th {\n",
       "        text-align: right;\n",
       "    }\n",
       "</style>\n",
       "<table border=\"1\" class=\"dataframe\">\n",
       "  <thead>\n",
       "    <tr style=\"text-align: right;\">\n",
       "      <th></th>\n",
       "      <th>database_code</th>\n",
       "      <th>all_time_content_edits</th>\n",
       "    </tr>\n",
       "  </thead>\n",
       "  <tbody>\n",
       "    <tr>\n",
       "      <th>0</th>\n",
       "      <td>enwiki</td>\n",
       "      <td>696533897</td>\n",
       "    </tr>\n",
       "    <tr>\n",
       "      <th>1</th>\n",
       "      <td>eswiki</td>\n",
       "      <td>101324297</td>\n",
       "    </tr>\n",
       "    <tr>\n",
       "      <th>2</th>\n",
       "      <td>jawiki</td>\n",
       "      <td>71951024</td>\n",
       "    </tr>\n",
       "    <tr>\n",
       "      <th>3</th>\n",
       "      <td>dewiki</td>\n",
       "      <td>141779143</td>\n",
       "    </tr>\n",
       "    <tr>\n",
       "      <th>4</th>\n",
       "      <td>frwiki</td>\n",
       "      <td>117511241</td>\n",
       "    </tr>\n",
       "    <tr>\n",
       "      <th>5</th>\n",
       "      <td>ruwiki</td>\n",
       "      <td>77248137</td>\n",
       "    </tr>\n",
       "  </tbody>\n",
       "</table>\n",
       "</div>"
      ],
      "text/plain": [
       "  database_code  all_time_content_edits\n",
       "0        enwiki               696533897\n",
       "1        eswiki               101324297\n",
       "2        jawiki                71951024\n",
       "3        dewiki               141779143\n",
       "4        frwiki               117511241\n",
       "5        ruwiki                77248137"
      ]
     },
     "execution_count": 58,
     "metadata": {},
     "output_type": "execute_result"
    }
   ],
   "source": [
    "check(atce)"
   ]
  },
  {
   "cell_type": "code",
   "execution_count": 59,
   "metadata": {},
   "outputs": [],
   "source": [
    "merge_in(atce)"
   ]
  },
  {
   "cell_type": "markdown",
   "metadata": {},
   "source": [
    "## Script direction"
   ]
  },
  {
   "cell_type": "code",
   "execution_count": 60,
   "metadata": {},
   "outputs": [],
   "source": [
    "rtl_wikis = get_dblist(\"rtl\")\n",
    "rtl = pd.DataFrame({\"database_code\": rtl_wikis, \"script_direction\": \"right-to-left\"})\n",
    "merge_in(rtl)\n",
    "wikis[\"script_direction\"] = wikis[\"script_direction\"].replace({0: \"left-to-right\"})"
   ]
  },
  {
   "cell_type": "markdown",
   "metadata": {},
   "source": [
    "## Unique devices per editor"
   ]
  },
  {
   "cell_type": "code",
   "execution_count": 61,
   "metadata": {},
   "outputs": [],
   "source": [
    "wikis[\"unique_devices_per_editor\"] = wikis[\"monthly_unique_devices\"] / wikis[\"monthly_editors\"]"
   ]
  },
  {
   "cell_type": "code",
   "execution_count": 62,
   "metadata": {},
   "outputs": [],
   "source": [
    "wikis = wikis.replace([np.inf], 0)"
   ]
  },
  {
   "cell_type": "markdown",
   "metadata": {},
   "source": [
    "## Overall size rank"
   ]
  },
  {
   "cell_type": "code",
   "execution_count": 63,
   "metadata": {},
   "outputs": [],
   "source": [
    "size = np.sqrt(wikis[\"monthly_unique_devices\"] * wikis[\"monthly_active_editors\"])\n",
    "rank = size.rank(method=\"min\", na_option=\"bottom\", ascending=False)\n",
    "wikis[\"overall_size_rank\"] = rank"
   ]
  },
  {
   "cell_type": "markdown",
   "metadata": {},
   "source": [
    "## Edits per content page"
   ]
  },
  {
   "cell_type": "code",
   "execution_count": 64,
   "metadata": {},
   "outputs": [],
   "source": [
    "wikis[\"all_time_edits_per_content_page\"] = wikis[\"all_time_content_edits\"] / wikis[\"content_pages\"]"
   ]
  },
  {
   "cell_type": "markdown",
   "metadata": {},
   "source": [
    "# Readying for output"
   ]
  },
  {
   "cell_type": "code",
   "execution_count": 65,
   "metadata": {},
   "outputs": [],
   "source": [
    "wikis_formatted = (\n",
    "    wikis[[\n",
    "        \"overall_size_rank\",\n",
    "        \"monthly_unique_devices\",\n",
    "        \"mobile_unique_devices\",\n",
    "        \"monthly_pageviews\",\n",
    "        \"mobile_web_pageviews\",\n",
    "        \"mobile_app_pageviews\",\n",
    "        \"unique_devices_per_editor\",\n",
    "        \"monthly_editors\",\n",
    "        \"majority_mobile_editors\",\n",
    "        \"monthly_active_editors\",\n",
    "        \"monthly_active_administrators\",\n",
    "        \"monthly_new_active_editors\",\n",
    "        \"second_month_new_editor_retention\",\n",
    "        \"bot_edits\",\n",
    "        \"monthly_nonbot_edits\",\n",
    "        \"mobile_edits\",\n",
    "        \"visual_edits\",\n",
    "        \"anonymous_edits\",\n",
    "        \"revert_rate\",\n",
    "        \"edits_Gini_coefficient\",\n",
    "        \"content_pages\",\n",
    "        \"all_time_content_edits\",\n",
    "        \"all_time_edits_per_content_page\",\n",
    "        \"script_direction\",\n",
    "        \"database_code\",\n",
    "        \"project_code\",\n",
    "        \"language_code\",\n",
    "        \"language_name\",\n",
    "        \"domain_name\",\n",
    "        \"wiki_name\"\n",
    "    ]].astype({\n",
    "        # These columns are not monthly averages and will never have a fractional component\n",
    "        \"overall_size_rank\": int,\n",
    "        \"content_pages\": int,\n",
    "        \"all_time_content_edits\": int\n",
    "    })\n",
    "    .sort_values(\"overall_size_rank\")\n",
    ")\n",
    "\n",
    "# Convert underscores to spaces in column names in the final step, to avoid having to\n",
    "# work with spaces beforehand\n",
    "wikis_formatted = wikis_formatted.rename(columns=lambda c: c.replace(\"_\", \" \"))"
   ]
  },
  {
   "cell_type": "markdown",
   "metadata": {},
   "source": [
    "## Output CSV"
   ]
  },
  {
   "cell_type": "code",
   "execution_count": 66,
   "metadata": {},
   "outputs": [],
   "source": [
    "wikis_formatted.to_csv(\n",
    "    f\"snapshots/{file_stem}.csv\",\n",
    "    float_format=\"%0.4f\",\n",
    "    index=False\n",
    ")"
   ]
  }
 ],
 "metadata": {
  "kernelspec": {
   "display_name": "Python 3 (ipykernel)",
   "language": "python",
   "name": "python3"
  },
  "language_info": {
   "codemirror_mode": {
    "name": "ipython",
    "version": 3
   },
   "file_extension": ".py",
   "mimetype": "text/x-python",
   "name": "python",
   "nbconvert_exporter": "python",
   "pygments_lexer": "ipython3",
   "version": "3.10.8"
  }
 },
 "nbformat": 4,
 "nbformat_minor": 4
}
