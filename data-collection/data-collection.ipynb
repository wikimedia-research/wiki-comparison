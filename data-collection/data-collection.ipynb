{
 "cells": [
  {
   "cell_type": "code",
   "execution_count": null,
   "metadata": {},
   "outputs": [],
   "source": [
    "import numpy as np\n",
    "import pandas as pd\n",
    "import requests\n",
    "import re\n",
    "import json\n",
    "import datetime as dt \n",
    "from datetime import datetime, timedelta, date\n",
    "\n",
    "import wmfdata as wmf\n",
    "from wmfdata import charting, mariadb, hive\n",
    "from wmfdata.utils import pct_str, pd_display_all\n",
    "\n",
    "import xlsxwriter as xl"
   ]
  },
  {
   "cell_type": "code",
   "execution_count": null,
   "metadata": {},
   "outputs": [],
   "source": [
    "# Start included, end excluded.\n",
    "\n",
    "#update 'start' date in this cell and also the file name in cell 70 & 71 (out of 73 cells)\n",
    "\n",
    "last_month = dt.date.today().replace(day=1) - dt.timedelta(days=1)\n",
    "start= dt.datetime.strptime(\"2020-01-01\", \"%Y-%m-%d\")\n",
    "end=start.replace(year = start.year + 1)\n",
    "\n",
    "query_vars = dict(\n",
    "    snapshot = last_month.strftime(\"%Y-%m\"),\n",
    "    start= start.strftime('%Y-%m-%d'), \n",
    "    end = end.strftime('%Y-%m-%d'),\n",
    "    pv_start = start.strftime(\"%Y%m\"),\n",
    "    pv_end = end.strftime(\"%Y%m\"),\n",
    "    \n",
    "    ner_start = start.strftime(\"%Y-%m\"),\n",
    "    ner_end = end.strftime(\"%Y-%m\"),\n",
    ")"
   ]
  },
  {
   "cell_type": "markdown",
   "metadata": {},
   "source": [
    "# List of wikis"
   ]
  },
  {
   "cell_type": "code",
   "execution_count": null,
   "metadata": {},
   "outputs": [],
   "source": [
    "# Gather all content wikis\n",
    "wikis = wmf.hive.run(\"\"\"\n",
    "SELECT\n",
    "  database_code,\n",
    "  database_group AS project_code,\n",
    "  language_code,\n",
    "  CONCAT(\"https://\", domain_name) AS domain_name,\n",
    "  language_name,\n",
    "  english_name as wiki_name\n",
    "FROM canonical_data.wikis\n",
    "WHERE\n",
    "  database_group in (\n",
    "    \"commons\", \"incubator\", \"foundation\", \"mediawiki\", \"meta\", \"sources\",\n",
    "    \"species\",\"wikibooks\", \"wikidata\", \"wikinews\", \"wikipedia\", \"wikiquote\",\n",
    "    \"wikisource\", \"wikiversity\", \"wikivoyage\", \"wiktionary\"\n",
    "  ) AND\n",
    "  status = \"open\" AND\n",
    "  visibility = \"public\" AND\n",
    "  editability = \"public\"\n",
    "\"\"\")"
   ]
  },
  {
   "cell_type": "code",
   "execution_count": null,
   "metadata": {},
   "outputs": [],
   "source": [
    "wikis.sample(10)"
   ]
  },
  {
   "cell_type": "markdown",
   "metadata": {},
   "source": [
    "# Data"
   ]
  },
  {
   "cell_type": "code",
   "execution_count": null,
   "metadata": {},
   "outputs": [],
   "source": [
    "def merge_in(df, on=\"database_code\"):\n",
    "    global wikis\n",
    "    wikis = pd.merge(wikis, df, how=\"left\", on=on).fillna(0)\n",
    "    \n",
    "def top_10(df, col):\n",
    "    return df.sort_values(col, ascending=False).head(10)\n",
    "  \n",
    "def rename_df(df):\n",
    "    return df.rename({\"wiki\": \"database_code\", \"domain\": \"domain_name\"}, axis=1)"
   ]
  },
  {
   "cell_type": "code",
   "execution_count": null,
   "metadata": {},
   "outputs": [],
   "source": [
    "wikis.info()"
   ]
  },
  {
   "cell_type": "markdown",
   "metadata": {},
   "source": [
    "## Monthly active editors"
   ]
  },
  {
   "cell_type": "code",
   "execution_count": null,
   "metadata": {},
   "outputs": [],
   "source": [
    "mae = wmf.hive.run(\"\"\"\n",
    "SELECT\n",
    "    wiki AS database_code,\n",
    "    COUNT(*) / 12 AS monthly_active_editors,\n",
    "    SUM(\n",
    "        CAST(TRUNC(user_registration, 'MM') = TRUNC(month, 'MM') AS INT)\n",
    "        )/ 12 AS monthly_new_active_editors\n",
    "FROM cchen.editor_month\n",
    "WHERE\n",
    "    content_edits >= 5 \n",
    "    AND month >= \"{start}\" \n",
    "    AND month < \"{end}\" \n",
    "    AND user_id != 0 \n",
    "    --AND user_id IS NOT NULL\n",
    "    AND bot_by_group = FALSE \n",
    "    AND (\n",
    "        user_name not regexp \"bot\\\\b\" or\n",
    "        user_name in (\"Paucabot\", \"Niabot\", \"Marbot\")    \n",
    "    )    \n",
    "GROUP BY wiki\n",
    "\"\"\".format(**query_vars))"
   ]
  },
  {
   "cell_type": "code",
   "execution_count": null,
   "metadata": {},
   "outputs": [],
   "source": [
    "mae"
   ]
  },
  {
   "cell_type": "code",
   "execution_count": null,
   "metadata": {},
   "outputs": [],
   "source": [
    "merge_in(mae)"
   ]
  },
  {
   "cell_type": "markdown",
   "metadata": {},
   "source": [
    "## Monthly unique devices"
   ]
  },
  {
   "cell_type": "code",
   "execution_count": null,
   "metadata": {},
   "outputs": [],
   "source": [
    "mud = wmf.hive.run(\"\"\"\n",
    "SELECT\n",
    "    regexp_replace(\n",
    "        regexp_replace(\n",
    "            regexp_replace(domain, \"zero\\\\\\\\.\", \"\"),\n",
    "        '^m\\\\\\\\.', ''),\n",
    "    '\\\\\\\\.m\\\\\\\\.', '.') AS domain_name,\n",
    "  SUM(uniques_estimate) / 12 AS monthly_unique_devices\n",
    "FROM wmf.unique_devices_per_domain_monthly\n",
    "WHERE \n",
    "    CONCAT(year,LPAD(month,2,'0')) >= \"{pv_start}\" and\n",
    "    CONCAT(year,LPAD(month,2,'0')) < \"{pv_end}\"\n",
    "GROUP BY    \n",
    "    regexp_replace(\n",
    "        regexp_replace(\n",
    "            regexp_replace(domain, \"zero\\\\\\\\.\", \"\"),\n",
    "        '^m\\\\\\\\.', ''),\n",
    "    '\\\\\\\\.m\\\\\\\\.', '.')\n",
    "\"\"\".format(**query_vars))\n",
    "\n",
    "mud[\"domain_name\"] = \"https://\" + mud[\"domain_name\"]\n",
    "\n",
    "top_10(mud, \"monthly_unique_devices\")"
   ]
  },
  {
   "cell_type": "code",
   "execution_count": null,
   "metadata": {},
   "outputs": [],
   "source": [
    "merge_in(mud, on=\"domain_name\")"
   ]
  },
  {
   "cell_type": "markdown",
   "metadata": {},
   "source": [
    "## Overall SIZE rank"
   ]
  },
  {
   "cell_type": "code",
   "execution_count": null,
   "metadata": {},
   "outputs": [],
   "source": [
    "SIZE = np.sqrt(wikis[\"monthly_unique_devices\"] * wikis[\"monthly_active_editors\"])\n",
    "rank = SIZE.rank(method=\"min\", na_option=\"bottom\", ascending=False)\n",
    "wikis[\"overall_SIZE_rank\"] = rank"
   ]
  },
  {
   "cell_type": "markdown",
   "metadata": {},
   "source": [
    "## New editor retention"
   ]
  },
  {
   "cell_type": "code",
   "execution_count": null,
   "metadata": {},
   "outputs": [],
   "source": [
    "with open(\"queries/new_editor_retention.hql\") as f:\n",
    "    q = f.read()\n",
    "\n",
    "ner = wmf.hive.run(\n",
    "    q.format(start = \"{ner_start}\", end = \"{ner_end}\").format(**query_vars))"
   ]
  },
  {
   "cell_type": "code",
   "execution_count": null,
   "metadata": {},
   "outputs": [],
   "source": [
    "top_10(ner, \"new_editor_retention\")"
   ]
  },
  {
   "cell_type": "code",
   "execution_count": null,
   "metadata": {},
   "outputs": [],
   "source": [
    "merge_in(ner)"
   ]
  },
  {
   "cell_type": "markdown",
   "metadata": {},
   "source": [
    "## Mobile editing proportion"
   ]
  },
  {
   "cell_type": "code",
   "execution_count": null,
   "metadata": {},
   "outputs": [],
   "source": [
    "mep = wmf.hive.run(\n",
    "\"\"\"\n",
    "SELECT \n",
    "    wiki AS database_code,\n",
    "    SUM(mobile_web_edits + mobile_app_edits) / SUM(edits) AS mobile_editing_proportion\n",
    "FROM cchen.editor_month\n",
    "WHERE\n",
    "    month >= \"{start}\" \n",
    "    AND month < \"{end}\"\n",
    "    -- A user is a bot if they have a matching name or have the bot flag on *any* wiki\n",
    "    -- See https://meta.wikimedia.org/wiki/Research:Active_editor and https://meta.wikimedia.org/wiki/Research:Bot_user\n",
    "    AND user_id != 0\n",
    "    AND NOT bot_by_group \n",
    "    AND (user_name not regexp \"bot\\\\b\" OR user_name in (\"Paucabot\", \"Niabot\", \"Marbot\"))\n",
    "GROUP BY wiki\n",
    "\"\"\".format(**query_vars))"
   ]
  },
  {
   "cell_type": "code",
   "execution_count": null,
   "metadata": {},
   "outputs": [],
   "source": [
    "top_10(mep, \"mobile_editing_proportion\")"
   ]
  },
  {
   "cell_type": "code",
   "execution_count": null,
   "metadata": {},
   "outputs": [],
   "source": [
    "merge_in(mep)"
   ]
  },
  {
   "cell_type": "markdown",
   "metadata": {},
   "source": [
    "## Bot editing proportion"
   ]
  },
  {
   "cell_type": "code",
   "execution_count": null,
   "metadata": {},
   "outputs": [],
   "source": [
    "bep = wmf.hive.run(\"\"\"\n",
    "SELECT\n",
    "   database_code,\n",
    "   SUM(CASE WHEN user_is_bot THEN edit_count END)/ SUM(edit_count) AS bot_editing_proportion\n",
    "FROM wmf.edit_hourly\n",
    "INNER JOIN canonical_data.wikis ON CONCAT(project,\".org\") = domain_name\n",
    "    AND database_group in \n",
    "    (\n",
    "        \"commons\", \"incubator\", \"foundation\", \"mediawiki\", \"meta\", \"sources\", \n",
    "        \"species\",\"wikibooks\", \"wikidata\", \"wikinews\", \"wikipedia\", \"wikiquote\",\n",
    "        \"wikisource\", \"wikiversity\", \"wikivoyage\", \"wiktionary\"\n",
    "    )\n",
    "WHERE\n",
    "    ts  >= \"{start}\" \n",
    "   AND ts  < \"{end}\"\n",
    "   AND snapshot = \"{snapshot}\"\n",
    "GROUP BY database_code\n",
    "\"\"\".format(**query_vars))\n",
    "\n",
    "top_10(bep, \"bot_editing_proportion\")"
   ]
  },
  {
   "cell_type": "code",
   "execution_count": null,
   "metadata": {},
   "outputs": [],
   "source": [
    "merge_in(bep)"
   ]
  },
  {
   "cell_type": "markdown",
   "metadata": {},
   "source": [
    "## Anonymous editing proportion"
   ]
  },
  {
   "cell_type": "code",
   "execution_count": null,
   "metadata": {},
   "outputs": [],
   "source": [
    "aep = wmf.hive.run(\"\"\"\n",
    "SELECT\n",
    "   database_code,\n",
    "   SUM(IF(user_is_anonymous, edit_count, 0)) / SUM(edit_count)  AS anonymous_editing_proportion\n",
    "FROM wmf.edit_hourly\n",
    "INNER JOIN canonical_data.wikis ON CONCAT(project,\".org\") = domain_name\n",
    "    AND database_group in \n",
    "    (\n",
    "        \"commons\", \"incubator\", \"foundation\", \"mediawiki\", \"meta\", \"sources\", \n",
    "        \"species\",\"wikibooks\", \"wikidata\", \"wikinews\", \"wikipedia\", \"wikiquote\",\n",
    "        \"wikisource\", \"wikiversity\", \"wikivoyage\", \"wiktionary\"\n",
    "    )\n",
    "WHERE\n",
    "    ts >= \"{start}\" \n",
    "   AND ts < \"{end}\"\n",
    "   AND NOT user_is_bot\n",
    "   AND snapshot = \"{snapshot}\"\n",
    "GROUP BY database_code\n",
    "\"\"\".format(**query_vars))\n",
    "\n",
    "top_10(aep, \"anonymous_editing_proportion\")"
   ]
  },
  {
   "cell_type": "code",
   "execution_count": null,
   "metadata": {},
   "outputs": [],
   "source": [
    "merge_in(aep)"
   ]
  },
  {
   "cell_type": "markdown",
   "metadata": {},
   "source": [
    "## Majority-mobile editors proportion"
   ]
  },
  {
   "cell_type": "code",
   "execution_count": null,
   "metadata": {},
   "outputs": [],
   "source": [
    "mmep = wmf.hive.run(\"\"\"\n",
    "SELECT \n",
    "   wiki AS database_code,\n",
    "   SUM(CASE WHEN mobile_editing_proportion > 0.5 THEN 1 END) / COUNT(*) as majority_mobile_editors_proportion\n",
    "FROM \n",
    "(\n",
    "    SELECT \n",
    "        wiki,\n",
    "        SUM(mobile_web_edits + mobile_app_edits) / SUM(edits) AS mobile_editing_proportion\n",
    "    FROM cchen.editor_month\n",
    "    WHERE\n",
    "        month >= \"{start}\" \n",
    "        AND month < \"{end}\" \n",
    "        AND user_id != 0\n",
    "        AND NOT bot_by_group \n",
    "        AND (user_name not regexp \"bot\\\\b\" OR user_name in (\"Paucabot\", \"Niabot\", \"Marbot\"))\n",
    "    GROUP BY wiki, user_name\n",
    ") user_edits\n",
    "GROUP BY wiki\n",
    "\"\"\".format(**query_vars))\n",
    "top_10(mmep, \"majority_mobile_editors_proportion\")"
   ]
  },
  {
   "cell_type": "code",
   "execution_count": null,
   "metadata": {},
   "outputs": [],
   "source": [
    "merge_in(mmep)"
   ]
  },
  {
   "cell_type": "markdown",
   "metadata": {},
   "source": [
    "## Revert rate"
   ]
  },
  {
   "cell_type": "code",
   "execution_count": null,
   "metadata": {},
   "outputs": [],
   "source": [
    "rr = wmf.hive.run(\"\"\"\n",
    "    SELECT\n",
    "        wiki_db AS database_code,\n",
    "        SUM(IF(revision_is_identity_reverted, 1, 0)) / COUNT(*) AS revert_rate\n",
    "        --SUM(CAST(revision_is_identity_reverted AS INT)) / COUNT(*) AS revert_rate\n",
    "    FROM\n",
    "        wmf.mediawiki_history\n",
    "    WHERE\n",
    "        event_entity = \"revision\" \n",
    "        AND event_type = \"create\" \n",
    "        AND snapshot = \"{snapshot}\" \n",
    "        AND event_timestamp >= \"{start}\" \n",
    "        AND event_timestamp < \"{end}\" \n",
    "        AND SIZE(event_user_is_bot_by_historical) = 0 \n",
    "    GROUP BY wiki_db\n",
    "\"\"\".format(**query_vars))\n",
    "\n",
    "top_10(rr, \"revert_rate\")"
   ]
  },
  {
   "cell_type": "code",
   "execution_count": null,
   "metadata": {},
   "outputs": [],
   "source": [
    "merge_in(rr)"
   ]
  },
  {
   "cell_type": "markdown",
   "metadata": {},
   "source": [
    "## Monthly pageviews"
   ]
  },
  {
   "cell_type": "code",
   "execution_count": null,
   "metadata": {},
   "outputs": [],
   "source": [
    "pageviews = hive.run(\"\"\"\n",
    "SELECT CONCAT(\"https://\", project, \".org\") AS domain_name, \n",
    "       SUM(view_count)/12 AS monthly_average_pageviews\n",
    "FROM wmf.projectview_hourly\n",
    "WHERE\n",
    "    agent_type = \"user\" \n",
    "    AND CONCAT(year, LPAD(month, 2, '0')) >= \"{pv_start}\" \n",
    "    AND CONCAT(year, LPAD(month, 2, '0')) < \"{pv_end}\"\n",
    "GROUP BY CONCAT(\"https://\", project, \".org\")\n",
    "\"\"\".format(**query_vars))\n",
    "top_10(pageviews, \"monthly_average_pageviews\")"
   ]
  },
  {
   "cell_type": "code",
   "execution_count": null,
   "metadata": {},
   "outputs": [],
   "source": [
    "pageviews = pageviews.replace(\"https://wikidata.org\", \"https://www.wikidata.org\")"
   ]
  },
  {
   "cell_type": "code",
   "execution_count": null,
   "metadata": {},
   "outputs": [],
   "source": [
    "merge_in(pageviews, on=\"domain_name\")"
   ]
  },
  {
   "cell_type": "markdown",
   "metadata": {},
   "source": [
    "## Mobile pageviews proportion"
   ]
  },
  {
   "cell_type": "code",
   "execution_count": null,
   "metadata": {},
   "outputs": [],
   "source": [
    "mpp = wmf.hive.run(\"\"\"\n",
    "SELECT \n",
    "    CONCAT(\"https://\", project, \".org\") AS domain_name,\n",
    "    SUM(if(access_method = \"mobile web\", view_COUNT, 0)) / SUM(view_COUNT) AS mobile_web_pageviews_proportion,\n",
    "    SUM(if(access_method = \"mobile app\", view_COUNT, 0)) / SUM(view_COUNT) AS mobile_app_pageviews_proportion\n",
    "FROM wmf.projectview_hourly\n",
    "WHERE\n",
    "    agent_type = \"user\" \n",
    "    AND CONCAT(year,LPAD(month,2,'0')) >= \"{pv_start}\" \n",
    "    AND CONCAT(year,LPAD(month,2,'0')) < \"{pv_end}\" \n",
    "GROUP BY CONCAT(\"https://\", project, \".org\")\n",
    "\"\"\".format(**query_vars))"
   ]
  },
  {
   "cell_type": "code",
   "execution_count": null,
   "metadata": {},
   "outputs": [],
   "source": [
    "mpp = mpp.replace(\"https://wikidata.org\", \"https://www.wikidata.org\")"
   ]
  },
  {
   "cell_type": "code",
   "execution_count": null,
   "metadata": {},
   "outputs": [],
   "source": [
    "top_10(mpp, \"mobile_web_pageviews_proportion\")"
   ]
  },
  {
   "cell_type": "code",
   "execution_count": null,
   "metadata": {},
   "outputs": [],
   "source": [
    "merge_in(mpp, on=\"domain_name\")"
   ]
  },
  {
   "cell_type": "markdown",
   "metadata": {},
   "source": [
    "## Monthly active administrators"
   ]
  },
  {
   "cell_type": "code",
   "execution_count": null,
   "metadata": {},
   "outputs": [],
   "source": [
    "maa = hive.run(\"\"\"\n",
    "SELECT\n",
    "    wiki as database_code,\n",
    "    sum(monthly_active_administrators) / 12 as monthly_active_administrators\n",
    "FROM (\n",
    "    SELECT\n",
    "        wiki_db as wiki,\n",
    "        substr(log_timestamp, 1, 6) as month,\n",
    "        count(distinct log_actor) as monthly_active_administrators\n",
    "    from wmf_raw.mediawiki_logging\n",
    "    WHERE\n",
    "        log_type in (\"block\", \"delete\", \"protect\", \"rights\")\n",
    "        -- Omit the \"delete_redir\", \"move_prot\", and \"autopromote\" actions, which can be done by regular users\n",
    "        AND log_action not in (\"autopromote\", \"delete_redir\", \"move_prot\")\n",
    "        AND log_timestamp >= \"{pv_start}\" \n",
    "        AND log_timestamp < \"{pv_end}\" \n",
    "        AND snapshot = \"{snapshot}\"\n",
    "    GROUP BY wiki_db, substr(log_timestamp, 1, 6)\n",
    ") mae\n",
    "GROUP BY wiki\n",
    "\"\"\".format(**query_vars))\n",
    "\n",
    "top_10(maa, \"monthly_active_administrators\")"
   ]
  },
  {
   "cell_type": "code",
   "execution_count": null,
   "metadata": {},
   "outputs": [],
   "source": [
    "merge_in(maa)"
   ]
  },
  {
   "cell_type": "markdown",
   "metadata": {},
   "source": [
    "## Monthly non-bot edits"
   ]
  },
  {
   "cell_type": "code",
   "execution_count": null,
   "metadata": {},
   "outputs": [],
   "source": [
    "mnbe = wmf.hive.run(\"\"\"\n",
    "SELECT\n",
    "   database_code,\n",
    "   SUM(edit_count) /12 AS monthly_nonbot_edits\n",
    "FROM wmf.edit_hourly\n",
    "INNER JOIN canonical_data.wikis ON CONCAT(project,\".org\") = domain_name\n",
    "    AND database_group in \n",
    "    (\n",
    "        \"commons\", \"incubator\", \"foundation\", \"mediawiki\", \"meta\", \"sources\", \n",
    "        \"species\",\"wikibooks\", \"wikidata\", \"wikinews\", \"wikipedia\", \"wikiquote\",\n",
    "        \"wikisource\", \"wikiversity\", \"wikivoyage\", \"wiktionary\"\n",
    "    )\n",
    "WHERE\n",
    "    ts >= \"{start}\" \n",
    "   AND ts < \"{end}\" \n",
    "   AND NOT user_is_bot\n",
    "   AND snapshot = \"{snapshot}\" \n",
    "GROUP BY database_code\n",
    "\"\"\".format(**query_vars))\n",
    "\n",
    "top_10(mnbe, \"monthly_nonbot_edits\")"
   ]
  },
  {
   "cell_type": "code",
   "execution_count": null,
   "metadata": {},
   "outputs": [],
   "source": [
    "merge_in(mnbe)"
   ]
  },
  {
   "cell_type": "markdown",
   "metadata": {},
   "source": [
    "## Edits Gini coefficient"
   ]
  },
  {
   "cell_type": "code",
   "execution_count": null,
   "metadata": {},
   "outputs": [],
   "source": [
    "user_edits = wmf.hive.run(\"\"\"\n",
    "    SELECT\n",
    "        wiki_db AS wiki,\n",
    "        COUNT(*) AS user_edits\n",
    "    FROM\n",
    "        wmf.mediawiki_history\n",
    "    WHERE\n",
    "        event_entity = \"revision\" \n",
    "        AND event_type = \"create\" \n",
    "        AND snapshot = \"{snapshot}\" \n",
    "        AND event_timestamp >= \"{start}\" \n",
    "        AND event_timestamp < \"{end}\" \n",
    "        AND SIZE(event_user_is_bot_by_historical) = 0\n",
    "        --event_user_is_bot_by_name = false \n",
    "        --array_contains(event_user_groups, \"bot\") = false\n",
    "        --array_contains(event_user_is_bot_by, \"NULL\")= false\n",
    "    GROUP BY event_user_id, wiki_db\n",
    "\"\"\".format(**query_vars))"
   ]
  },
  {
   "cell_type": "code",
   "execution_count": null,
   "metadata": {},
   "outputs": [],
   "source": [
    "# FROM https://github.com/oliviaguest/gini\n",
    "def gini(array):\n",
    "    \"\"\"Calculate the Gini coefficient of a numpy array.\"\"\"\n",
    "    # based on bottom eq:\n",
    "    # http://www.statsdirect.com/help/generatedimages/equations/equation154.svg\n",
    "    # FROM:\n",
    "    # http://www.statsdirect.com/help/default.htm#nonparametric_methods/gini.htm\n",
    "    # All values are treated equally, arrays must be 1d:\n",
    "    array = array.flatten()\n",
    "    if np.amin(array) < 0:\n",
    "        # Values cannot be negative:\n",
    "        array -= np.amin(array)\n",
    "    # Values cannot be 0:\n",
    "    array = array + 0.0000001\n",
    "    # Values must be sorted:\n",
    "    array = np.sort(array)\n",
    "    # Index per array element:\n",
    "    index = np.arange(1,array.shape[0]+1)\n",
    "    # Number of array elements:\n",
    "    n = array.shape[0]\n",
    "    # Gini coefficient:\n",
    "    return ((np.sum((2 * index - n - 1) * array)) / (n * np.sum(array)))"
   ]
  },
  {
   "cell_type": "code",
   "execution_count": null,
   "metadata": {},
   "outputs": [],
   "source": [
    "egc = user_edits.groupby(\"wiki\").apply(lambda g: gini(g[\"user_edits\"].values)).reset_index()"
   ]
  },
  {
   "cell_type": "code",
   "execution_count": null,
   "metadata": {},
   "outputs": [],
   "source": [
    "egc.columns = [\"database_code\", \"edits_Gini_coefficient\"]"
   ]
  },
  {
   "cell_type": "code",
   "execution_count": null,
   "metadata": {},
   "outputs": [],
   "source": [
    "merge_in(egc)"
   ]
  },
  {
   "cell_type": "markdown",
   "metadata": {},
   "source": [
    "## Monthly editors"
   ]
  },
  {
   "cell_type": "code",
   "execution_count": null,
   "metadata": {},
   "outputs": [],
   "source": [
    "me = wmf.hive.run(\"\"\"\n",
    "SELECT\n",
    "    wiki AS database_code,\n",
    "    COUNT(*) / 12 AS monthly_editors\n",
    "FROM cchen.editor_month\n",
    "WHERE\n",
    "    month >= \"{start}\" \n",
    "    AND month < \"{end}\" \n",
    "    AND user_id != 0 \n",
    "    AND bot_by_group = FALSE\n",
    "    AND (user_name not regexp \"bot\\\\b\" or user_name in (\"Paucabot\", \"Niabot\", \"Marbot\"))\n",
    "GROUP BY wiki\n",
    "\"\"\".format(**query_vars))\n",
    "\n",
    "top_10(me, \"monthly_editors\")"
   ]
  },
  {
   "cell_type": "code",
   "execution_count": null,
   "metadata": {},
   "outputs": [],
   "source": [
    "merge_in(me)"
   ]
  },
  {
   "cell_type": "markdown",
   "metadata": {},
   "source": [
    "## Unique devices per editor"
   ]
  },
  {
   "cell_type": "code",
   "execution_count": null,
   "metadata": {},
   "outputs": [],
   "source": [
    "wikis[\"unique_devices_per_editor\"] = wikis[\"monthly_unique_devices\"] / wikis[\"monthly_editors\"]"
   ]
  },
  {
   "cell_type": "code",
   "execution_count": null,
   "metadata": {},
   "outputs": [],
   "source": [
    "wikis = wikis.replace([np.inf], 0)"
   ]
  },
  {
   "cell_type": "markdown",
   "metadata": {},
   "source": [
    "## Article COUNT"
   ]
  },
  {
   "cell_type": "code",
   "execution_count": null,
   "metadata": {},
   "outputs": [],
   "source": [
    "#wikis_list = wikis[\"wiki\"].tolist()\n",
    "wikis_list = wikis[\"database_code\"].tolist()"
   ]
  },
  {
   "cell_type": "code",
   "execution_count": null,
   "metadata": {},
   "outputs": [],
   "source": [
    "#as of 09/19\n",
    "wikis_list_not_working = ['alswiktionary', 'alswikibooks', 'alswikiquote', 'mowiki', 'mowiktionary']"
   ]
  },
  {
   "cell_type": "code",
   "execution_count": null,
   "metadata": {},
   "outputs": [],
   "source": [
    "wikis_list_clean = [x for x in wikis_list if x not in wikis_list_not_working]"
   ]
  },
  {
   "cell_type": "code",
   "execution_count": null,
   "metadata": {},
   "outputs": [],
   "source": [
    "ac = wmf.mariadb.run(\"\"\"\n",
    "SELECT\n",
    "    database() AS database_code,\n",
    "    ss_good_articles AS article_COUNT\n",
    "FROM site_stats\n",
    "\"\"\", wikis_list_clean)"
   ]
  },
  {
   "cell_type": "code",
   "execution_count": null,
   "metadata": {},
   "outputs": [],
   "source": [
    "top_10(ac, \"article_COUNT\")"
   ]
  },
  {
   "cell_type": "code",
   "execution_count": null,
   "metadata": {},
   "outputs": [],
   "source": [
    "merge_in(ac)"
   ]
  },
  {
   "cell_type": "markdown",
   "metadata": {},
   "source": [
    "## Cumulative content edits"
   ]
  },
  {
   "cell_type": "code",
   "execution_count": null,
   "metadata": {},
   "outputs": [],
   "source": [
    "cce = wmf.hive.run(\"\"\"\n",
    "    SELECT\n",
    "        wiki_db AS database_code,\n",
    "        COUNT(*) AS cumulative_content_edits\n",
    "    FROM\n",
    "        wmf.mediawiki_history\n",
    "    WHERE\n",
    "        event_entity = \"revision\" \n",
    "        AND event_type = \"create\" \n",
    "        AND snapshot = \"{snapshot}\" \n",
    "        AND page_namespace_is_content = true \n",
    "        AND SIZE(event_user_is_bot_by_historical) = 0 \n",
    "        AND array_contains(event_user_groups, \"bot\") = false\n",
    "    GROUP BY wiki_db\n",
    "\"\"\".format(**query_vars))"
   ]
  },
  {
   "cell_type": "code",
   "execution_count": null,
   "metadata": {},
   "outputs": [],
   "source": [
    "top_10(cce, \"cumulative_content_edits\")"
   ]
  },
  {
   "cell_type": "code",
   "execution_count": null,
   "metadata": {},
   "outputs": [],
   "source": [
    "merge_in(cce)"
   ]
  },
  {
   "cell_type": "markdown",
   "metadata": {},
   "source": [
    "## Edits per content page"
   ]
  },
  {
   "cell_type": "code",
   "execution_count": null,
   "metadata": {},
   "outputs": [],
   "source": [
    "wikis[\"edits_per_content_page\"] = wikis[\"cumulative_content_edits\"] / wikis[\"article_COUNT\"]"
   ]
  },
  {
   "cell_type": "markdown",
   "metadata": {},
   "source": [
    "## Script direction"
   ]
  },
  {
   "cell_type": "code",
   "execution_count": null,
   "metadata": {},
   "outputs": [],
   "source": [
    "rtl_url = \"https://noc.wikimedia.org/conf/dblists/rtl.dblist\"\n",
    "rtl_wikis = pd.Series(requests.get(rtl_url).text.split(\"\\n\"))\n",
    "rtl = pd.DataFrame({\"database_code\": rtl_wikis, \"script_direction\": \"right-to-left\"})\n",
    "\n",
    "merge_in(rtl)\n",
    "wikis[\"script_direction\"] = wikis[\"script_direction\"].replace([0], \"left-to-right\")"
   ]
  },
  {
   "cell_type": "markdown",
   "metadata": {},
   "source": [
    "## Monthly structured discussions messages"
   ]
  },
  {
   "cell_type": "code",
   "execution_count": null,
   "metadata": {},
   "outputs": [],
   "source": [
    "msdm = wmf.mariadb.run(\n",
    "\"\"\"\n",
    "SELECT\n",
    "    rev_user_wiki AS database_code,\n",
    "    COUNT(*) / 12 AS monthly_structured_discussions_messages\n",
    "FROM flowdb.flow_revision\n",
    "WHERE\n",
    "    rev_change_type in (\"new-post\", \"reply\") \n",
    "    AND date_format(FROM_unixtime(\n",
    "        (conv(substring(hex(rev_id), 1, 12), 16, 10) >> 2) / 1000),\n",
    "        \"%Y-%m-%d %H:%i:%S\") >= \"{start}\" \n",
    "    AND date_format(FROM_unixtime(\n",
    "        (conv(substring(hex(rev_id), 1, 12), 16, 10) >> 2) / 1000),\n",
    "        \"%Y-%m-%d %H:%i:%S\") < \"{end}\"\n",
    "GROUP BY rev_user_wiki\n",
    "\"\"\".format(**query_vars), \"wikishared\")\n",
    "\n",
    "top_10(msdm, \"monthly_structured_discussions_messages\")"
   ]
  },
  {
   "cell_type": "code",
   "execution_count": null,
   "metadata": {},
   "outputs": [],
   "source": [
    "merge_in(msdm)"
   ]
  },
  {
   "cell_type": "markdown",
   "metadata": {},
   "source": [
    "## Visual edits"
   ]
  },
  {
   "cell_type": "code",
   "execution_count": null,
   "metadata": {},
   "outputs": [],
   "source": [
    "ve = wmf.hive.run(\"\"\"\n",
    "SELECT \n",
    "    wiki AS database_code,\n",
    "    SUM(visual_edits) / SUM(edits) AS visual_edits\n",
    "FROM cchen.editor_month\n",
    "WHERE\n",
    "    month >= \"{start}\" \n",
    "    AND month < \"{end}\"\n",
    "    AND user_id != 0\n",
    "    AND NOT bot_by_group \n",
    "    AND (user_name not regexp \"bot\\\\b\" OR user_name in (\"Paucabot\", \"Niabot\", \"Marbot\"))\n",
    "GROUP BY wiki\n",
    "\"\"\".format(**query_vars))\n",
    "\n",
    "top_10(ve, \"visual_edits\")"
   ]
  },
  {
   "cell_type": "code",
   "execution_count": null,
   "metadata": {},
   "outputs": [],
   "source": [
    "merge_in(ve)"
   ]
  },
  {
   "cell_type": "markdown",
   "metadata": {},
   "source": [
    "## Mobile unique devices"
   ]
  },
  {
   "cell_type": "code",
   "execution_count": null,
   "metadata": {},
   "outputs": [],
   "source": [
    "mob_ud = wmf.hive.run(\"\"\"\n",
    "SELECT\n",
    "    regexp_replace(\n",
    "        regexp_replace(\n",
    "            regexp_replace(regexp_replace(domain, \"www\\\\\\\\.\", \"\"), \"zero\\\\\\\\.\", \"\"),\n",
    "        '^m\\\\\\\\.', ''),\n",
    "    '\\\\\\\\.m\\\\\\\\.', '.') AS domain_name,\n",
    "    SUM(if((domain regexp '^m\\\\\\\\.' or  domain regexp '\\\\\\\\.m\\\\\\\\.'), uniques_estimate, 0)) AS mobile_COUNT,\n",
    "    SUM(uniques_estimate) AS total_COUNT,\n",
    "    SUM(\n",
    "        IF((domain regexp '^m\\\\\\\\.' or  domain regexp '\\\\\\\\.m\\\\\\\\.'), uniques_estimate, 0)\n",
    "    ) / SUM(uniques_estimate) AS mobile_unique_devices\n",
    "FROM wmf.unique_devices_per_domain_monthly\n",
    "WHERE \n",
    "    CONCAT(year, LPAD(month, 2, '0')) >= \"{pv_start}\" AND\n",
    "    CONCAT(year, LPAD(month, 2, '0')) < \"{pv_end}\"  \n",
    "GROUP BY    \n",
    "    regexp_replace(\n",
    "        regexp_replace(\n",
    "            regexp_replace(regexp_replace(domain, \"www\\\\\\\\.\", \"\"), \"zero\\\\\\\\.\", \"\"),\n",
    "        '^m\\\\\\\\.', ''),\n",
    "    '\\\\\\\\.m\\\\\\\\.', '.')\n",
    "\"\"\".format(**query_vars))\n",
    "\n",
    "mob_ud[\"domain_name\"] = \"https://\" + mob_ud[\"domain_name\"]"
   ]
  },
  {
   "cell_type": "code",
   "execution_count": null,
   "metadata": {},
   "outputs": [],
   "source": [
    "mob_ud = mob_ud.replace(\"https://wikidata.org\", \"https://www.wikidata.org\")"
   ]
  },
  {
   "cell_type": "code",
   "execution_count": null,
   "metadata": {},
   "outputs": [],
   "source": [
    "top_10(mob_ud, \"mobile_unique_devices\")"
   ]
  },
  {
   "cell_type": "code",
   "execution_count": null,
   "metadata": {},
   "outputs": [],
   "source": [
    "merge_in(mob_ud, on=\"domain_name\")"
   ]
  },
  {
   "cell_type": "markdown",
   "metadata": {},
   "source": [
    "# Readying for spreadsheet"
   ]
  },
  {
   "cell_type": "code",
   "execution_count": null,
   "metadata": {},
   "outputs": [],
   "source": [
    "wikis.columns.tolist()"
   ]
  },
  {
   "cell_type": "code",
   "execution_count": null,
   "metadata": {},
   "outputs": [],
   "source": [
    "wikis.head()"
   ]
  },
  {
   "cell_type": "code",
   "execution_count": null,
   "metadata": {},
   "outputs": [],
   "source": [
    "wikis = wikis[[\n",
    "    'overall_SIZE_rank',\n",
    "    'monthly_unique_devices',\n",
    "    'mobile_unique_devices',\n",
    "    'mobile_web_pageviews_proportion',\n",
    "    'mobile_app_pageviews_proportion',\n",
    "    'unique_devices_per_editor',\n",
    "    'monthly_editors',\n",
    "    'monthly_active_editors',\n",
    "    'monthly_active_administrators',\n",
    "    'majority_mobile_editors_proportion',\n",
    "    'monthly_new_active_editors',\n",
    "    'new_editor_retention',\n",
    "    'monthly_nonbot_edits',\n",
    "    'bot_editing_proportion',\n",
    "    'mobile_editing_proportion',\n",
    "    'visual_edits',\n",
    "    'anonymous_editing_proportion',\n",
    "    'revert_rate',\n",
    "    'edits_Gini_coefficient',\n",
    "    'monthly_structured_discussions_messages',\n",
    "    'article_COUNT',\n",
    "    'cumulative_content_edits',\n",
    "    'edits_per_content_page',\n",
    "    'script_direction',\n",
    "    'database_code',\n",
    "    'project_code',\n",
    "    'language_code',\n",
    "    'domain_name',\n",
    "    'language_name',\n",
    "    'project_code',\n",
    "    'wiki_name',\n",
    "]]"
   ]
  },
  {
   "cell_type": "code",
   "execution_count": null,
   "metadata": {},
   "outputs": [],
   "source": [
    "wikis.rename(columns={\n",
    "    'article_COUNT':'content_pages',\n",
    "    'anonymous_editing_proportion': 'anonymous_edits',\n",
    "    'mobile_editing_proportion': 'mobile_edits',\n",
    "    'bot_editing_proportion':'bot_edits',\n",
    "    'new_editor_retention':'second_month_editor_retention',\n",
    "    'majority_mobile_editors_proportion':'majority_mobile_editors',\n",
    "    'mobile_app_pageviews_proportion':'mobile_app_pageviews',\n",
    "    'mobile_web_pageviews_proportion':'mobile_web_pageviews',\n",
    "    'domain_name':'domain',\n",
    "    'wiki_name': 'wiki'\n",
    "}, inplace=True)\n",
    "\n",
    "#drop the underscore in headers\n",
    "wikis.columns = wikis.columns.str.replace('_', ' ')\n",
    "\n",
    "#add url column and put at the front\n",
    "wikis['url'] = wikis['wiki'] + '#' + wikis['domain']\n",
    "cols = wikis.columns.tolist()\n",
    "cols = cols[-1:] + cols[:-1]\n",
    "wikis = wikis[cols]\n",
    "\n",
    "#sort by size\n",
    "wikis = wikis.sort_values(\"overall SIZE rank\").fillna(0).reset_index(drop=True)\n",
    "\n",
    "#format to 2 decimal places\n",
    "pd.options.display.float_format = '{:.2f}'.format\n",
    "#format floats to use comma separators https://pandas.pydata.org/pandas-docs/version/0.23.4/options.html\n",
    "pd.options.display.float_format = '{:,}'.format"
   ]
  },
  {
   "cell_type": "code",
   "execution_count": null,
   "metadata": {},
   "outputs": [],
   "source": [
    "def make_hyperlink(val):\n",
    "    wiki, domain = val.split('#')\n",
    "    #url = \"https://custom.url/{}\"\n",
    "    return '=HYPERLINK(\"{domain}\", \"{wiki}\")'.format(domain=domain, wiki=wiki)\n",
    "\n",
    "wikis['url'] = wikis['url'].apply(lambda x: make_hyperlink(x))"
   ]
  },
  {
   "cell_type": "code",
   "execution_count": null,
   "metadata": {},
   "outputs": [],
   "source": [
    "#write to xls\n",
    "#https://xlsxwriter.readthedocs.io/working_with_pandas.html\n",
    "#https://xlsxwriter.readthedocs.io/example_pandas_column_formats.html\n",
    "    \n",
    "# Create a Pandas Excel writer using XlsxWriter as the engine.\n",
    "writer = pd.ExcelWriter('Dec 2019.xlsx', engine='xlsxwriter')\n",
    "\n",
    "# Convert the dataframe to an XlsxWriter Excel object.\n",
    "wikis.to_excel(writer, sheet_name='Dec 2019', float_format = \"%0.1f\", index=False)\n",
    "\n",
    "# Get the xlsxwriter workbook and worksheet objects.\n",
    "workbook  = writer.book\n",
    "worksheet = writer.sheets['Dec 2019']\n",
    "\n",
    "# create desired xlsxwriter formats\n",
    "headers = workbook.add_format({'bold': True})\n",
    "alignment = workbook.add_format({'align': 'left'})\n",
    "\n",
    "# apply formats to header and index\n",
    "worksheet.set_row(0, None, headers)\n",
    "worksheet.set_column(0,0, 18, alignment)\n",
    "#set_column(first_col, last_col, width, cell_format, options)\n",
    "\n",
    "# Add some cell formats\n",
    "percent = workbook.add_format({'num_format': '0%'})\n",
    "comma = workbook.add_format({'num_format': '#,##0.0'})\n",
    "\n",
    "\n",
    "# Set the format on the percent columns.\n",
    "# Set the format but not the column width.\n",
    "worksheet.set_column('D:F', 18, percent)\n",
    "worksheet.set_column('K:K', 18, percent)\n",
    "worksheet.set_column('M:M', 18, percent)\n",
    "worksheet.set_column('O:S', 18, percent)\n",
    "\n",
    "worksheet.set_column('C:C', 18, comma)\n",
    "worksheet.set_column('G:I', 18, comma)\n",
    "worksheet.set_column('L:L', 18, comma)\n",
    "worksheet.set_column('N:N', 18, comma)\n",
    "worksheet.set_column('U:W', 18, comma)\n",
    "\n",
    "\n",
    "# Add a sample alternative link format.\n",
    "blue_format = workbook.add_format({\n",
    "    'font_color': 'blue',\n",
    "    'bold':       1,\n",
    "    'underline':  1,\n",
    "    'font_size':  12,\n",
    "})\n",
    "\n",
    "#Set the format and the width\n",
    "worksheet.set_column('A:A', 50, blue_format)\n",
    "\n",
    "worksheet.set_column('B:AF', 18)\n",
    "\n",
    "# Close the Pandas Excel writer and output the Excel file.\n",
    "writer.save()"
   ]
  },
  {
   "cell_type": "code",
   "execution_count": null,
   "metadata": {},
   "outputs": [],
   "source": [
    "wikis.to_csv(\"Dec_2019.csv\", sep=',', encoding = 'utf-8', index=False)"
   ]
  },
  {
   "cell_type": "raw",
   "metadata": {},
   "source": [
    "wikis_style = wikis.copy()\n",
    "\n",
    "import pandas.io.formats.style\n",
    "\n",
    "#https://pandas.pydata.org/pandas-docs/stable/user_guide/style.html\n",
    "def make_clickable_both(val): \n",
    "    wiki, domain = val.split('#')\n",
    "    return '<a href=\"{domain}\">{wiki}</a>'.format(domain=domain, wiki=wiki)\n",
    "\n",
    "#wikis_test.style.format({'url': make_clickable_both})\n",
    "\n",
    "wikis_styled = wikis_styled.style.format(\n",
    "{'overall SIZE rank':\"{:.0f}\",\n",
    " 'monthly unique devices':\"{:.0f}\",\n",
    " 'mobile unique devices':\"{:.1%}\",\n",
    " 'mobile web pageviews':\"{:.1%}\",\n",
    " 'mobile app pageviews':\"{:.1%}\",\n",
    " 'unique devices per editor':\"{:.0f}\",\n",
    " 'monthly editors':\"{:.0f}\",\n",
    " 'monthly active editors':\"{:.0f}\",\n",
    " 'monthly active administrators':\"{:.0f}\",\n",
    " 'majority mobile editors':\"{:.1%}\",\n",
    " 'monthly new active editors':\"{:.1f}\",\n",
    " 'second month editor retention':\"{:.1%}\",\n",
    " 'monthly nonbot edits':\"{:.0f}\",\n",
    " 'bot edits':\"{:.1%}\",\n",
    " 'mobile edits':\"{:.1%}\",\n",
    " 'visual edits':\"{:.1%}\",\n",
    " 'anonymous edits':\"{:.1%}\",\n",
    " 'revert rate':\"{:.1%}\",\n",
    " 'edits Gini coefficient':\"{:.2f}\",\n",
    " 'monthly structured discussions messages':\"{:.1f}\",\n",
    " 'content pages':\"{:.0f}\",\n",
    " 'cumulative content edits':\"{:.0f}\",\n",
    " 'edits per content page':\"{:.0f}\",\n",
    " 'url': make_clickable_both,\n",
    "})"
   ]
  },
  {
   "cell_type": "code",
   "execution_count": null,
   "metadata": {},
   "outputs": [],
   "source": [
    "wikis.head()"
   ]
  },
  {
   "cell_type": "code",
   "execution_count": null,
   "metadata": {},
   "outputs": [],
   "source": []
  }
 ],
 "metadata": {
  "kernelspec": {
   "display_name": "Python 3",
   "language": "python",
   "name": "python3"
  },
  "language_info": {
   "codemirror_mode": {
    "name": "ipython",
    "version": 3
   },
   "file_extension": ".py",
   "mimetype": "text/x-python",
   "name": "python",
   "nbconvert_exporter": "python",
   "pygments_lexer": "ipython3",
   "version": "3.7.3"
  }
 },
 "nbformat": 4,
 "nbformat_minor": 4
}
